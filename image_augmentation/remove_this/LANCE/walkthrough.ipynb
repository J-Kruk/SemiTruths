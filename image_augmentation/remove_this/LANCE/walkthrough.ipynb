{
 "cells": [
  {
   "cell_type": "markdown",
   "metadata": {},
   "source": [
    "## Code walkthrough for LANCE: Stress-testing Visual Models by Generating Language-guided Counterfactual Images (NeurIPS 2023)"
   ]
  },
  {
   "cell_type": "code",
   "execution_count": 53,
   "metadata": {},
   "outputs": [
    {
     "name": "stdout",
     "output_type": "stream",
     "text": [
      "The autoreload extension is already loaded. To reload it, use:\n",
      "  %reload_ext autoreload\n"
     ]
    }
   ],
   "source": [
    "%load_ext autoreload\n",
    "%autoreload 2\n",
    "import os\n",
    "import pandas as pd\n",
    "\n",
    "import torch\n",
    "from torchvision.models import resnet50, ResNet50_Weights\n",
    "\n",
    "import lance\n",
    "from lance.utils.misc_utils import *"
   ]
  },
  {
   "cell_type": "markdown",
   "metadata": {},
   "source": [
    "## Generate Language-guided Counterfactual Images"
   ]
  },
  {
   "cell_type": "code",
   "execution_count": 54,
   "metadata": {},
   "outputs": [],
   "source": [
    "# Point to ImageNet validation folder\n",
    "img_dir = 'data/iminigenet'\n",
    "out_dir = 'outputs/walkthrough2'\n",
    "device = torch.device('cuda:0')"
   ]
  },
  {
   "cell_type": "markdown",
   "metadata": {},
   "source": [
    "#### Augment with generated counterfactuals <br/> [Note: Can uncomment run cell below to generate counterfactuals, but ideally follow README instructions and use accelerate to parallelize + significantly speed up generation]"
   ]
  },
  {
   "cell_type": "code",
   "execution_count": 55,
   "metadata": {},
   "outputs": [],
   "source": [
    "# Run LANCE\n",
    "# lance.generate(img_dir, out_dir, device=device)"
   ]
  },
  {
   "cell_type": "markdown",
   "metadata": {},
   "source": [
    "## Analyze sensitivity"
   ]
  },
  {
   "cell_type": "code",
   "execution_count": 56,
   "metadata": {},
   "outputs": [],
   "source": [
    "# Construct IN1K mapping\n",
    "in1k_classlist = 'datasets/in1k_classlist.txt'\n",
    "\n",
    "with open(in1k_classlist, 'r') as f:\n",
    "    in1k_classes = [ln.replace(',', '').replace('\"', '').strip().lower() for ln in f.readlines()]\n",
    "in1k_class_to_idx = {c: i for i, c in enumerate(in1k_classes)}\n",
    "\n",
    "# Load model\n",
    "model = resnet50(weights=ResNet50_Weights.IMAGENET1K_V1).to(device).eval()"
   ]
  },
  {
   "cell_type": "markdown",
   "metadata": {},
   "source": [
    "### Generate augmented dataloader and append predictions"
   ]
  },
  {
   "cell_type": "code",
   "execution_count": 186,
   "metadata": {},
   "outputs": [],
   "source": [
    "%autoreload 2\n",
    "out_dir = 'outputs/HardImageNet'\n",
    "df = lance.inspect(model, out_dir, in1k_class_to_idx, device)"
   ]
  },
  {
   "cell_type": "code",
   "execution_count": 187,
   "metadata": {},
   "outputs": [
    {
     "data": {
      "text/html": [
       "<table border=\"1\" class=\"dataframe\">\n",
       "  <thead>\n",
       "    <tr style=\"text-align: center;\">\n",
       "      <th style=\"text-align:center;\"></th>\n",
       "      <th style=\"text-align:center;\">Image</th>\n",
       "      <th style=\"text-align:center;\">Label</th>\n",
       "      <th style=\"text-align:center;\">Prediction</th>\n",
       "      <th style=\"text-align:center;\">Caption</th>\n",
       "      <th style=\"text-align:center;\">Edited Caption</th>\n",
       "      <th style=\"text-align:center;\">Edit Type</th>\n",
       "      <th style=\"text-align:center;\">LANCE</th>\n",
       "      <th style=\"text-align:center;\">LANCE prediction</th>\n",
       "      <th style=\"text-align:center;\">Sensitivity</th>\n",
       "    </tr>\n",
       "  </thead>\n",
       "  <tbody>\n",
       "    <tr>\n",
       "      <th style=\"text-align:center;\">8</th>\n",
       "      <td align=\"center\"><img src=\"/nethome/vprabhu9/code/LANCE/release/outputs/HardImageNet/balance beam/ILSVRC2012_val_00046766/img.jpeg\" width=\"512\" ></td>\n",
       "      <td align=\"center\">balance beam</td>\n",
       "      <td align=\"center\"><style='text-align:center;'><font color='green'>balance beam</font> (99.90%)<br/>gymnastic horizontal bar (0.05%)<br/>parallel bars (0.03%)<br/>swimming cap (0.01%)<br/>one-piece bathing suit (0.00%)<br/></style></td>\n",
       "      <td align=\"center\">a photo of a young woman balancing on one leg above a balance beam in a gymnastics gym with her arms outstretched</td>\n",
       "      <td align=\"center\">a photo of a young woman balancing on one leg above a balance beam in a gymnastics gym with her arms outstretched <mark>on a snowy day</mark></td>\n",
       "      <td align=\"center\">weather</td>\n",
       "      <td align=\"center\"><img src=\"/nethome/vprabhu9/code/LANCE/release/outputs/HardImageNet/balance beam/ILSVRC2012_val_00046766/on_a_snowy_day.jpeg\" width=\"512\" ></td>\n",
       "      <td align=\"center\"><style='text-align:center;'><font color='green'>balance beam</font> (99.70%)<br/>swimming cap (0.21%)<br/>one-piece bathing suit (0.05%)<br/>tights (0.03%)<br/>gymnastic horizontal bar (0.00%)<br/></style></td>\n",
       "      <td align=\"center\">0.21</td>\n",
       "    </tr>\n",
       "    <tr>\n",
       "      <th style=\"text-align:center;\">7</th>\n",
       "      <td align=\"center\"><img src=\"/nethome/vprabhu9/code/LANCE/release/outputs/HardImageNet/balance beam/ILSVRC2012_val_00046766/img.jpeg\" width=\"512\" ></td>\n",
       "      <td align=\"center\">balance beam</td>\n",
       "      <td align=\"center\"><style='text-align:center;'><font color='green'>balance beam</font> (99.90%)<br/>gymnastic horizontal bar (0.05%)<br/>parallel bars (0.03%)<br/>swimming cap (0.01%)<br/>one-piece bathing suit (0.00%)<br/></style></td>\n",
       "      <td align=\"center\">a photo of a young woman balancing on one leg above a balance beam in a gymnastics gym with her arms outstretched</td>\n",
       "      <td align=\"center\">a photo of a young woman balancing on one leg above a balance beam in a gymnastics gym with her arms outstretched <mark>on a rainy day</mark></td>\n",
       "      <td align=\"center\">weather</td>\n",
       "      <td align=\"center\"><img src=\"/nethome/vprabhu9/code/LANCE/release/outputs/HardImageNet/balance beam/ILSVRC2012_val_00046766/on_a_rainy_day.jpeg\" width=\"512\" ></td>\n",
       "      <td align=\"center\"><style='text-align:center;'><font color='green'>balance beam</font> (99.90%)<br/>gymnastic horizontal bar (0.04%)<br/>parallel bars (0.03%)<br/>swimming cap (0.02%)<br/>one-piece bathing suit (0.01%)<br/></style></td>\n",
       "      <td align=\"center\">0.00</td>\n",
       "    </tr>\n",
       "    <tr>\n",
       "      <th style=\"text-align:center;\">9</th>\n",
       "      <td align=\"center\"><img src=\"/nethome/vprabhu9/code/LANCE/release/outputs/HardImageNet/balance beam/ILSVRC2012_val_00046766/img.jpeg\" width=\"512\" ></td>\n",
       "      <td align=\"center\">balance beam</td>\n",
       "      <td align=\"center\"><style='text-align:center;'><font color='green'>balance beam</font> (99.90%)<br/>gymnastic horizontal bar (0.05%)<br/>parallel bars (0.03%)<br/>swimming cap (0.01%)<br/>one-piece bathing suit (0.00%)<br/></style></td>\n",
       "      <td align=\"center\">a photo of a young woman balancing on one leg above a balance beam in a gymnastics gym with her arms outstretched</td>\n",
       "      <td align=\"center\">a photo of a young woman balancing on one leg above a balance beam in a gymnastics gym with her arms outstretched <mark>and a mat trampoline in the foreground</mark></td>\n",
       "      <td align=\"center\">background</td>\n",
       "      <td align=\"center\"><img src=\"/nethome/vprabhu9/code/LANCE/release/outputs/HardImageNet/balance beam/ILSVRC2012_val_00046766/and_a_mat_trampoline_in_the_foreground.jpeg\" width=\"512\" ></td>\n",
       "      <td align=\"center\"><style='text-align:center;'><font color='green'>balance beam</font> (99.92%)<br/>swimming cap (0.02%)<br/>gymnastic horizontal bar (0.02%)<br/>parallel bars (0.02%)<br/>one-piece bathing suit (0.01%)<br/></style></td>\n",
       "      <td align=\"center\">0.02</td>\n",
       "    </tr>\n",
       "    <tr>\n",
       "      <th style=\"text-align:center;\">6</th>\n",
       "      <td align=\"center\"><img src=\"/nethome/vprabhu9/code/LANCE/release/outputs/HardImageNet/balance beam/ILSVRC2012_val_00041712/img.jpeg\" width=\"512\" ></td>\n",
       "      <td align=\"center\">balance beam</td>\n",
       "      <td align=\"center\"><style='text-align:center;'><font color='green'>balance beam</font> (80.50%)<br/>gymnastic horizontal bar (17.63%)<br/>parallel bars (1.76%)<br/>pole (0.02%)<br/>tennis ball (0.01%)<br/></style></td>\n",
       "      <td align=\"center\">a photo of a woman doing a trick on a beam with a ball in her hand and a black background</td>\n",
       "      <td align=\"center\">a photo of a woman doing a trick on a beam with a ball in her hand and a <mark>tattoo on her arm and a</mark> black background</td>\n",
       "      <td align=\"center\">adjective</td>\n",
       "      <td align=\"center\"><img src=\"/nethome/vprabhu9/code/LANCE/release/outputs/HardImageNet/balance beam/ILSVRC2012_val_00041712/tattoo_on_her_arm_and_a.jpeg\" width=\"512\" ></td>\n",
       "      <td align=\"center\"><style='text-align:center;'><font color='green'>balance beam</font> (86.54%)<br/>gymnastic horizontal bar (12.21%)<br/>parallel bars (1.20%)<br/>pole (0.02%)<br/>snorkel (0.00%)<br/></style></td>\n",
       "      <td align=\"center\">6.04</td>\n",
       "    </tr>\n",
       "    <tr>\n",
       "      <th style=\"text-align:center;\">2</th>\n",
       "      <td align=\"center\"><img src=\"/nethome/vprabhu9/code/LANCE/release/outputs/HardImageNet/balance beam/ILSVRC2012_val_00024511/img.jpeg\" width=\"512\" ></td>\n",
       "      <td align=\"center\">balance beam</td>\n",
       "      <td align=\"center\"><style='text-align:center;'><font color='green'>balance beam</font> (31.61%)<br/>dumbbell (22.04%)<br/>barbell (17.96%)<br/>basketball (10.81%)<br/>gymnastic horizontal bar (5.94%)<br/></style></td>\n",
       "      <td align=\"center\">a photo of a young boy standing near a balance beam in a gym with a woman and a man in the background</td>\n",
       "      <td align=\"center\">a photo of a young boy standing near a balance beam in a gym with a woman and a man in the background <mark>during a thunderstorm</mark></td>\n",
       "      <td align=\"center\">weather</td>\n",
       "      <td align=\"center\"><img src=\"/nethome/vprabhu9/code/LANCE/release/outputs/HardImageNet/balance beam/ILSVRC2012_val_00024511/during_a_thunderstorm.jpeg\" width=\"512\" ></td>\n",
       "      <td align=\"center\"><style='text-align:center;'><font color='green'>balance beam</font> (73.38%)<br/>gymnastic horizontal bar (7.17%)<br/>basketball (3.20%)<br/>parallel bars (3.05%)<br/>ping-pong ball (1.62%)<br/></style></td>\n",
       "      <td align=\"center\">41.78</td>\n",
       "    </tr>\n",
       "    <tr>\n",
       "      <th style=\"text-align:center;\">1</th>\n",
       "      <td align=\"center\"><img src=\"/nethome/vprabhu9/code/LANCE/release/outputs/HardImageNet/balance beam/ILSVRC2012_val_00024511/img.jpeg\" width=\"512\" ></td>\n",
       "      <td align=\"center\">balance beam</td>\n",
       "      <td align=\"center\"><style='text-align:center;'><font color='green'>balance beam</font> (31.61%)<br/>dumbbell (22.04%)<br/>barbell (17.96%)<br/>basketball (10.81%)<br/>gymnastic horizontal bar (5.94%)<br/></style></td>\n",
       "      <td align=\"center\">a photo of a young boy standing near a balance beam in a gym with a woman and a man in the background</td>\n",
       "      <td align=\"center\">a photo of a young boy standing near a balance beam in a gym with a woman and a man in the background <mark>in the snow</mark></td>\n",
       "      <td align=\"center\">weather</td>\n",
       "      <td align=\"center\"><img src=\"/nethome/vprabhu9/code/LANCE/release/outputs/HardImageNet/balance beam/ILSVRC2012_val_00024511/in_the_snow.jpeg\" width=\"512\" ></td>\n",
       "      <td align=\"center\"><style='text-align:center;'><font color='green'>balance beam</font> (68.62%)<br/>parallel bars (8.18%)<br/>gymnastic horizontal bar (7.32%)<br/>barbell (1.32%)<br/>stretcher (1.30%)<br/></style></td>\n",
       "      <td align=\"center\">37.02</td>\n",
       "    </tr>\n",
       "    <tr>\n",
       "      <th style=\"text-align:center;\">0</th>\n",
       "      <td align=\"center\"><img src=\"/nethome/vprabhu9/code/LANCE/release/outputs/HardImageNet/balance beam/ILSVRC2012_val_00024511/img.jpeg\" width=\"512\" ></td>\n",
       "      <td align=\"center\">balance beam</td>\n",
       "      <td align=\"center\"><style='text-align:center;'><font color='green'>balance beam</font> (31.61%)<br/>dumbbell (22.04%)<br/>barbell (17.96%)<br/>basketball (10.81%)<br/>gymnastic horizontal bar (5.94%)<br/></style></td>\n",
       "      <td align=\"center\">a photo of a young boy standing near a balance beam in a gym with a woman and a man in the background</td>\n",
       "      <td align=\"center\">a photo of a young boy standing near a balance beam in a gym with a woman and a man in the background <mark>in the rain</mark></td>\n",
       "      <td align=\"center\">weather</td>\n",
       "      <td align=\"center\"><img src=\"/nethome/vprabhu9/code/LANCE/release/outputs/HardImageNet/balance beam/ILSVRC2012_val_00024511/in_the_rain.jpeg\" width=\"512\" ></td>\n",
       "      <td align=\"center\"><style='text-align:center;'><font color='green'>balance beam</font> (64.44%)<br/>basketball (6.26%)<br/>barbell (5.92%)<br/>gymnastic horizontal bar (5.15%)<br/>parallel bars (3.59%)<br/></style></td>\n",
       "      <td align=\"center\">32.83</td>\n",
       "    </tr>\n",
       "    <tr>\n",
       "      <th style=\"text-align:center;\">5</th>\n",
       "      <td align=\"center\"><img src=\"/nethome/vprabhu9/code/LANCE/release/outputs/HardImageNet/balance beam/ILSVRC2012_val_00024511/img.jpeg\" width=\"512\" ></td>\n",
       "      <td align=\"center\">balance beam</td>\n",
       "      <td align=\"center\"><style='text-align:center;'><font color='green'>balance beam</font> (31.61%)<br/>dumbbell (22.04%)<br/>barbell (17.96%)<br/>basketball (10.81%)<br/>gymnastic horizontal bar (5.94%)<br/></style></td>\n",
       "      <td align=\"center\">a photo of a young boy standing near a balance beam in a gym with a woman and a man in the background</td>\n",
       "      <td align=\"center\">a photo of a young boy standing near a balance beam in a gym with a woman and a man in the background <mark>on a snowy winter day</mark></td>\n",
       "      <td align=\"center\">weather</td>\n",
       "      <td align=\"center\"><img src=\"/nethome/vprabhu9/code/LANCE/release/outputs/HardImageNet/balance beam/ILSVRC2012_val_00024511/on_a_snowy_winter_day.jpeg\" width=\"512\" ></td>\n",
       "      <td align=\"center\"><style='text-align:center;'><font color='green'>balance beam</font> (17.79%)<br/>stretcher (14.51%)<br/>ski (6.79%)<br/>gymnastic horizontal bar (4.92%)<br/>barbell (4.27%)<br/></style></td>\n",
       "      <td align=\"center\">13.82</td>\n",
       "    </tr>\n",
       "    <tr>\n",
       "      <th style=\"text-align:center;\">4</th>\n",
       "      <td align=\"center\"><img src=\"/nethome/vprabhu9/code/LANCE/release/outputs/HardImageNet/balance beam/ILSVRC2012_val_00024511/img.jpeg\" width=\"512\" ></td>\n",
       "      <td align=\"center\">balance beam</td>\n",
       "      <td align=\"center\"><style='text-align:center;'><font color='green'>balance beam</font> (31.61%)<br/>dumbbell (22.04%)<br/>barbell (17.96%)<br/>basketball (10.81%)<br/>gymnastic horizontal bar (5.94%)<br/></style></td>\n",
       "      <td align=\"center\">a photo of a young boy standing near a balance beam in a gym with a woman and a man in the background</td>\n",
       "      <td align=\"center\">a photo of a young boy standing near a balance beam in a gym with a woman and a man in the background <mark>during a hailstorm</mark></td>\n",
       "      <td align=\"center\">weather</td>\n",
       "      <td align=\"center\"><img src=\"/nethome/vprabhu9/code/LANCE/release/outputs/HardImageNet/balance beam/ILSVRC2012_val_00024511/during_a_hailstorm.jpeg\" width=\"512\" ></td>\n",
       "      <td align=\"center\"><style='text-align:center;'><font color='green'>balance beam</font> (44.86%)<br/>barbell (7.55%)<br/>basketball (6.65%)<br/>pool table (6.13%)<br/>ping-pong ball (5.57%)<br/></style></td>\n",
       "      <td align=\"center\">13.25</td>\n",
       "    </tr>\n",
       "    <tr>\n",
       "      <th style=\"text-align:center;\">3</th>\n",
       "      <td align=\"center\"><img src=\"/nethome/vprabhu9/code/LANCE/release/outputs/HardImageNet/balance beam/ILSVRC2012_val_00024511/img.jpeg\" width=\"512\" ></td>\n",
       "      <td align=\"center\">balance beam</td>\n",
       "      <td align=\"center\"><style='text-align:center;'><font color='green'>balance beam</font> (31.61%)<br/>dumbbell (22.04%)<br/>barbell (17.96%)<br/>basketball (10.81%)<br/>gymnastic horizontal bar (5.94%)<br/></style></td>\n",
       "      <td align=\"center\">a photo of a young boy standing near a balance beam in a gym with a woman and a man in the background</td>\n",
       "      <td align=\"center\">a photo of a young boy standing near a balance beam in a gym with a woman and a man in the background <mark>during a blizzard</mark></td>\n",
       "      <td align=\"center\">weather</td>\n",
       "      <td align=\"center\"><img src=\"/nethome/vprabhu9/code/LANCE/release/outputs/HardImageNet/balance beam/ILSVRC2012_val_00024511/during_a_blizzard.jpeg\" width=\"512\" ></td>\n",
       "      <td align=\"center\"><style='text-align:center;'><font color='green'>balance beam</font> (23.30%)<br/>parallel bars (22.85%)<br/>stretcher (20.48%)<br/>gymnastic horizontal bar (9.18%)<br/>bobsleigh (4.69%)<br/></style></td>\n",
       "      <td align=\"center\">8.31</td>\n",
       "    </tr>\n",
       "  </tbody>\n",
       "</table>"
      ],
      "text/plain": [
       "<IPython.core.display.HTML object>"
      ]
     },
     "metadata": {},
     "output_type": "display_data"
    }
   ],
   "source": [
    "display(HTML(render_as_html(df.head(n=10), sort_by=[\"Label\", \"Image\", \"Edit Type\", \"Sensitivity\"])))"
   ]
  },
  {
   "cell_type": "markdown",
   "metadata": {},
   "source": [
    "#### Derive class-level insights by clustering common edits"
   ]
  },
  {
   "cell_type": "code",
   "execution_count": 188,
   "metadata": {},
   "outputs": [
    {
     "name": "stdout",
     "output_type": "stream",
     "text": [
      "=>Clustering edits for balance beam\n",
      "=>Clustering edits for baseball player\n",
      "=>Clustering edits for dog sled\n",
      "=>Clustering edits for gymnastic horizontal bar\n",
      "=>Clustering edits for hockey puck\n",
      "=>Clustering edits for howler monkey\n",
      "=>Clustering edits for keyboard space bar\n",
      "=>Clustering edits for miniskirt\n",
      "=>Clustering edits for patio\n",
      "=>Clustering edits for seat belt\n",
      "=>Clustering edits for ski\n",
      "=>Clustering edits for snorkel\n",
      "=>Clustering edits for sunglasses\n",
      "=>Clustering edits for swimming cap\n",
      "=>Clustering edits for volleyball\n"
     ]
    }
   ],
   "source": [
    "%autoreload 2\n",
    "df_cluster = lance.cluster_class_edits(df, device)"
   ]
  },
  {
   "cell_type": "code",
   "execution_count": 191,
   "metadata": {},
   "outputs": [
    {
     "data": {
      "text/plain": [
       "'outputs/HardImageNet/balance beam/ILSVRC2012_val_00024511/img.jpeg'"
      ]
     },
     "execution_count": 191,
     "metadata": {},
     "output_type": "execute_result"
    }
   ],
   "source": [
    "df_cluster['Image'][0]"
   ]
  },
  {
   "cell_type": "markdown",
   "metadata": {},
   "source": [
    "## Visualize top-3 most sensitive clusters per class"
   ]
  },
  {
   "cell_type": "code",
   "execution_count": 195,
   "metadata": {},
   "outputs": [
    {
     "data": {
      "text/markdown": [
       "# Class: balance beam"
      ],
      "text/plain": [
       "<IPython.core.display.Markdown object>"
      ]
     },
     "metadata": {},
     "output_type": "display_data"
    },
    {
     "data": {
      "text/markdown": [
       "## Cluster 4: Sensitivity=32.87%"
      ],
      "text/plain": [
       "<IPython.core.display.Markdown object>"
      ]
     },
     "metadata": {},
     "output_type": "display_data"
    },
    {
     "data": {
      "text/html": [
       "<table border=\"1\" class=\"dataframe\">\n",
       "  <thead>\n",
       "    <tr style=\"text-align: center;\">\n",
       "      <th style=\"text-align:center;\"></th>\n",
       "      <th style=\"text-align:center;\">Image</th>\n",
       "      <th style=\"text-align:center;\">Label</th>\n",
       "      <th style=\"text-align:center;\">Prediction</th>\n",
       "      <th style=\"text-align:center;\">Caption</th>\n",
       "      <th style=\"text-align:center;\">Edited Caption</th>\n",
       "      <th style=\"text-align:center;\">Edit Type</th>\n",
       "      <th style=\"text-align:center;\">LANCE</th>\n",
       "      <th style=\"text-align:center;\">LANCE prediction</th>\n",
       "      <th style=\"text-align:center;\">Sensitivity</th>\n",
       "    </tr>\n",
       "  </thead>\n",
       "  <tbody>\n",
       "    <tr>\n",
       "      <th style=\"text-align:center;\">77</th>\n",
       "      <td align=\"center\"><img src=\"/nethome/vprabhu9/code/LANCE/release/outputs/HardImageNet/balance beam/ILSVRC2012_val_00049222/img.jpeg\" width=\"512\" ></td>\n",
       "      <td align=\"center\">balance beam</td>\n",
       "      <td align=\"center\"><style='text-align:center;'>parallel bars (83.74%)<br/>swing (9.69%)<br/>guillotine (1.95%)<br/>gymnastic horizontal bar (1.55%)<br/>baluster / handrail (1.31%)<br/></style></td>\n",
       "      <td align=\"center\">a photo of a little girl standing on a wooden balance beam in front of a wooden deck and stairs</td>\n",
       "      <td align=\"center\">a photo of a little girl <mark>and a little boy</mark> standing on a wooden balance beam in front of a wooden deck and stairs</td>\n",
       "      <td align=\"center\">subject</td>\n",
       "      <td align=\"center\"><img src=\"/nethome/vprabhu9/code/LANCE/release/outputs/HardImageNet/balance beam/ILSVRC2012_val_00049222/and_a_little_boy.jpeg\" width=\"512\" ></td>\n",
       "      <td align=\"center\"><style='text-align:center;'>baluster / handrail (42.87%)<br/>parallel bars (35.93%)<br/><font color='green'>balance beam</font> (5.86%)<br/>swing (1.46%)<br/>hoop skirt (1.44%)<br/></style></td>\n",
       "      <td align=\"center\">5.86</td>\n",
       "    </tr>\n",
       "    <tr>\n",
       "      <th style=\"text-align:center;\">87</th>\n",
       "      <td align=\"center\"><img src=\"/nethome/vprabhu9/code/LANCE/release/outputs/HardImageNet/balance beam/ILSVRC2012_val_00028173/img.jpeg\" width=\"512\" ></td>\n",
       "      <td align=\"center\">balance beam</td>\n",
       "      <td align=\"center\"><style='text-align:center;'><font color='green'>balance beam</font> (72.55%)<br/>gymnastic horizontal bar (1.77%)<br/>barbell (1.60%)<br/>sarong (1.44%)<br/>bedlington terrier (1.09%)<br/></style></td>\n",
       "      <td align=\"center\">a photo of a little girl standing on a pink balance beam in a room with a green wall</td>\n",
       "      <td align=\"center\">a photo of <mark>a little boy and</mark> a little girl standing on a pink balance beam in a room with a green wall</td>\n",
       "      <td align=\"center\">subject</td>\n",
       "      <td align=\"center\"><img src=\"/nethome/vprabhu9/code/LANCE/release/outputs/HardImageNet/balance beam/ILSVRC2012_val_00028173/a_little_boy_and.jpeg\" width=\"512\" ></td>\n",
       "      <td align=\"center\"><style='text-align:center;'><font color='green'>balance beam</font> (35.45%)<br/>gymnastic horizontal bar (9.04%)<br/>library (7.35%)<br/>diaper (7.14%)<br/>shoe store (4.11%)<br/></style></td>\n",
       "      <td align=\"center\">37.10</td>\n",
       "    </tr>\n",
       "    <tr>\n",
       "      <th style=\"text-align:center;\">88</th>\n",
       "      <td align=\"center\"><img src=\"/nethome/vprabhu9/code/LANCE/release/outputs/HardImageNet/balance beam/ILSVRC2012_val_00028173/img.jpeg\" width=\"512\" ></td>\n",
       "      <td align=\"center\">balance beam</td>\n",
       "      <td align=\"center\"><style='text-align:center;'><font color='green'>balance beam</font> (72.55%)<br/>gymnastic horizontal bar (1.77%)<br/>barbell (1.60%)<br/>sarong (1.44%)<br/>bedlington terrier (1.09%)<br/></style></td>\n",
       "      <td align=\"center\">a photo of a little girl standing on a pink balance beam in a room with a green wall</td>\n",
       "      <td align=\"center\">a photo of a little girl <mark>and her best friend</mark> standing on a pink balance beam in a room with a green wall</td>\n",
       "      <td align=\"center\">subject</td>\n",
       "      <td align=\"center\"><img src=\"/nethome/vprabhu9/code/LANCE/release/outputs/HardImageNet/balance beam/ILSVRC2012_val_00028173/and_her_best_friend.jpeg\" width=\"512\" ></td>\n",
       "      <td align=\"center\"><style='text-align:center;'><font color='green'>balance beam</font> (32.32%)<br/>miniskirt (12.89%)<br/>gymnastic horizontal bar (11.84%)<br/>racket (4.19%)<br/>hair wig (2.89%)<br/></style></td>\n",
       "      <td align=\"center\">40.23</td>\n",
       "    </tr>\n",
       "    <tr>\n",
       "      <th style=\"text-align:center;\">89</th>\n",
       "      <td align=\"center\"><img src=\"/nethome/vprabhu9/code/LANCE/release/outputs/HardImageNet/balance beam/ILSVRC2012_val_00028173/img.jpeg\" width=\"512\" ></td>\n",
       "      <td align=\"center\">balance beam</td>\n",
       "      <td align=\"center\"><style='text-align:center;'><font color='green'>balance beam</font> (72.55%)<br/>gymnastic horizontal bar (1.77%)<br/>barbell (1.60%)<br/>sarong (1.44%)<br/>bedlington terrier (1.09%)<br/></style></td>\n",
       "      <td align=\"center\">a photo of a little girl standing on a pink balance beam in a room with a green wall</td>\n",
       "      <td align=\"center\">a photo of a little girl <mark>and her brother</mark> standing on a pink balance beam in a room with a green wall</td>\n",
       "      <td align=\"center\">subject</td>\n",
       "      <td align=\"center\"><img src=\"/nethome/vprabhu9/code/LANCE/release/outputs/HardImageNet/balance beam/ILSVRC2012_val_00028173/and_her_brother.jpeg\" width=\"512\" ></td>\n",
       "      <td align=\"center\"><style='text-align:center;'><font color='green'>balance beam</font> (31.08%)<br/>gymnastic horizontal bar (18.43%)<br/>barbell (5.41%)<br/>miniskirt (5.26%)<br/>racket (4.10%)<br/></style></td>\n",
       "      <td align=\"center\">41.47</td>\n",
       "    </tr>\n",
       "    <tr>\n",
       "      <th style=\"text-align:center;\">92</th>\n",
       "      <td align=\"center\"><img src=\"/nethome/vprabhu9/code/LANCE/release/outputs/HardImageNet/balance beam/ILSVRC2012_val_00028173/img.jpeg\" width=\"512\" ></td>\n",
       "      <td align=\"center\">balance beam</td>\n",
       "      <td align=\"center\"><style='text-align:center;'><font color='green'>balance beam</font> (72.55%)<br/>gymnastic horizontal bar (1.77%)<br/>barbell (1.60%)<br/>sarong (1.44%)<br/>bedlington terrier (1.09%)<br/></style></td>\n",
       "      <td align=\"center\">a photo of a little girl standing on a pink balance beam in a room with a green wall</td>\n",
       "      <td align=\"center\">a photo of a little girl <mark>and her cousin</mark> standing on a pink balance beam in a room with a green wall</td>\n",
       "      <td align=\"center\">subject</td>\n",
       "      <td align=\"center\"><img src=\"/nethome/vprabhu9/code/LANCE/release/outputs/HardImageNet/balance beam/ILSVRC2012_val_00028173/and_her_cousin.jpeg\" width=\"512\" ></td>\n",
       "      <td align=\"center\"><style='text-align:center;'><font color='green'>balance beam</font> (32.85%)<br/>gymnastic horizontal bar (18.36%)<br/>miniskirt (10.31%)<br/>library (3.40%)<br/>shoe store (1.98%)<br/></style></td>\n",
       "      <td align=\"center\">39.70</td>\n",
       "    </tr>\n",
       "  </tbody>\n",
       "</table>"
      ],
      "text/plain": [
       "<IPython.core.display.HTML object>"
      ]
     },
     "metadata": {},
     "output_type": "display_data"
    },
    {
     "data": {
      "text/markdown": [
       "## Cluster 6: Sensitivity=18.66%"
      ],
      "text/plain": [
       "<IPython.core.display.Markdown object>"
      ]
     },
     "metadata": {},
     "output_type": "display_data"
    },
    {
     "data": {
      "text/html": [
       "<table border=\"1\" class=\"dataframe\">\n",
       "  <thead>\n",
       "    <tr style=\"text-align: center;\">\n",
       "      <th style=\"text-align:center;\"></th>\n",
       "      <th style=\"text-align:center;\">Image</th>\n",
       "      <th style=\"text-align:center;\">Label</th>\n",
       "      <th style=\"text-align:center;\">Prediction</th>\n",
       "      <th style=\"text-align:center;\">Caption</th>\n",
       "      <th style=\"text-align:center;\">Edited Caption</th>\n",
       "      <th style=\"text-align:center;\">Edit Type</th>\n",
       "      <th style=\"text-align:center;\">LANCE</th>\n",
       "      <th style=\"text-align:center;\">LANCE prediction</th>\n",
       "      <th style=\"text-align:center;\">Sensitivity</th>\n",
       "    </tr>\n",
       "  </thead>\n",
       "  <tbody>\n",
       "    <tr>\n",
       "      <th style=\"text-align:center;\">9</th>\n",
       "      <td align=\"center\"><img src=\"/nethome/vprabhu9/code/LANCE/release/outputs/HardImageNet/balance beam/ILSVRC2012_val_00046766/img.jpeg\" width=\"512\" ></td>\n",
       "      <td align=\"center\">balance beam</td>\n",
       "      <td align=\"center\"><style='text-align:center;'><font color='green'>balance beam</font> (99.90%)<br/>gymnastic horizontal bar (0.05%)<br/>parallel bars (0.03%)<br/>swimming cap (0.01%)<br/>one-piece bathing suit (0.00%)<br/></style></td>\n",
       "      <td align=\"center\">a photo of a young woman balancing on one leg above a balance beam in a gymnastics gym with her arms outstretched</td>\n",
       "      <td align=\"center\">a photo of a young woman balancing on one leg above a balance beam in a gymnastics gym with her arms outstretched <mark>and a mat trampoline in the foreground</mark></td>\n",
       "      <td align=\"center\">background</td>\n",
       "      <td align=\"center\"><img src=\"/nethome/vprabhu9/code/LANCE/release/outputs/HardImageNet/balance beam/ILSVRC2012_val_00046766/and_a_mat_trampoline_in_the_foreground.jpeg\" width=\"512\" ></td>\n",
       "      <td align=\"center\"><style='text-align:center;'><font color='green'>balance beam</font> (99.92%)<br/>swimming cap (0.02%)<br/>gymnastic horizontal bar (0.02%)<br/>parallel bars (0.02%)<br/>one-piece bathing suit (0.01%)<br/></style></td>\n",
       "      <td align=\"center\">0.02</td>\n",
       "    </tr>\n",
       "    <tr>\n",
       "      <th style=\"text-align:center;\">20</th>\n",
       "      <td align=\"center\"><img src=\"/nethome/vprabhu9/code/LANCE/release/outputs/HardImageNet/balance beam/ILSVRC2012_val_00015365/img.jpeg\" width=\"512\" ></td>\n",
       "      <td align=\"center\">balance beam</td>\n",
       "      <td align=\"center\"><style='text-align:center;'>gymnastic horizontal bar (52.06%)<br/><font color='green'>balance beam</font> (32.26%)<br/>parallel bars (15.66%)<br/>pole (0.01%)<br/>barbell (0.00%)<br/></style></td>\n",
       "      <td align=\"center\">a photo of a person doing a trick on a balance beam on a balance beam with a black background</td>\n",
       "      <td align=\"center\">a photo of a person doing a trick on a balance beam on a balance beam with a black <mark>and green</mark> background</td>\n",
       "      <td align=\"center\">weather</td>\n",
       "      <td align=\"center\"><img src=\"/nethome/vprabhu9/code/LANCE/release/outputs/HardImageNet/balance beam/ILSVRC2012_val_00015365/and_green.jpeg\" width=\"512\" ></td>\n",
       "      <td align=\"center\"><style='text-align:center;'><font color='green'>balance beam</font> (73.59%)<br/>gymnastic horizontal bar (7.62%)<br/>banded gecko (3.38%)<br/>parallel bars (2.25%)<br/>vine snake (1.24%)<br/></style></td>\n",
       "      <td align=\"center\">41.33</td>\n",
       "    </tr>\n",
       "    <tr>\n",
       "      <th style=\"text-align:center;\">21</th>\n",
       "      <td align=\"center\"><img src=\"/nethome/vprabhu9/code/LANCE/release/outputs/HardImageNet/balance beam/ILSVRC2012_val_00015365/img.jpeg\" width=\"512\" ></td>\n",
       "      <td align=\"center\">balance beam</td>\n",
       "      <td align=\"center\"><style='text-align:center;'>gymnastic horizontal bar (52.06%)<br/><font color='green'>balance beam</font> (32.26%)<br/>parallel bars (15.66%)<br/>pole (0.01%)<br/>barbell (0.00%)<br/></style></td>\n",
       "      <td align=\"center\">a photo of a person doing a trick on a balance beam on a balance beam with a black background</td>\n",
       "      <td align=\"center\">a photo of a person doing a trick on a balance beam on a balance beam with a black <mark>and red</mark> background</td>\n",
       "      <td align=\"center\">weather</td>\n",
       "      <td align=\"center\"><img src=\"/nethome/vprabhu9/code/LANCE/release/outputs/HardImageNet/balance beam/ILSVRC2012_val_00015365/and_red.jpeg\" width=\"512\" ></td>\n",
       "      <td align=\"center\"><style='text-align:center;'><font color='green'>balance beam</font> (72.12%)<br/>gymnastic horizontal bar (24.73%)<br/>parallel bars (2.97%)<br/>pole (0.06%)<br/>racket (0.02%)<br/></style></td>\n",
       "      <td align=\"center\">39.87</td>\n",
       "    </tr>\n",
       "    <tr>\n",
       "      <th style=\"text-align:center;\">22</th>\n",
       "      <td align=\"center\"><img src=\"/nethome/vprabhu9/code/LANCE/release/outputs/HardImageNet/balance beam/ILSVRC2012_val_00015365/img.jpeg\" width=\"512\" ></td>\n",
       "      <td align=\"center\">balance beam</td>\n",
       "      <td align=\"center\"><style='text-align:center;'>gymnastic horizontal bar (52.06%)<br/><font color='green'>balance beam</font> (32.26%)<br/>parallel bars (15.66%)<br/>pole (0.01%)<br/>barbell (0.00%)<br/></style></td>\n",
       "      <td align=\"center\">a photo of a person doing a trick on a balance beam on a balance beam with a black background</td>\n",
       "      <td align=\"center\">a photo of a person doing a trick on a balance beam on a balance beam with a black <mark>and pink</mark> background</td>\n",
       "      <td align=\"center\">weather</td>\n",
       "      <td align=\"center\"><img src=\"/nethome/vprabhu9/code/LANCE/release/outputs/HardImageNet/balance beam/ILSVRC2012_val_00015365/and_pink.jpeg\" width=\"512\" ></td>\n",
       "      <td align=\"center\"><style='text-align:center;'><font color='green'>balance beam</font> (87.58%)<br/>gymnastic horizontal bar (8.17%)<br/>parallel bars (4.25%)<br/>barbell (0.00%)<br/>unicycle (0.00%)<br/></style></td>\n",
       "      <td align=\"center\">55.32</td>\n",
       "    </tr>\n",
       "    <tr>\n",
       "      <th style=\"text-align:center;\">11</th>\n",
       "      <td align=\"center\"><img src=\"/nethome/vprabhu9/code/LANCE/release/outputs/HardImageNet/balance beam/ILSVRC2012_val_00007181/img.jpeg\" width=\"512\" ></td>\n",
       "      <td align=\"center\">balance beam</td>\n",
       "      <td align=\"center\"><style='text-align:center;'><font color='green'>balance beam</font> (97.86%)<br/>tights (0.66%)<br/>swimming cap (0.59%)<br/>one-piece bathing suit (0.40%)<br/>gymnastic horizontal bar (0.22%)<br/></style></td>\n",
       "      <td align=\"center\">a photo of a woman on a balance beam with her hands raised on a balance beam at a gymnastics competition</td>\n",
       "      <td align=\"center\">a photo of a <mark>young</mark> woman on a balance beam with her hands raised on a balance beam at a gymnastics competition</td>\n",
       "      <td align=\"center\">adjective</td>\n",
       "      <td align=\"center\"><img src=\"/nethome/vprabhu9/code/LANCE/release/outputs/HardImageNet/balance beam/ILSVRC2012_val_00007181/young.jpeg\" width=\"512\" ></td>\n",
       "      <td align=\"center\"><style='text-align:center;'><font color='green'>balance beam</font> (99.86%)<br/>swimming cap (0.05%)<br/>tights (0.04%)<br/>one-piece bathing suit (0.03%)<br/>gymnastic horizontal bar (0.02%)<br/></style></td>\n",
       "      <td align=\"center\">2.00</td>\n",
       "    </tr>\n",
       "  </tbody>\n",
       "</table>"
      ],
      "text/plain": [
       "<IPython.core.display.HTML object>"
      ]
     },
     "metadata": {},
     "output_type": "display_data"
    },
    {
     "data": {
      "text/markdown": [
       "## Cluster 5: Sensitivity=16.53%"
      ],
      "text/plain": [
       "<IPython.core.display.Markdown object>"
      ]
     },
     "metadata": {},
     "output_type": "display_data"
    },
    {
     "data": {
      "text/html": [
       "<table border=\"1\" class=\"dataframe\">\n",
       "  <thead>\n",
       "    <tr style=\"text-align: center;\">\n",
       "      <th style=\"text-align:center;\"></th>\n",
       "      <th style=\"text-align:center;\">Image</th>\n",
       "      <th style=\"text-align:center;\">Label</th>\n",
       "      <th style=\"text-align:center;\">Prediction</th>\n",
       "      <th style=\"text-align:center;\">Caption</th>\n",
       "      <th style=\"text-align:center;\">Edited Caption</th>\n",
       "      <th style=\"text-align:center;\">Edit Type</th>\n",
       "      <th style=\"text-align:center;\">LANCE</th>\n",
       "      <th style=\"text-align:center;\">LANCE prediction</th>\n",
       "      <th style=\"text-align:center;\">Sensitivity</th>\n",
       "    </tr>\n",
       "  </thead>\n",
       "  <tbody>\n",
       "    <tr>\n",
       "      <th style=\"text-align:center;\">78</th>\n",
       "      <td align=\"center\"><img src=\"/nethome/vprabhu9/code/LANCE/release/outputs/HardImageNet/balance beam/ILSVRC2012_val_00049222/img.jpeg\" width=\"512\" ></td>\n",
       "      <td align=\"center\">balance beam</td>\n",
       "      <td align=\"center\"><style='text-align:center;'>parallel bars (83.74%)<br/>swing (9.69%)<br/>guillotine (1.95%)<br/>gymnastic horizontal bar (1.55%)<br/>baluster / handrail (1.31%)<br/></style></td>\n",
       "      <td align=\"center\">a photo of a little girl standing on a wooden balance beam in front of a wooden deck and stairs</td>\n",
       "      <td align=\"center\">a photo of a little girl <mark>and her brother and her friend</mark> standing on a wooden balance beam in front of a wooden deck and stairs</td>\n",
       "      <td align=\"center\">subject</td>\n",
       "      <td align=\"center\"><img src=\"/nethome/vprabhu9/code/LANCE/release/outputs/HardImageNet/balance beam/ILSVRC2012_val_00049222/and_her_brother_and_her_friend.jpeg\" width=\"512\" ></td>\n",
       "      <td align=\"center\"><style='text-align:center;'>baluster / handrail (66.49%)<br/>swing (12.03%)<br/>parallel bars (6.95%)<br/>suspension bridge (2.52%)<br/>guillotine (2.44%)<br/></style></td>\n",
       "      <td align=\"center\">0.00</td>\n",
       "    </tr>\n",
       "    <tr>\n",
       "      <th style=\"text-align:center;\">90</th>\n",
       "      <td align=\"center\"><img src=\"/nethome/vprabhu9/code/LANCE/release/outputs/HardImageNet/balance beam/ILSVRC2012_val_00028173/img.jpeg\" width=\"512\" ></td>\n",
       "      <td align=\"center\">balance beam</td>\n",
       "      <td align=\"center\"><style='text-align:center;'><font color='green'>balance beam</font> (72.55%)<br/>gymnastic horizontal bar (1.77%)<br/>barbell (1.60%)<br/>sarong (1.44%)<br/>bedlington terrier (1.09%)<br/></style></td>\n",
       "      <td align=\"center\">a photo of a little girl standing on a pink balance beam in a room with a green wall</td>\n",
       "      <td align=\"center\">a photo of a little girl <mark>and her siblings</mark> standing on a pink balance beam in a room with a green wall</td>\n",
       "      <td align=\"center\">subject</td>\n",
       "      <td align=\"center\"><img src=\"/nethome/vprabhu9/code/LANCE/release/outputs/HardImageNet/balance beam/ILSVRC2012_val_00028173/and_her_siblings.jpeg\" width=\"512\" ></td>\n",
       "      <td align=\"center\"><style='text-align:center;'><font color='green'>balance beam</font> (47.98%)<br/>library (9.11%)<br/>gymnastic horizontal bar (5.67%)<br/>balloon (4.79%)<br/>mobile phone (2.89%)<br/></style></td>\n",
       "      <td align=\"center\">24.57</td>\n",
       "    </tr>\n",
       "    <tr>\n",
       "      <th style=\"text-align:center;\">91</th>\n",
       "      <td align=\"center\"><img src=\"/nethome/vprabhu9/code/LANCE/release/outputs/HardImageNet/balance beam/ILSVRC2012_val_00028173/img.jpeg\" width=\"512\" ></td>\n",
       "      <td align=\"center\">balance beam</td>\n",
       "      <td align=\"center\"><style='text-align:center;'><font color='green'>balance beam</font> (72.55%)<br/>gymnastic horizontal bar (1.77%)<br/>barbell (1.60%)<br/>sarong (1.44%)<br/>bedlington terrier (1.09%)<br/></style></td>\n",
       "      <td align=\"center\">a photo of a little girl standing on a pink balance beam in a room with a green wall</td>\n",
       "      <td align=\"center\">a photo of a little girl <mark>and her classmates</mark> standing on a pink balance beam in a room with a green wall</td>\n",
       "      <td align=\"center\">subject</td>\n",
       "      <td align=\"center\"><img src=\"/nethome/vprabhu9/code/LANCE/release/outputs/HardImageNet/balance beam/ILSVRC2012_val_00028173/and_her_classmates.jpeg\" width=\"512\" ></td>\n",
       "      <td align=\"center\"><style='text-align:center;'><font color='green'>balance beam</font> (47.52%)<br/>library (13.86%)<br/>shoe store (3.13%)<br/>mobile phone (2.91%)<br/>gymnastic horizontal bar (2.09%)<br/></style></td>\n",
       "      <td align=\"center\">25.03</td>\n",
       "    </tr>\n",
       "  </tbody>\n",
       "</table>"
      ],
      "text/plain": [
       "<IPython.core.display.HTML object>"
      ]
     },
     "metadata": {},
     "output_type": "display_data"
    },
    {
     "name": "stdout",
     "output_type": "stream",
     "text": [
      "\n",
      "\n",
      "\n",
      "\n"
     ]
    },
    {
     "data": {
      "text/markdown": [
       "# Class: baseball player"
      ],
      "text/plain": [
       "<IPython.core.display.Markdown object>"
      ]
     },
     "metadata": {},
     "output_type": "display_data"
    },
    {
     "data": {
      "text/markdown": [
       "## Cluster 3: Sensitivity=23.69%"
      ],
      "text/plain": [
       "<IPython.core.display.Markdown object>"
      ]
     },
     "metadata": {},
     "output_type": "display_data"
    },
    {
     "data": {
      "text/html": [
       "<table border=\"1\" class=\"dataframe\">\n",
       "  <thead>\n",
       "    <tr style=\"text-align: center;\">\n",
       "      <th style=\"text-align:center;\"></th>\n",
       "      <th style=\"text-align:center;\">Image</th>\n",
       "      <th style=\"text-align:center;\">Label</th>\n",
       "      <th style=\"text-align:center;\">Prediction</th>\n",
       "      <th style=\"text-align:center;\">Caption</th>\n",
       "      <th style=\"text-align:center;\">Edited Caption</th>\n",
       "      <th style=\"text-align:center;\">Edit Type</th>\n",
       "      <th style=\"text-align:center;\">LANCE</th>\n",
       "      <th style=\"text-align:center;\">LANCE prediction</th>\n",
       "      <th style=\"text-align:center;\">Sensitivity</th>\n",
       "    </tr>\n",
       "  </thead>\n",
       "  <tbody>\n",
       "    <tr>\n",
       "      <th style=\"text-align:center;\">162</th>\n",
       "      <td align=\"center\"><img src=\"/nethome/vprabhu9/code/LANCE/release/outputs/HardImageNet/baseball player/ILSVRC2012_val_00037286/img.jpeg\" width=\"512\" ></td>\n",
       "      <td align=\"center\">baseball player</td>\n",
       "      <td align=\"center\"><style='text-align:center;'><font color='green'>baseball player</font> (94.35%)<br/>baseball (5.63%)<br/>racket (0.01%)<br/>football helmet (0.00%)<br/>knee pad (0.00%)<br/></style></td>\n",
       "      <td align=\"center\">a photo of a baseball player holding a bat on top of a baseball field next to a crowd</td>\n",
       "      <td align=\"center\">a photo of a baseball player holding a bat on top of a baseball field next to a crowd <mark>on a foggy day</mark></td>\n",
       "      <td align=\"center\">weather</td>\n",
       "      <td align=\"center\"><img src=\"/nethome/vprabhu9/code/LANCE/release/outputs/HardImageNet/baseball player/ILSVRC2012_val_00037286/on_a_foggy_day.jpeg\" width=\"512\" ></td>\n",
       "      <td align=\"center\"><style='text-align:center;'>baseball (81.28%)<br/>ping-pong ball (16.48%)<br/><font color='green'>baseball player</font> (1.19%)<br/>tennis ball (0.23%)<br/>rugby ball (0.23%)<br/></style></td>\n",
       "      <td align=\"center\">93.16</td>\n",
       "    </tr>\n",
       "    <tr>\n",
       "      <th style=\"text-align:center;\">160</th>\n",
       "      <td align=\"center\"><img src=\"/nethome/vprabhu9/code/LANCE/release/outputs/HardImageNet/baseball player/ILSVRC2012_val_00027923/img.jpeg\" width=\"512\" ></td>\n",
       "      <td align=\"center\">baseball player</td>\n",
       "      <td align=\"center\"><style='text-align:center;'><font color='green'>baseball player</font> (78.85%)<br/>basketball (14.50%)<br/>volleyball (2.05%)<br/>baseball (1.55%)<br/>knee pad (0.64%)<br/></style></td>\n",
       "      <td align=\"center\">a photo of a baseball player holding a bat in front of a crowd of people at a baseball game</td>\n",
       "      <td align=\"center\">a photo of a baseball player holding a bat in front of a crowd of people at a baseball game <mark>on a foggy day</mark></td>\n",
       "      <td align=\"center\">weather</td>\n",
       "      <td align=\"center\"><img src=\"/nethome/vprabhu9/code/LANCE/release/outputs/HardImageNet/baseball player/ILSVRC2012_val_00027923/on_a_foggy_day.jpeg\" width=\"512\" ></td>\n",
       "      <td align=\"center\"><style='text-align:center;'><font color='green'>baseball player</font> (91.13%)<br/>football helmet (2.27%)<br/>basketball (1.92%)<br/>baseball (1.46%)<br/>knee pad (0.87%)<br/></style></td>\n",
       "      <td align=\"center\">12.28</td>\n",
       "    </tr>\n",
       "    <tr>\n",
       "      <th style=\"text-align:center;\">99</th>\n",
       "      <td align=\"center\"><img src=\"/nethome/vprabhu9/code/LANCE/release/outputs/HardImageNet/baseball player/ILSVRC2012_val_00026408/img.jpeg\" width=\"512\" ></td>\n",
       "      <td align=\"center\">baseball player</td>\n",
       "      <td align=\"center\"><style='text-align:center;'><font color='green'>baseball player</font> (87.22%)<br/>baseball (3.42%)<br/>racket (1.45%)<br/>soccer ball (1.04%)<br/>volleyball (0.89%)<br/></style></td>\n",
       "      <td align=\"center\">a photo of a baseball player holding a bat on a field with a crowd watching from the bleachers</td>\n",
       "      <td align=\"center\">a photo of a baseball player holding a bat on a field with a crowd watching from the bleachers <mark>on a foggy day</mark></td>\n",
       "      <td align=\"center\">weather</td>\n",
       "      <td align=\"center\"><img src=\"/nethome/vprabhu9/code/LANCE/release/outputs/HardImageNet/baseball player/ILSVRC2012_val_00026408/on_a_foggy_day.jpeg\" width=\"512\" ></td>\n",
       "      <td align=\"center\"><style='text-align:center;'><font color='green'>baseball player</font> (64.53%)<br/>baseball (17.35%)<br/>racket (6.71%)<br/>tennis ball (5.34%)<br/>basketball (1.06%)<br/></style></td>\n",
       "      <td align=\"center\">22.69</td>\n",
       "    </tr>\n",
       "    <tr>\n",
       "      <th style=\"text-align:center;\">115</th>\n",
       "      <td align=\"center\"><img src=\"/nethome/vprabhu9/code/LANCE/release/outputs/HardImageNet/baseball player/ILSVRC2012_val_00008099/img.jpeg\" width=\"512\" ></td>\n",
       "      <td align=\"center\">baseball player</td>\n",
       "      <td align=\"center\"><style='text-align:center;'><font color='green'>baseball player</font> (97.73%)<br/>baseball (2.23%)<br/>football helmet (0.02%)<br/>sweatshirt (0.00%)<br/>knee pad (0.00%)<br/></style></td>\n",
       "      <td align=\"center\">a photo of a baseball player standing on a field with a glove in his hand and a ball in his hand</td>\n",
       "      <td align=\"center\">a photo of a baseball player standing on a field with a glove in his hand and a ball in his hand <mark>on a foggy day</mark></td>\n",
       "      <td align=\"center\">weather</td>\n",
       "      <td align=\"center\"><img src=\"/nethome/vprabhu9/code/LANCE/release/outputs/HardImageNet/baseball player/ILSVRC2012_val_00008099/on_a_foggy_day.jpeg\" width=\"512\" ></td>\n",
       "      <td align=\"center\"><style='text-align:center;'><font color='green'>baseball player</font> (82.19%)<br/>balaclava ski mask (6.48%)<br/>football helmet (4.76%)<br/>sweatshirt (3.06%)<br/>baseball (1.26%)<br/></style></td>\n",
       "      <td align=\"center\">15.54</td>\n",
       "    </tr>\n",
       "    <tr>\n",
       "      <th style=\"text-align:center;\">135</th>\n",
       "      <td align=\"center\"><img src=\"/nethome/vprabhu9/code/LANCE/release/outputs/HardImageNet/baseball player/ILSVRC2012_val_00004760/img.jpeg\" width=\"512\" ></td>\n",
       "      <td align=\"center\">baseball player</td>\n",
       "      <td align=\"center\"><style='text-align:center;'><font color='green'>baseball player</font> (97.95%)<br/>baseball (1.06%)<br/>football helmet (0.24%)<br/>plunger (0.23%)<br/>croquet ball (0.10%)<br/></style></td>\n",
       "      <td align=\"center\">a photo of a man holding a baseball bat on top of a lush green field</td>\n",
       "      <td align=\"center\">a photo of a man holding a baseball bat on top of a lush green field <mark>on a foggy day</mark></td>\n",
       "      <td align=\"center\">weather</td>\n",
       "      <td align=\"center\"><img src=\"/nethome/vprabhu9/code/LANCE/release/outputs/HardImageNet/baseball player/ILSVRC2012_val_00004760/on_a_foggy_day.jpeg\" width=\"512\" ></td>\n",
       "      <td align=\"center\"><style='text-align:center;'><font color='green'>baseball player</font> (79.87%)<br/>baseball (9.10%)<br/>knee pad (1.31%)<br/>sweatshirt (1.02%)<br/>football helmet (0.90%)<br/></style></td>\n",
       "      <td align=\"center\">18.08</td>\n",
       "    </tr>\n",
       "  </tbody>\n",
       "</table>"
      ],
      "text/plain": [
       "<IPython.core.display.HTML object>"
      ]
     },
     "metadata": {},
     "output_type": "display_data"
    },
    {
     "data": {
      "text/markdown": [
       "## Cluster 9: Sensitivity=13.66%"
      ],
      "text/plain": [
       "<IPython.core.display.Markdown object>"
      ]
     },
     "metadata": {},
     "output_type": "display_data"
    },
    {
     "data": {
      "text/html": [
       "<table border=\"1\" class=\"dataframe\">\n",
       "  <thead>\n",
       "    <tr style=\"text-align: center;\">\n",
       "      <th style=\"text-align:center;\"></th>\n",
       "      <th style=\"text-align:center;\">Image</th>\n",
       "      <th style=\"text-align:center;\">Label</th>\n",
       "      <th style=\"text-align:center;\">Prediction</th>\n",
       "      <th style=\"text-align:center;\">Caption</th>\n",
       "      <th style=\"text-align:center;\">Edited Caption</th>\n",
       "      <th style=\"text-align:center;\">Edit Type</th>\n",
       "      <th style=\"text-align:center;\">LANCE</th>\n",
       "      <th style=\"text-align:center;\">LANCE prediction</th>\n",
       "      <th style=\"text-align:center;\">Sensitivity</th>\n",
       "    </tr>\n",
       "  </thead>\n",
       "  <tbody>\n",
       "    <tr>\n",
       "      <th style=\"text-align:center;\">123</th>\n",
       "      <td align=\"center\"><img src=\"/nethome/vprabhu9/code/LANCE/release/outputs/HardImageNet/baseball player/ILSVRC2012_val_00036213/img.jpeg\" width=\"512\" ></td>\n",
       "      <td align=\"center\">baseball player</td>\n",
       "      <td align=\"center\"><style='text-align:center;'><font color='green'>baseball player</font> (99.00%)<br/>baseball (0.87%)<br/>scoreboard (0.10%)<br/>football helmet (0.02%)<br/>racket (0.00%)<br/></style></td>\n",
       "      <td align=\"center\">a photo of a baseball player holding a bat on top of a field of grass next to home plate</td>\n",
       "      <td align=\"center\">a photo of a baseball player holding a bat on top of a field of grass <mark>with the mountains in the background</mark> next to home plate</td>\n",
       "      <td align=\"center\">subject</td>\n",
       "      <td align=\"center\"><img src=\"/nethome/vprabhu9/code/LANCE/release/outputs/HardImageNet/baseball player/ILSVRC2012_val_00036213/with_the_mountains_in_the_background.jpeg\" width=\"512\" ></td>\n",
       "      <td align=\"center\"><style='text-align:center;'><font color='green'>baseball player</font> (61.75%)<br/>mountain (18.63%)<br/>baseball (7.21%)<br/>ski (4.60%)<br/>mountain bike (1.86%)<br/></style></td>\n",
       "      <td align=\"center\">37.25</td>\n",
       "    </tr>\n",
       "    <tr>\n",
       "      <th style=\"text-align:center;\">108</th>\n",
       "      <td align=\"center\"><img src=\"/nethome/vprabhu9/code/LANCE/release/outputs/HardImageNet/baseball player/ILSVRC2012_val_00035666/img.jpeg\" width=\"512\" ></td>\n",
       "      <td align=\"center\">baseball player</td>\n",
       "      <td align=\"center\"><style='text-align:center;'>military uniform (25.92%)<br/><font color='green'>baseball player</font> (17.14%)<br/>rifle (4.09%)<br/>prison (4.01%)<br/>pickelhaube (2.53%)<br/></style></td>\n",
       "      <td align=\"center\">a photo of a black and white photo of a man in a baseball uniform with a hat on</td>\n",
       "      <td align=\"center\">a photo of a black and white photo of a man in a baseball uniform with a hat on <mark>a field with trees in the background</mark></td>\n",
       "      <td align=\"center\">background</td>\n",
       "      <td align=\"center\"><img src=\"/nethome/vprabhu9/code/LANCE/release/outputs/HardImageNet/baseball player/ILSVRC2012_val_00035666/a_field_with_trees_in_the_background.jpeg\" width=\"512\" ></td>\n",
       "      <td align=\"center\"><style='text-align:center;'>military uniform (67.37%)<br/><font color='green'>baseball player</font> (5.99%)<br/>pickelhaube (4.63%)<br/>rifle (2.37%)<br/>prison (0.93%)<br/></style></td>\n",
       "      <td align=\"center\">11.15</td>\n",
       "    </tr>\n",
       "    <tr>\n",
       "      <th style=\"text-align:center;\">104</th>\n",
       "      <td align=\"center\"><img src=\"/nethome/vprabhu9/code/LANCE/release/outputs/HardImageNet/baseball player/ILSVRC2012_val_00032087/img.jpeg\" width=\"512\" ></td>\n",
       "      <td align=\"center\">baseball player</td>\n",
       "      <td align=\"center\"><style='text-align:center;'><font color='green'>baseball player</font> (81.88%)<br/>baseball (18.05%)<br/>racket (0.06%)<br/>scoreboard (0.00%)<br/>tennis ball (0.00%)<br/></style></td>\n",
       "      <td align=\"center\">a photo of a young boy holding a baseball bat on top of a baseball field next to a man</td>\n",
       "      <td align=\"center\">a photo of a young boy holding a baseball bat on a top of a baseball field next to a man <mark>with a dog sitting adjacent</mark></td>\n",
       "      <td align=\"center\">background</td>\n",
       "      <td align=\"center\"><img src=\"/nethome/vprabhu9/code/LANCE/release/outputs/HardImageNet/baseball player/ILSVRC2012_val_00032087/with_a_dog_sitting_adjacent.jpeg\" width=\"512\" ></td>\n",
       "      <td align=\"center\"><style='text-align:center;'><font color='green'>baseball player</font> (82.26%)<br/>baseball (16.58%)<br/>racket (0.35%)<br/>lawn mower (0.31%)<br/>soccer ball (0.10%)<br/></style></td>\n",
       "      <td align=\"center\">0.37</td>\n",
       "    </tr>\n",
       "    <tr>\n",
       "      <th style=\"text-align:center;\">149</th>\n",
       "      <td align=\"center\"><img src=\"/nethome/vprabhu9/code/LANCE/release/outputs/HardImageNet/baseball player/ILSVRC2012_val_00020199/img.jpeg\" width=\"512\" ></td>\n",
       "      <td align=\"center\">baseball player</td>\n",
       "      <td align=\"center\"><style='text-align:center;'><font color='green'>baseball player</font> (91.90%)<br/>baseball (7.59%)<br/>racket (0.25%)<br/>football helmet (0.07%)<br/>scoreboard (0.05%)<br/></style></td>\n",
       "      <td align=\"center\">a photo of a baseball player standing in the dugout of a baseball field with his bat in his hand</td>\n",
       "      <td align=\"center\">a photo of a baseball player standing in the dugout of a baseball field with his bat in his hand <mark>and a full moon shining over the field</mark></td>\n",
       "      <td align=\"center\">background</td>\n",
       "      <td align=\"center\"><img src=\"/nethome/vprabhu9/code/LANCE/release/outputs/HardImageNet/baseball player/ILSVRC2012_val_00020199/and_a_full_moon_shining_over_the_field.jpeg\" width=\"512\" ></td>\n",
       "      <td align=\"center\"><style='text-align:center;'><font color='green'>baseball player</font> (81.94%)<br/>baseball (15.91%)<br/>racket (1.45%)<br/>tennis ball (0.19%)<br/>volleyball (0.19%)<br/></style></td>\n",
       "      <td align=\"center\">9.96</td>\n",
       "    </tr>\n",
       "    <tr>\n",
       "      <th style=\"text-align:center;\">134</th>\n",
       "      <td align=\"center\"><img src=\"/nethome/vprabhu9/code/LANCE/release/outputs/HardImageNet/baseball player/ILSVRC2012_val_00005037/img.jpeg\" width=\"512\" ></td>\n",
       "      <td align=\"center\">baseball player</td>\n",
       "      <td align=\"center\"><style='text-align:center;'><font color='green'>baseball player</font> (71.86%)<br/>baseball (28.14%)<br/>rifle (0.00%)<br/>racket (0.00%)<br/>hockey puck (0.00%)<br/></style></td>\n",
       "      <td align=\"center\">a photo of a young boy in a baseball uniform holding a bat on top of a baseball field</td>\n",
       "      <td align=\"center\">a photo of a young boy in a baseball uniform holding a bat on top of a pristine baseball field <mark>with a clear view of the mountains</mark></td>\n",
       "      <td align=\"center\">background</td>\n",
       "      <td align=\"center\"><img src=\"/nethome/vprabhu9/code/LANCE/release/outputs/HardImageNet/baseball player/ILSVRC2012_val_00005037/with_a_clear_view_of_the_mountains.jpeg\" width=\"512\" ></td>\n",
       "      <td align=\"center\"><style='text-align:center;'><font color='green'>baseball player</font> (81.42%)<br/>baseball (18.38%)<br/>hockey puck (0.02%)<br/>scoreboard (0.01%)<br/>rifle (0.01%)<br/></style></td>\n",
       "      <td align=\"center\">9.56</td>\n",
       "    </tr>\n",
       "  </tbody>\n",
       "</table>"
      ],
      "text/plain": [
       "<IPython.core.display.HTML object>"
      ]
     },
     "metadata": {},
     "output_type": "display_data"
    },
    {
     "data": {
      "text/markdown": [
       "## Cluster 0: Sensitivity=12.65%"
      ],
      "text/plain": [
       "<IPython.core.display.Markdown object>"
      ]
     },
     "metadata": {},
     "output_type": "display_data"
    },
    {
     "data": {
      "text/html": [
       "<table border=\"1\" class=\"dataframe\">\n",
       "  <thead>\n",
       "    <tr style=\"text-align: center;\">\n",
       "      <th style=\"text-align:center;\"></th>\n",
       "      <th style=\"text-align:center;\">Image</th>\n",
       "      <th style=\"text-align:center;\">Label</th>\n",
       "      <th style=\"text-align:center;\">Prediction</th>\n",
       "      <th style=\"text-align:center;\">Caption</th>\n",
       "      <th style=\"text-align:center;\">Edited Caption</th>\n",
       "      <th style=\"text-align:center;\">Edit Type</th>\n",
       "      <th style=\"text-align:center;\">LANCE</th>\n",
       "      <th style=\"text-align:center;\">LANCE prediction</th>\n",
       "      <th style=\"text-align:center;\">Sensitivity</th>\n",
       "    </tr>\n",
       "  </thead>\n",
       "  <tbody>\n",
       "    <tr>\n",
       "      <th style=\"text-align:center;\">122</th>\n",
       "      <td align=\"center\"><img src=\"/nethome/vprabhu9/code/LANCE/release/outputs/HardImageNet/baseball player/ILSVRC2012_val_00036213/img.jpeg\" width=\"512\" ></td>\n",
       "      <td align=\"center\">baseball player</td>\n",
       "      <td align=\"center\"><style='text-align:center;'><font color='green'>baseball player</font> (99.00%)<br/>baseball (0.87%)<br/>scoreboard (0.10%)<br/>football helmet (0.02%)<br/>racket (0.00%)<br/></style></td>\n",
       "      <td align=\"center\">a photo of a baseball player holding a bat on top of a field of grass next to home plate</td>\n",
       "      <td align=\"center\">a photo of a <mark>young</mark> baseball player holding a bat on top of a field of grass next to home plate</td>\n",
       "      <td align=\"center\">adjective</td>\n",
       "      <td align=\"center\"><img src=\"/nethome/vprabhu9/code/LANCE/release/outputs/HardImageNet/baseball player/ILSVRC2012_val_00036213/young.jpeg\" width=\"512\" ></td>\n",
       "      <td align=\"center\"><style='text-align:center;'><font color='green'>baseball player</font> (98.48%)<br/>baseball (0.90%)<br/>scoreboard (0.48%)<br/>football helmet (0.03%)<br/>racket (0.03%)<br/></style></td>\n",
       "      <td align=\"center\">0.53</td>\n",
       "    </tr>\n",
       "    <tr>\n",
       "      <th style=\"text-align:center;\">107</th>\n",
       "      <td align=\"center\"><img src=\"/nethome/vprabhu9/code/LANCE/release/outputs/HardImageNet/baseball player/ILSVRC2012_val_00035666/img.jpeg\" width=\"512\" ></td>\n",
       "      <td align=\"center\">baseball player</td>\n",
       "      <td align=\"center\"><style='text-align:center;'>military uniform (25.92%)<br/><font color='green'>baseball player</font> (17.14%)<br/>rifle (4.09%)<br/>prison (4.01%)<br/>pickelhaube (2.53%)<br/></style></td>\n",
       "      <td align=\"center\">a photo of a black and white photo of a man in a baseball uniform with a hat on</td>\n",
       "      <td align=\"center\">a photo of a black and white photo of a <mark>young</mark> man in a baseball uniform with a hat on</td>\n",
       "      <td align=\"center\">adjective</td>\n",
       "      <td align=\"center\"><img src=\"/nethome/vprabhu9/code/LANCE/release/outputs/HardImageNet/baseball player/ILSVRC2012_val_00035666/young.jpeg\" width=\"512\" ></td>\n",
       "      <td align=\"center\"><style='text-align:center;'>military uniform (35.11%)<br/><font color='green'>baseball player</font> (33.65%)<br/>pickelhaube (8.16%)<br/>rifle (2.32%)<br/>prison (1.11%)<br/></style></td>\n",
       "      <td align=\"center\">16.50</td>\n",
       "    </tr>\n",
       "    <tr>\n",
       "      <th style=\"text-align:center;\">100</th>\n",
       "      <td align=\"center\"><img src=\"/nethome/vprabhu9/code/LANCE/release/outputs/HardImageNet/baseball player/ILSVRC2012_val_00026408/img.jpeg\" width=\"512\" ></td>\n",
       "      <td align=\"center\">baseball player</td>\n",
       "      <td align=\"center\"><style='text-align:center;'><font color='green'>baseball player</font> (87.22%)<br/>baseball (3.42%)<br/>racket (1.45%)<br/>soccer ball (1.04%)<br/>volleyball (0.89%)<br/></style></td>\n",
       "      <td align=\"center\">a photo of a baseball player holding a bat on a field with a crowd watching from the bleachers</td>\n",
       "      <td align=\"center\">a photo of a <mark>fiery</mark> baseball player holding a bat on a field with a crowd watching from the bleachers</td>\n",
       "      <td align=\"center\">adjective</td>\n",
       "      <td align=\"center\"><img src=\"/nethome/vprabhu9/code/LANCE/release/outputs/HardImageNet/baseball player/ILSVRC2012_val_00026408/fiery.jpeg\" width=\"512\" ></td>\n",
       "      <td align=\"center\"><style='text-align:center;'><font color='green'>baseball player</font> (48.81%)<br/>soccer ball (8.15%)<br/>basketball (7.42%)<br/>volleyball (6.89%)<br/>scoreboard (5.66%)<br/></style></td>\n",
       "      <td align=\"center\">38.41</td>\n",
       "    </tr>\n",
       "    <tr>\n",
       "      <th style=\"text-align:center;\">101</th>\n",
       "      <td align=\"center\"><img src=\"/nethome/vprabhu9/code/LANCE/release/outputs/HardImageNet/baseball player/ILSVRC2012_val_00026408/img.jpeg\" width=\"512\" ></td>\n",
       "      <td align=\"center\">baseball player</td>\n",
       "      <td align=\"center\"><style='text-align:center;'><font color='green'>baseball player</font> (87.22%)<br/>baseball (3.42%)<br/>racket (1.45%)<br/>soccer ball (1.04%)<br/>volleyball (0.89%)<br/></style></td>\n",
       "      <td align=\"center\">a photo of a baseball player holding a bat on a field with a crowd watching from the bleachers</td>\n",
       "      <td align=\"center\">a photo of a baseball player holding a bat on a <mark>lacrosse</mark> field with a crowd watching from the bleachers</td>\n",
       "      <td align=\"center\">background</td>\n",
       "      <td align=\"center\"><img src=\"/nethome/vprabhu9/code/LANCE/release/outputs/HardImageNet/baseball player/ILSVRC2012_val_00026408/lacrosse.jpeg\" width=\"512\" ></td>\n",
       "      <td align=\"center\"><style='text-align:center;'><font color='green'>baseball player</font> (90.44%)<br/>baseball (2.54%)<br/>football helmet (2.24%)<br/>soccer ball (0.90%)<br/>rugby ball (0.42%)<br/></style></td>\n",
       "      <td align=\"center\">3.23</td>\n",
       "    </tr>\n",
       "    <tr>\n",
       "      <th style=\"text-align:center;\">96</th>\n",
       "      <td align=\"center\"><img src=\"/nethome/vprabhu9/code/LANCE/release/outputs/HardImageNet/baseball player/ILSVRC2012_val_00014689/img.jpeg\" width=\"512\" ></td>\n",
       "      <td align=\"center\">baseball player</td>\n",
       "      <td align=\"center\"><style='text-align:center;'>torch (61.71%)<br/>stage (9.58%)<br/>microphone (2.18%)<br/>ping-pong ball (1.77%)<br/><font color='green'>baseball player</font> (1.65%)<br/></style></td>\n",
       "      <td align=\"center\">a photo of a baseball player on the cover of a magazine with a baseball bat in his hand</td>\n",
       "      <td align=\"center\">a photo of <mark>a quarterback on the cover of a magazine with a throw,</mark> a baseball player on the cover of a magazine with a baseball bat in his hand</td>\n",
       "      <td align=\"center\">subject</td>\n",
       "      <td align=\"center\"><img src=\"/nethome/vprabhu9/code/LANCE/release/outputs/HardImageNet/baseball player/ILSVRC2012_val_00014689/a_quarterback_on_the_cover_of_a_magazine_with_a_throw,.jpeg\" width=\"512\" ></td>\n",
       "      <td align=\"center\"><style='text-align:center;'>torch (63.16%)<br/><font color='green'>baseball player</font> (10.86%)<br/>ping-pong ball (5.45%)<br/>hunting bow (3.14%)<br/>barbell (2.79%)<br/></style></td>\n",
       "      <td align=\"center\">9.20</td>\n",
       "    </tr>\n",
       "  </tbody>\n",
       "</table>"
      ],
      "text/plain": [
       "<IPython.core.display.HTML object>"
      ]
     },
     "metadata": {},
     "output_type": "display_data"
    },
    {
     "name": "stdout",
     "output_type": "stream",
     "text": [
      "\n",
      "\n",
      "\n",
      "\n"
     ]
    },
    {
     "data": {
      "text/markdown": [
       "# Class: dog sled"
      ],
      "text/plain": [
       "<IPython.core.display.Markdown object>"
      ]
     },
     "metadata": {},
     "output_type": "display_data"
    },
    {
     "data": {
      "text/markdown": [
       "## Cluster 5: Sensitivity=41.55%"
      ],
      "text/plain": [
       "<IPython.core.display.Markdown object>"
      ]
     },
     "metadata": {},
     "output_type": "display_data"
    },
    {
     "data": {
      "text/html": [
       "<table border=\"1\" class=\"dataframe\">\n",
       "  <thead>\n",
       "    <tr style=\"text-align: center;\">\n",
       "      <th style=\"text-align:center;\"></th>\n",
       "      <th style=\"text-align:center;\">Image</th>\n",
       "      <th style=\"text-align:center;\">Label</th>\n",
       "      <th style=\"text-align:center;\">Prediction</th>\n",
       "      <th style=\"text-align:center;\">Caption</th>\n",
       "      <th style=\"text-align:center;\">Edited Caption</th>\n",
       "      <th style=\"text-align:center;\">Edit Type</th>\n",
       "      <th style=\"text-align:center;\">LANCE</th>\n",
       "      <th style=\"text-align:center;\">LANCE prediction</th>\n",
       "      <th style=\"text-align:center;\">Sensitivity</th>\n",
       "    </tr>\n",
       "  </thead>\n",
       "  <tbody>\n",
       "    <tr>\n",
       "      <th style=\"text-align:center;\">212</th>\n",
       "      <td align=\"center\"><img src=\"/nethome/vprabhu9/code/LANCE/release/outputs/HardImageNet/dog sled/ILSVRC2012_val_00045506/img.jpeg\" width=\"512\" ></td>\n",
       "      <td align=\"center\">dog sled</td>\n",
       "      <td align=\"center\"><style='text-align:center;'><font color='green'>dog sled</font> (97.28%)<br/>husky (2.05%)<br/>siberian husky (0.56%)<br/>alaskan malamute (0.09%)<br/>norwegian elkhound (0.00%)<br/></style></td>\n",
       "      <td align=\"center\">a photo of a man in an orange jacket is pulling a dog sled with two dogs on it</td>\n",
       "      <td align=\"center\">a photo of a man in an orange jacket is pulling a dog sled <mark>through a desert</mark> with two dogs on it</td>\n",
       "      <td align=\"center\">background</td>\n",
       "      <td align=\"center\"><img src=\"/nethome/vprabhu9/code/LANCE/release/outputs/HardImageNet/dog sled/ILSVRC2012_val_00045506/through_a_desert.jpeg\" width=\"512\" ></td>\n",
       "      <td align=\"center\"><style='text-align:center;'><font color='green'>dog sled</font> (92.80%)<br/>husky (4.70%)<br/>siberian husky (1.69%)<br/>alaskan malamute (0.66%)<br/>snowmobile (0.03%)<br/></style></td>\n",
       "      <td align=\"center\">4.48</td>\n",
       "    </tr>\n",
       "    <tr>\n",
       "      <th style=\"text-align:center;\">213</th>\n",
       "      <td align=\"center\"><img src=\"/nethome/vprabhu9/code/LANCE/release/outputs/HardImageNet/dog sled/ILSVRC2012_val_00045506/img.jpeg\" width=\"512\" ></td>\n",
       "      <td align=\"center\">dog sled</td>\n",
       "      <td align=\"center\"><style='text-align:center;'><font color='green'>dog sled</font> (97.28%)<br/>husky (2.05%)<br/>siberian husky (0.56%)<br/>alaskan malamute (0.09%)<br/>norwegian elkhound (0.00%)<br/></style></td>\n",
       "      <td align=\"center\">a photo of a man in an orange jacket is pulling a dog sled with two dogs on it</td>\n",
       "      <td align=\"center\">a photo of a man in an orange jacket is pulling a dog sled <mark>on a beach</mark> with two dogs on it</td>\n",
       "      <td align=\"center\">background</td>\n",
       "      <td align=\"center\"><img src=\"/nethome/vprabhu9/code/LANCE/release/outputs/HardImageNet/dog sled/ILSVRC2012_val_00045506/on_a_beach.jpeg\" width=\"512\" ></td>\n",
       "      <td align=\"center\"><style='text-align:center;'><font color='green'>dog sled</font> (47.45%)<br/>pug (26.15%)<br/>french bulldog (4.42%)<br/>husky (4.07%)<br/>siberian husky (3.89%)<br/></style></td>\n",
       "      <td align=\"center\">49.82</td>\n",
       "    </tr>\n",
       "    <tr>\n",
       "      <th style=\"text-align:center;\">181</th>\n",
       "      <td align=\"center\"><img src=\"/nethome/vprabhu9/code/LANCE/release/outputs/HardImageNet/dog sled/ILSVRC2012_val_00002266/img.jpeg\" width=\"512\" ></td>\n",
       "      <td align=\"center\">dog sled</td>\n",
       "      <td align=\"center\"><style='text-align:center;'><font color='green'>dog sled</font> (99.11%)<br/>husky (0.21%)<br/>snowmobile (0.17%)<br/>bobsleigh (0.11%)<br/>siberian husky (0.04%)<br/></style></td>\n",
       "      <td align=\"center\">a photo of a group of people standing around a dog pulling a dog sled with a dog on it</td>\n",
       "      <td align=\"center\">a photo of a group of people standing around a dog pulling a dog sled with a dog on it <mark>in a deserted beach</mark></td>\n",
       "      <td align=\"center\">background</td>\n",
       "      <td align=\"center\"><img src=\"/nethome/vprabhu9/code/LANCE/release/outputs/HardImageNet/dog sled/ILSVRC2012_val_00002266/in_a_deserted_beach.jpeg\" width=\"512\" ></td>\n",
       "      <td align=\"center\"><style='text-align:center;'><font color='green'>dog sled</font> (28.76%)<br/>horse-drawn vehicle (12.28%)<br/>paddle (6.30%)<br/>stretcher (5.83%)<br/>muzzle (5.43%)<br/></style></td>\n",
       "      <td align=\"center\">70.36</td>\n",
       "    </tr>\n",
       "  </tbody>\n",
       "</table>"
      ],
      "text/plain": [
       "<IPython.core.display.HTML object>"
      ]
     },
     "metadata": {},
     "output_type": "display_data"
    },
    {
     "data": {
      "text/markdown": [
       "## Cluster 2: Sensitivity=16.83%"
      ],
      "text/plain": [
       "<IPython.core.display.Markdown object>"
      ]
     },
     "metadata": {},
     "output_type": "display_data"
    },
    {
     "data": {
      "text/html": [
       "<table border=\"1\" class=\"dataframe\">\n",
       "  <thead>\n",
       "    <tr style=\"text-align: center;\">\n",
       "      <th style=\"text-align:center;\"></th>\n",
       "      <th style=\"text-align:center;\">Image</th>\n",
       "      <th style=\"text-align:center;\">Label</th>\n",
       "      <th style=\"text-align:center;\">Prediction</th>\n",
       "      <th style=\"text-align:center;\">Caption</th>\n",
       "      <th style=\"text-align:center;\">Edited Caption</th>\n",
       "      <th style=\"text-align:center;\">Edit Type</th>\n",
       "      <th style=\"text-align:center;\">LANCE</th>\n",
       "      <th style=\"text-align:center;\">LANCE prediction</th>\n",
       "      <th style=\"text-align:center;\">Sensitivity</th>\n",
       "    </tr>\n",
       "  </thead>\n",
       "  <tbody>\n",
       "    <tr>\n",
       "      <th style=\"text-align:center;\">188</th>\n",
       "      <td align=\"center\"><img src=\"/nethome/vprabhu9/code/LANCE/release/outputs/HardImageNet/dog sled/ILSVRC2012_val_00045466/img.jpeg\" width=\"512\" ></td>\n",
       "      <td align=\"center\">dog sled</td>\n",
       "      <td align=\"center\"><style='text-align:center;'><font color='green'>dog sled</font> (34.27%)<br/>husky (15.10%)<br/>alaskan malamute (6.12%)<br/>siberian husky (4.17%)<br/>pug (3.41%)<br/></style></td>\n",
       "      <td align=\"center\">a photo of a woman in a red jacket is pulling two dogs on a leash in the woods</td>\n",
       "      <td align=\"center\">a photo of a woman in a red jacket is pulling two dogs on a leash in the <mark>snowy</mark> woods</td>\n",
       "      <td align=\"center\">weather</td>\n",
       "      <td align=\"center\"><img src=\"/nethome/vprabhu9/code/LANCE/release/outputs/HardImageNet/dog sled/ILSVRC2012_val_00045466/snowy.jpeg\" width=\"512\" ></td>\n",
       "      <td align=\"center\"><style='text-align:center;'><font color='green'>dog sled</font> (55.75%)<br/>pug (6.06%)<br/>staffordshire bull terrier (5.87%)<br/>husky (5.70%)<br/>french bulldog (2.26%)<br/></style></td>\n",
       "      <td align=\"center\">21.48</td>\n",
       "    </tr>\n",
       "    <tr>\n",
       "      <th style=\"text-align:center;\">191</th>\n",
       "      <td align=\"center\"><img src=\"/nethome/vprabhu9/code/LANCE/release/outputs/HardImageNet/dog sled/ILSVRC2012_val_00045466/img.jpeg\" width=\"512\" ></td>\n",
       "      <td align=\"center\">dog sled</td>\n",
       "      <td align=\"center\"><style='text-align:center;'><font color='green'>dog sled</font> (34.27%)<br/>husky (15.10%)<br/>alaskan malamute (6.12%)<br/>siberian husky (4.17%)<br/>pug (3.41%)<br/></style></td>\n",
       "      <td align=\"center\">a photo of a woman in a red jacket is pulling two dogs on a leash in the woods</td>\n",
       "      <td align=\"center\">a photo of a woman in a <mark>fluffy</mark> red jacket is pulling two dogs on a leash in the woods</td>\n",
       "      <td align=\"center\">adjective</td>\n",
       "      <td align=\"center\"><img src=\"/nethome/vprabhu9/code/LANCE/release/outputs/HardImageNet/dog sled/ILSVRC2012_val_00045466/fluffy.jpeg\" width=\"512\" ></td>\n",
       "      <td align=\"center\"><style='text-align:center;'><font color='green'>dog sled</font> (43.37%)<br/>husky (17.22%)<br/>alaskan malamute (10.01%)<br/>siberian husky (4.52%)<br/>norwegian elkhound (1.90%)<br/></style></td>\n",
       "      <td align=\"center\">9.11</td>\n",
       "    </tr>\n",
       "    <tr>\n",
       "      <th style=\"text-align:center;\">192</th>\n",
       "      <td align=\"center\"><img src=\"/nethome/vprabhu9/code/LANCE/release/outputs/HardImageNet/dog sled/ILSVRC2012_val_00045466/img.jpeg\" width=\"512\" ></td>\n",
       "      <td align=\"center\">dog sled</td>\n",
       "      <td align=\"center\"><style='text-align:center;'><font color='green'>dog sled</font> (34.27%)<br/>husky (15.10%)<br/>alaskan malamute (6.12%)<br/>siberian husky (4.17%)<br/>pug (3.41%)<br/></style></td>\n",
       "      <td align=\"center\">a photo of a woman in a red jacket is pulling two dogs on a leash in the woods</td>\n",
       "      <td align=\"center\">a photo of a woman in a <mark>velvet</mark> red jacket is pulling two dogs on a leash in the woods</td>\n",
       "      <td align=\"center\">adjective</td>\n",
       "      <td align=\"center\"><img src=\"/nethome/vprabhu9/code/LANCE/release/outputs/HardImageNet/dog sled/ILSVRC2012_val_00045466/velvet.jpeg\" width=\"512\" ></td>\n",
       "      <td align=\"center\"><style='text-align:center;'>pug (26.40%)<br/><font color='green'>dog sled</font> (14.46%)<br/>french bulldog (12.23%)<br/>staffordshire bull terrier (7.81%)<br/>chihuahua (6.13%)<br/></style></td>\n",
       "      <td align=\"center\">19.81</td>\n",
       "    </tr>\n",
       "    <tr>\n",
       "      <th style=\"text-align:center;\">214</th>\n",
       "      <td align=\"center\"><img src=\"/nethome/vprabhu9/code/LANCE/release/outputs/HardImageNet/dog sled/ILSVRC2012_val_00011006/img.jpeg\" width=\"512\" ></td>\n",
       "      <td align=\"center\">dog sled</td>\n",
       "      <td align=\"center\"><style='text-align:center;'><font color='green'>dog sled</font> (52.69%)<br/>husky (39.36%)<br/>siberian husky (6.83%)<br/>alaskan malamute (0.80%)<br/>norwegian elkhound (0.07%)<br/></style></td>\n",
       "      <td align=\"center\">a photo of a husky dog is tied to a dog sled in the snow with a leash attached to it</td>\n",
       "      <td align=\"center\">a photo of a <mark>white</mark> husky dog is tied to a dog sled in the snow with a leash attached to it</td>\n",
       "      <td align=\"center\">adjective</td>\n",
       "      <td align=\"center\"><img src=\"/nethome/vprabhu9/code/LANCE/release/outputs/HardImageNet/dog sled/ILSVRC2012_val_00011006/white.jpeg\" width=\"512\" ></td>\n",
       "      <td align=\"center\"><style='text-align:center;'>husky (51.67%)<br/><font color='green'>dog sled</font> (41.62%)<br/>siberian husky (6.04%)<br/>alaskan malamute (0.57%)<br/>samoyed (0.02%)<br/></style></td>\n",
       "      <td align=\"center\">11.08</td>\n",
       "    </tr>\n",
       "    <tr>\n",
       "      <th style=\"text-align:center;\">215</th>\n",
       "      <td align=\"center\"><img src=\"/nethome/vprabhu9/code/LANCE/release/outputs/HardImageNet/dog sled/ILSVRC2012_val_00011006/img.jpeg\" width=\"512\" ></td>\n",
       "      <td align=\"center\">dog sled</td>\n",
       "      <td align=\"center\"><style='text-align:center;'><font color='green'>dog sled</font> (52.69%)<br/>husky (39.36%)<br/>siberian husky (6.83%)<br/>alaskan malamute (0.80%)<br/>norwegian elkhound (0.07%)<br/></style></td>\n",
       "      <td align=\"center\">a photo of a husky dog is tied to a dog sled in the snow with a leash attached to it</td>\n",
       "      <td align=\"center\">a photo of a <mark>fluffy</mark> husky dog is tied to a dog sled in the snow with a leash attached to it</td>\n",
       "      <td align=\"center\">adjective</td>\n",
       "      <td align=\"center\"><img src=\"/nethome/vprabhu9/code/LANCE/release/outputs/HardImageNet/dog sled/ILSVRC2012_val_00011006/fluffy.jpeg\" width=\"512\" ></td>\n",
       "      <td align=\"center\"><style='text-align:center;'>husky (58.14%)<br/><font color='green'>dog sled</font> (30.03%)<br/>siberian husky (9.69%)<br/>alaskan malamute (2.05%)<br/>norwegian elkhound (0.03%)<br/></style></td>\n",
       "      <td align=\"center\">22.66</td>\n",
       "    </tr>\n",
       "  </tbody>\n",
       "</table>"
      ],
      "text/plain": [
       "<IPython.core.display.HTML object>"
      ]
     },
     "metadata": {},
     "output_type": "display_data"
    },
    {
     "data": {
      "text/markdown": [
       "## Cluster 4: Sensitivity=11.56%"
      ],
      "text/plain": [
       "<IPython.core.display.Markdown object>"
      ]
     },
     "metadata": {},
     "output_type": "display_data"
    },
    {
     "data": {
      "text/html": [
       "<table border=\"1\" class=\"dataframe\">\n",
       "  <thead>\n",
       "    <tr style=\"text-align: center;\">\n",
       "      <th style=\"text-align:center;\"></th>\n",
       "      <th style=\"text-align:center;\">Image</th>\n",
       "      <th style=\"text-align:center;\">Label</th>\n",
       "      <th style=\"text-align:center;\">Prediction</th>\n",
       "      <th style=\"text-align:center;\">Caption</th>\n",
       "      <th style=\"text-align:center;\">Edited Caption</th>\n",
       "      <th style=\"text-align:center;\">Edit Type</th>\n",
       "      <th style=\"text-align:center;\">LANCE</th>\n",
       "      <th style=\"text-align:center;\">LANCE prediction</th>\n",
       "      <th style=\"text-align:center;\">Sensitivity</th>\n",
       "    </tr>\n",
       "  </thead>\n",
       "  <tbody>\n",
       "    <tr>\n",
       "      <th style=\"text-align:center;\">186</th>\n",
       "      <td align=\"center\"><img src=\"/nethome/vprabhu9/code/LANCE/release/outputs/HardImageNet/dog sled/ILSVRC2012_val_00042495/img.jpeg\" width=\"512\" ></td>\n",
       "      <td align=\"center\">dog sled</td>\n",
       "      <td align=\"center\"><style='text-align:center;'><font color='green'>dog sled</font> (81.74%)<br/>husky (2.29%)<br/>alaskan malamute (2.16%)<br/>siberian husky (1.36%)<br/>german shepherd dog (0.81%)<br/></style></td>\n",
       "      <td align=\"center\">a photo of a man and two dogs pulling a dog sled down a dirt road</td>\n",
       "      <td align=\"center\">a photo of a man and two <mark>fluffy</mark> dogs pulling a dog sled down a dirt road</td>\n",
       "      <td align=\"center\">adjective</td>\n",
       "      <td align=\"center\"><img src=\"/nethome/vprabhu9/code/LANCE/release/outputs/HardImageNet/dog sled/ILSVRC2012_val_00042495/fluffy.jpeg\" width=\"512\" ></td>\n",
       "      <td align=\"center\"><style='text-align:center;'>standard poodle (10.85%)<br/>miniature poodle (7.61%)<br/>newfoundland dog (7.31%)<br/>tibetan mastiff (6.06%)<br/>bison (6.00%)<br/></style></td>\n",
       "      <td align=\"center\">81.74</td>\n",
       "    </tr>\n",
       "    <tr>\n",
       "      <th style=\"text-align:center;\">174</th>\n",
       "      <td align=\"center\"><img src=\"/nethome/vprabhu9/code/LANCE/release/outputs/HardImageNet/dog sled/ILSVRC2012_val_00028944/img.jpeg\" width=\"512\" ></td>\n",
       "      <td align=\"center\">dog sled</td>\n",
       "      <td align=\"center\"><style='text-align:center;'>alaskan malamute (64.07%)<br/><font color='green'>dog sled</font> (32.17%)<br/>husky (1.93%)<br/>siberian husky (1.41%)<br/>tibetan mastiff (0.17%)<br/></style></td>\n",
       "      <td align=\"center\">a photo of a man riding a dog sled pulled by two dogs on a snow covered path next to a fence</td>\n",
       "      <td align=\"center\">a photo of a <mark>young</mark> man riding a dog sled pulled by two dogs on a snow covered path next to a fence</td>\n",
       "      <td align=\"center\">adjective</td>\n",
       "      <td align=\"center\"><img src=\"/nethome/vprabhu9/code/LANCE/release/outputs/HardImageNet/dog sled/ILSVRC2012_val_00028944/young.jpeg\" width=\"512\" ></td>\n",
       "      <td align=\"center\"><style='text-align:center;'>alaskan malamute (82.71%)<br/><font color='green'>dog sled</font> (13.42%)<br/>husky (1.99%)<br/>siberian husky (1.15%)<br/>keeshond (0.22%)<br/></style></td>\n",
       "      <td align=\"center\">18.74</td>\n",
       "    </tr>\n",
       "    <tr>\n",
       "      <th style=\"text-align:center;\">178</th>\n",
       "      <td align=\"center\"><img src=\"/nethome/vprabhu9/code/LANCE/release/outputs/HardImageNet/dog sled/ILSVRC2012_val_00017861/img.jpeg\" width=\"512\" ></td>\n",
       "      <td align=\"center\">dog sled</td>\n",
       "      <td align=\"center\"><style='text-align:center;'><font color='green'>dog sled</font> (99.30%)<br/>snowmobile (0.32%)<br/>husky (0.15%)<br/>ski (0.12%)<br/>bobsleigh (0.02%)<br/></style></td>\n",
       "      <td align=\"center\">a photo of a group of dogs with a dog sled running in the snow pulling a dog sled with a person in it</td>\n",
       "      <td align=\"center\">a photo of a group of dogs with a dog sled running in the <mark>rainbow</mark> snow pulling a dog sled with a person in it</td>\n",
       "      <td align=\"center\">weather</td>\n",
       "      <td align=\"center\"><img src=\"/nethome/vprabhu9/code/LANCE/release/outputs/HardImageNet/dog sled/ILSVRC2012_val_00017861/rainbow.jpeg\" width=\"512\" ></td>\n",
       "      <td align=\"center\"><style='text-align:center;'><font color='green'>dog sled</font> (96.08%)<br/>husky (2.63%)<br/>ski (0.21%)<br/>alaskan malamute (0.21%)<br/>norwegian elkhound (0.18%)<br/></style></td>\n",
       "      <td align=\"center\">3.22</td>\n",
       "    </tr>\n",
       "    <tr>\n",
       "      <th style=\"text-align:center;\">179</th>\n",
       "      <td align=\"center\"><img src=\"/nethome/vprabhu9/code/LANCE/release/outputs/HardImageNet/dog sled/ILSVRC2012_val_00017861/img.jpeg\" width=\"512\" ></td>\n",
       "      <td align=\"center\">dog sled</td>\n",
       "      <td align=\"center\"><style='text-align:center;'><font color='green'>dog sled</font> (99.30%)<br/>snowmobile (0.32%)<br/>husky (0.15%)<br/>ski (0.12%)<br/>bobsleigh (0.02%)<br/></style></td>\n",
       "      <td align=\"center\">a photo of a group of dogs with a dog sled running in the snow pulling a dog sled with a person in it</td>\n",
       "      <td align=\"center\">a photo of a group of <mark>hungry</mark> dogs with a dog sled running in the snow pulling a dog sled with a person in it</td>\n",
       "      <td align=\"center\">adjective</td>\n",
       "      <td align=\"center\"><img src=\"/nethome/vprabhu9/code/LANCE/release/outputs/HardImageNet/dog sled/ILSVRC2012_val_00017861/hungry.jpeg\" width=\"512\" ></td>\n",
       "      <td align=\"center\"><style='text-align:center;'><font color='green'>dog sled</font> (99.89%)<br/>husky (0.05%)<br/>snowmobile (0.03%)<br/>ski (0.01%)<br/>bobsleigh (0.00%)<br/></style></td>\n",
       "      <td align=\"center\">0.58</td>\n",
       "    </tr>\n",
       "    <tr>\n",
       "      <th style=\"text-align:center;\">180</th>\n",
       "      <td align=\"center\"><img src=\"/nethome/vprabhu9/code/LANCE/release/outputs/HardImageNet/dog sled/ILSVRC2012_val_00017861/img.jpeg\" width=\"512\" ></td>\n",
       "      <td align=\"center\">dog sled</td>\n",
       "      <td align=\"center\"><style='text-align:center;'><font color='green'>dog sled</font> (99.30%)<br/>snowmobile (0.32%)<br/>husky (0.15%)<br/>ski (0.12%)<br/>bobsleigh (0.02%)<br/></style></td>\n",
       "      <td align=\"center\">a photo of a group of dogs with a dog sled running in the snow pulling a dog sled with a person in it</td>\n",
       "      <td align=\"center\">a photo of a group of <mark>fluffy</mark> dogs with a dog sled running in the snow pulling a dog sled with a person in it</td>\n",
       "      <td align=\"center\">adjective</td>\n",
       "      <td align=\"center\"><img src=\"/nethome/vprabhu9/code/LANCE/release/outputs/HardImageNet/dog sled/ILSVRC2012_val_00017861/fluffy.jpeg\" width=\"512\" ></td>\n",
       "      <td align=\"center\"><style='text-align:center;'><font color='green'>dog sled</font> (98.94%)<br/>husky (0.17%)<br/>snowmobile (0.17%)<br/>norwegian elkhound (0.13%)<br/>leonberger (0.09%)<br/></style></td>\n",
       "      <td align=\"center\">0.36</td>\n",
       "    </tr>\n",
       "  </tbody>\n",
       "</table>"
      ],
      "text/plain": [
       "<IPython.core.display.HTML object>"
      ]
     },
     "metadata": {},
     "output_type": "display_data"
    },
    {
     "name": "stdout",
     "output_type": "stream",
     "text": [
      "\n",
      "\n",
      "\n",
      "\n"
     ]
    },
    {
     "data": {
      "text/markdown": [
       "# Class: gymnastic horizontal bar"
      ],
      "text/plain": [
       "<IPython.core.display.Markdown object>"
      ]
     },
     "metadata": {},
     "output_type": "display_data"
    },
    {
     "data": {
      "text/markdown": [
       "## Cluster 0: Sensitivity=48.13%"
      ],
      "text/plain": [
       "<IPython.core.display.Markdown object>"
      ]
     },
     "metadata": {},
     "output_type": "display_data"
    },
    {
     "data": {
      "text/html": [
       "<table border=\"1\" class=\"dataframe\">\n",
       "  <thead>\n",
       "    <tr style=\"text-align: center;\">\n",
       "      <th style=\"text-align:center;\"></th>\n",
       "      <th style=\"text-align:center;\">Image</th>\n",
       "      <th style=\"text-align:center;\">Label</th>\n",
       "      <th style=\"text-align:center;\">Prediction</th>\n",
       "      <th style=\"text-align:center;\">Caption</th>\n",
       "      <th style=\"text-align:center;\">Edited Caption</th>\n",
       "      <th style=\"text-align:center;\">Edit Type</th>\n",
       "      <th style=\"text-align:center;\">LANCE</th>\n",
       "      <th style=\"text-align:center;\">LANCE prediction</th>\n",
       "      <th style=\"text-align:center;\">Sensitivity</th>\n",
       "    </tr>\n",
       "  </thead>\n",
       "  <tbody>\n",
       "    <tr>\n",
       "      <th style=\"text-align:center;\">381</th>\n",
       "      <td align=\"center\"><img src=\"/nethome/vprabhu9/code/LANCE/release/outputs/HardImageNet/gymnastic horizontal bar/ILSVRC2012_val_00038838/img.jpeg\" width=\"512\" ></td>\n",
       "      <td align=\"center\">gymnastic horizontal bar</td>\n",
       "      <td align=\"center\"><style='text-align:center;'>balance beam (46.63%)<br/>tights (29.37%)<br/><font color='green'>gymnastic horizontal bar</font> (6.78%)<br/>one-piece bathing suit (6.07%)<br/>parallel bars (4.21%)<br/></style></td>\n",
       "      <td align=\"center\">a photo of a woman on a balance beam in a competition wearing a blue and red leotard suit</td>\n",
       "      <td align=\"center\">a photo of a woman on a balance beam in a competition wearing a blue and red leotard suit <mark>with a stormy sky in the background</mark></td>\n",
       "      <td align=\"center\">weather</td>\n",
       "      <td align=\"center\"><img src=\"/nethome/vprabhu9/code/LANCE/release/outputs/HardImageNet/gymnastic horizontal bar/ILSVRC2012_val_00038838/with_a_stormy_sky_in_the_background.jpeg\" width=\"512\" ></td>\n",
       "      <td align=\"center\"><style='text-align:center;'>tights (58.79%)<br/>pole (11.79%)<br/>one-piece bathing suit (9.60%)<br/>paddle (5.67%)<br/>swimming cap (3.90%)<br/></style></td>\n",
       "      <td align=\"center\">6.78</td>\n",
       "    </tr>\n",
       "    <tr>\n",
       "      <th style=\"text-align:center;\">307</th>\n",
       "      <td align=\"center\"><img src=\"/nethome/vprabhu9/code/LANCE/release/outputs/HardImageNet/gymnastic horizontal bar/ILSVRC2012_val_00024949/img.jpeg\" width=\"512\" ></td>\n",
       "      <td align=\"center\">gymnastic horizontal bar</td>\n",
       "      <td align=\"center\"><style='text-align:center;'><font color='green'>gymnastic horizontal bar</font> (94.23%)<br/>parallel bars (5.64%)<br/>pole (0.09%)<br/>balance beam (0.04%)<br/>barbell (0.00%)<br/></style></td>\n",
       "      <td align=\"center\">a photo of a woman is doing a handstand on a parallel bar in an indoor gym</td>\n",
       "      <td align=\"center\">a photo of a woman is doing a handstand on a parallel bar in an indoor gym <mark>under the moon</mark></td>\n",
       "      <td align=\"center\">weather</td>\n",
       "      <td align=\"center\"><img src=\"/nethome/vprabhu9/code/LANCE/release/outputs/HardImageNet/gymnastic horizontal bar/ILSVRC2012_val_00024949/under_the_moon.jpeg\" width=\"512\" ></td>\n",
       "      <td align=\"center\"><style='text-align:center;'>pole (41.29%)<br/><font color='green'>gymnastic horizontal bar</font> (11.59%)<br/>tights (8.65%)<br/>swimming cap (6.89%)<br/>one-piece bathing suit (3.88%)<br/></style></td>\n",
       "      <td align=\"center\">82.64</td>\n",
       "    </tr>\n",
       "    <tr>\n",
       "      <th style=\"text-align:center;\">308</th>\n",
       "      <td align=\"center\"><img src=\"/nethome/vprabhu9/code/LANCE/release/outputs/HardImageNet/gymnastic horizontal bar/ILSVRC2012_val_00024949/img.jpeg\" width=\"512\" ></td>\n",
       "      <td align=\"center\">gymnastic horizontal bar</td>\n",
       "      <td align=\"center\"><style='text-align:center;'><font color='green'>gymnastic horizontal bar</font> (94.23%)<br/>parallel bars (5.64%)<br/>pole (0.09%)<br/>balance beam (0.04%)<br/>barbell (0.00%)<br/></style></td>\n",
       "      <td align=\"center\">a photo of a woman is doing a handstand on a parallel bar in an indoor gym</td>\n",
       "      <td align=\"center\">a photo of a woman is doing a handstand on a parallel bar in an indoor gym <mark>under a bluffcloud</mark></td>\n",
       "      <td align=\"center\">weather</td>\n",
       "      <td align=\"center\"><img src=\"/nethome/vprabhu9/code/LANCE/release/outputs/HardImageNet/gymnastic horizontal bar/ILSVRC2012_val_00024949/under_a_bluffcloud.jpeg\" width=\"512\" ></td>\n",
       "      <td align=\"center\"><style='text-align:center;'>pole (56.30%)<br/>swimming cap (12.14%)<br/><font color='green'>gymnastic horizontal bar</font> (10.06%)<br/>balance beam (8.85%)<br/>tights (4.98%)<br/></style></td>\n",
       "      <td align=\"center\">84.17</td>\n",
       "    </tr>\n",
       "    <tr>\n",
       "      <th style=\"text-align:center;\">305</th>\n",
       "      <td align=\"center\"><img src=\"/nethome/vprabhu9/code/LANCE/release/outputs/HardImageNet/gymnastic horizontal bar/ILSVRC2012_val_00020517/img.jpeg\" width=\"512\" ></td>\n",
       "      <td align=\"center\">gymnastic horizontal bar</td>\n",
       "      <td align=\"center\"><style='text-align:center;'><font color='green'>gymnastic horizontal bar</font> (35.07%)<br/>parallel bars (16.38%)<br/>swing (15.28%)<br/>pole (9.93%)<br/>volleyball (9.20%)<br/></style></td>\n",
       "      <td align=\"center\">a photo of a woman hanging from a metal bar in a park with a tree in the background</td>\n",
       "      <td align=\"center\">a photo of a woman hanging from a metal bar in a park with a tree in the background <mark>and a rainbow appearing over the tree</mark></td>\n",
       "      <td align=\"center\">background</td>\n",
       "      <td align=\"center\"><img src=\"/nethome/vprabhu9/code/LANCE/release/outputs/HardImageNet/gymnastic horizontal bar/ILSVRC2012_val_00020517/and_a_rainbow_appearing_over_the_tree.jpeg\" width=\"512\" ></td>\n",
       "      <td align=\"center\"><style='text-align:center;'><font color='green'>gymnastic horizontal bar</font> (53.99%)<br/>parallel bars (18.03%)<br/>swing (12.93%)<br/>volleyball (5.38%)<br/>unicycle (3.93%)<br/></style></td>\n",
       "      <td align=\"center\">18.92</td>\n",
       "    </tr>\n",
       "  </tbody>\n",
       "</table>"
      ],
      "text/plain": [
       "<IPython.core.display.HTML object>"
      ]
     },
     "metadata": {},
     "output_type": "display_data"
    },
    {
     "data": {
      "text/markdown": [
       "## Cluster 5: Sensitivity=22.37%"
      ],
      "text/plain": [
       "<IPython.core.display.Markdown object>"
      ]
     },
     "metadata": {},
     "output_type": "display_data"
    },
    {
     "data": {
      "text/html": [
       "<table border=\"1\" class=\"dataframe\">\n",
       "  <thead>\n",
       "    <tr style=\"text-align: center;\">\n",
       "      <th style=\"text-align:center;\"></th>\n",
       "      <th style=\"text-align:center;\">Image</th>\n",
       "      <th style=\"text-align:center;\">Label</th>\n",
       "      <th style=\"text-align:center;\">Prediction</th>\n",
       "      <th style=\"text-align:center;\">Caption</th>\n",
       "      <th style=\"text-align:center;\">Edited Caption</th>\n",
       "      <th style=\"text-align:center;\">Edit Type</th>\n",
       "      <th style=\"text-align:center;\">LANCE</th>\n",
       "      <th style=\"text-align:center;\">LANCE prediction</th>\n",
       "      <th style=\"text-align:center;\">Sensitivity</th>\n",
       "    </tr>\n",
       "  </thead>\n",
       "  <tbody>\n",
       "    <tr>\n",
       "      <th style=\"text-align:center;\">285</th>\n",
       "      <td align=\"center\"><img src=\"/nethome/vprabhu9/code/LANCE/release/outputs/HardImageNet/gymnastic horizontal bar/ILSVRC2012_val_00027475/img.jpeg\" width=\"512\" ></td>\n",
       "      <td align=\"center\">gymnastic horizontal bar</td>\n",
       "      <td align=\"center\"><style='text-align:center;'>balance beam (58.59%)<br/><font color='green'>gymnastic horizontal bar</font> (35.07%)<br/>parallel bars (6.27%)<br/>volleyball (0.03%)<br/>basketball (0.02%)<br/></style></td>\n",
       "      <td align=\"center\">a photo of a woman is doing a trick on the balance bars at a gymnastics competition with a crowd watching</td>\n",
       "      <td align=\"center\">a photo of a woman is doing a trick on the balance bars at a gymnastics competition <mark>on a rainy day</mark> with a crowd watching</td>\n",
       "      <td align=\"center\">weather</td>\n",
       "      <td align=\"center\"><img src=\"/nethome/vprabhu9/code/LANCE/release/outputs/HardImageNet/gymnastic horizontal bar/ILSVRC2012_val_00027475/on_a_rainy_day.jpeg\" width=\"512\" ></td>\n",
       "      <td align=\"center\"><style='text-align:center;'>balance beam (62.46%)<br/><font color='green'>gymnastic horizontal bar</font> (31.12%)<br/>parallel bars (6.34%)<br/>basketball (0.03%)<br/>volleyball (0.02%)<br/></style></td>\n",
       "      <td align=\"center\">3.95</td>\n",
       "    </tr>\n",
       "    <tr>\n",
       "      <th style=\"text-align:center;\">286</th>\n",
       "      <td align=\"center\"><img src=\"/nethome/vprabhu9/code/LANCE/release/outputs/HardImageNet/gymnastic horizontal bar/ILSVRC2012_val_00027475/img.jpeg\" width=\"512\" ></td>\n",
       "      <td align=\"center\">gymnastic horizontal bar</td>\n",
       "      <td align=\"center\"><style='text-align:center;'>balance beam (58.59%)<br/><font color='green'>gymnastic horizontal bar</font> (35.07%)<br/>parallel bars (6.27%)<br/>volleyball (0.03%)<br/>basketball (0.02%)<br/></style></td>\n",
       "      <td align=\"center\">a photo of a woman is doing a trick on the balance bars at a gymnastics competition with a crowd watching</td>\n",
       "      <td align=\"center\">a photo of a woman is doing a trick on the balance bars at a gymnastics competition <mark>on a stormy day</mark> with a crowd watching</td>\n",
       "      <td align=\"center\">weather</td>\n",
       "      <td align=\"center\"><img src=\"/nethome/vprabhu9/code/LANCE/release/outputs/HardImageNet/gymnastic horizontal bar/ILSVRC2012_val_00027475/on_a_stormy_day.jpeg\" width=\"512\" ></td>\n",
       "      <td align=\"center\"><style='text-align:center;'>balance beam (54.03%)<br/><font color='green'>gymnastic horizontal bar</font> (37.73%)<br/>parallel bars (8.19%)<br/>basketball (0.01%)<br/>volleyball (0.01%)<br/></style></td>\n",
       "      <td align=\"center\">2.66</td>\n",
       "    </tr>\n",
       "    <tr>\n",
       "      <th style=\"text-align:center;\">309</th>\n",
       "      <td align=\"center\"><img src=\"/nethome/vprabhu9/code/LANCE/release/outputs/HardImageNet/gymnastic horizontal bar/ILSVRC2012_val_00024949/img.jpeg\" width=\"512\" ></td>\n",
       "      <td align=\"center\">gymnastic horizontal bar</td>\n",
       "      <td align=\"center\"><style='text-align:center;'><font color='green'>gymnastic horizontal bar</font> (94.23%)<br/>parallel bars (5.64%)<br/>pole (0.09%)<br/>balance beam (0.04%)<br/>barbell (0.00%)<br/></style></td>\n",
       "      <td align=\"center\">a photo of a woman is doing a handstand on a parallel bar in an indoor gym</td>\n",
       "      <td align=\"center\">a photo of a woman is doing a handstand on a parallel bar in an indoor gym <mark>during a rainshower</mark></td>\n",
       "      <td align=\"center\">weather</td>\n",
       "      <td align=\"center\"><img src=\"/nethome/vprabhu9/code/LANCE/release/outputs/HardImageNet/gymnastic horizontal bar/ILSVRC2012_val_00024949/during_a_rainshower.jpeg\" width=\"512\" ></td>\n",
       "      <td align=\"center\"><style='text-align:center;'><font color='green'>gymnastic horizontal bar</font> (54.16%)<br/>balance beam (20.29%)<br/>parallel bars (8.72%)<br/>swim trunks / shorts (4.06%)<br/>swimming cap (3.31%)<br/></style></td>\n",
       "      <td align=\"center\">40.07</td>\n",
       "    </tr>\n",
       "    <tr>\n",
       "      <th style=\"text-align:center;\">268</th>\n",
       "      <td align=\"center\"><img src=\"/nethome/vprabhu9/code/LANCE/release/outputs/HardImageNet/gymnastic horizontal bar/ILSVRC2012_val_00007020/img.jpeg\" width=\"512\" ></td>\n",
       "      <td align=\"center\">gymnastic horizontal bar</td>\n",
       "      <td align=\"center\"><style='text-align:center;'>swing (53.47%)<br/><font color='green'>gymnastic horizontal bar</font> (20.01%)<br/>parallel bars (17.16%)<br/>baluster / handrail (1.90%)<br/>pole (1.40%)<br/></style></td>\n",
       "      <td align=\"center\">a photo of a woman is doing a trick on a monkey bars in a park area with a playground in the background</td>\n",
       "      <td align=\"center\">a photo of a woman is doing a trick on a monkey bars in a park area with a playground in the background <mark>on a stormy day</mark></td>\n",
       "      <td align=\"center\">weather</td>\n",
       "      <td align=\"center\"><img src=\"/nethome/vprabhu9/code/LANCE/release/outputs/HardImageNet/gymnastic horizontal bar/ILSVRC2012_val_00007020/on_a_stormy_day.jpeg\" width=\"512\" ></td>\n",
       "      <td align=\"center\"><style='text-align:center;'><font color='green'>gymnastic horizontal bar</font> (33.91%)<br/>swing (23.87%)<br/>parallel bars (15.98%)<br/>balance beam (5.49%)<br/>cardigan (2.08%)<br/></style></td>\n",
       "      <td align=\"center\">13.90</td>\n",
       "    </tr>\n",
       "    <tr>\n",
       "      <th style=\"text-align:center;\">335</th>\n",
       "      <td align=\"center\"><img src=\"/nethome/vprabhu9/code/LANCE/release/outputs/HardImageNet/gymnastic horizontal bar/ILSVRC2012_val_00006650/img.jpeg\" width=\"512\" ></td>\n",
       "      <td align=\"center\">gymnastic horizontal bar</td>\n",
       "      <td align=\"center\"><style='text-align:center;'><font color='green'>gymnastic horizontal bar</font> (84.52%)<br/>balance beam (9.92%)<br/>parallel bars (5.42%)<br/>pole (0.08%)<br/>volleyball (0.03%)<br/></style></td>\n",
       "      <td align=\"center\">a photo of a woman doing a handstand on a balance beam in a gymnastics competition with other people in the background</td>\n",
       "      <td align=\"center\">a photo of a woman doing a handstand on a balance beam in a <mark>rainy</mark> gymnastics competition with other people in the background</td>\n",
       "      <td align=\"center\">weather</td>\n",
       "      <td align=\"center\"><img src=\"/nethome/vprabhu9/code/LANCE/release/outputs/HardImageNet/gymnastic horizontal bar/ILSVRC2012_val_00006650/rainy.jpeg\" width=\"512\" ></td>\n",
       "      <td align=\"center\"><style='text-align:center;'><font color='green'>gymnastic horizontal bar</font> (58.14%)<br/>balance beam (34.62%)<br/>parallel bars (7.22%)<br/>pole (0.01%)<br/>volleyball (0.00%)<br/></style></td>\n",
       "      <td align=\"center\">26.38</td>\n",
       "    </tr>\n",
       "  </tbody>\n",
       "</table>"
      ],
      "text/plain": [
       "<IPython.core.display.HTML object>"
      ]
     },
     "metadata": {},
     "output_type": "display_data"
    },
    {
     "data": {
      "text/markdown": [
       "## Cluster 8: Sensitivity=19.23%"
      ],
      "text/plain": [
       "<IPython.core.display.Markdown object>"
      ]
     },
     "metadata": {},
     "output_type": "display_data"
    },
    {
     "data": {
      "text/html": [
       "<table border=\"1\" class=\"dataframe\">\n",
       "  <thead>\n",
       "    <tr style=\"text-align: center;\">\n",
       "      <th style=\"text-align:center;\"></th>\n",
       "      <th style=\"text-align:center;\">Image</th>\n",
       "      <th style=\"text-align:center;\">Label</th>\n",
       "      <th style=\"text-align:center;\">Prediction</th>\n",
       "      <th style=\"text-align:center;\">Caption</th>\n",
       "      <th style=\"text-align:center;\">Edited Caption</th>\n",
       "      <th style=\"text-align:center;\">Edit Type</th>\n",
       "      <th style=\"text-align:center;\">LANCE</th>\n",
       "      <th style=\"text-align:center;\">LANCE prediction</th>\n",
       "      <th style=\"text-align:center;\">Sensitivity</th>\n",
       "    </tr>\n",
       "  </thead>\n",
       "  <tbody>\n",
       "    <tr>\n",
       "      <th style=\"text-align:center;\">275</th>\n",
       "      <td align=\"center\"><img src=\"/nethome/vprabhu9/code/LANCE/release/outputs/HardImageNet/gymnastic horizontal bar/ILSVRC2012_val_00012133/img.jpeg\" width=\"512\" ></td>\n",
       "      <td align=\"center\">gymnastic horizontal bar</td>\n",
       "      <td align=\"center\"><style='text-align:center;'><font color='green'>gymnastic horizontal bar</font> (90.03%)<br/>parallel bars (5.72%)<br/>pole (2.36%)<br/>balance beam (0.68%)<br/>paddle (0.16%)<br/></style></td>\n",
       "      <td align=\"center\">a photo of a woman in a black leotard is standing on a rail with a <mark>green tutu</mark></td>\n",
       "      <td align=\"center\">a photo of a woman in a black leotard is standing on a rail with a <mark>red hat</mark></td>\n",
       "      <td align=\"center\">subject</td>\n",
       "      <td align=\"center\"><img src=\"/nethome/vprabhu9/code/LANCE/release/outputs/HardImageNet/gymnastic horizontal bar/ILSVRC2012_val_00012133/red_hat.jpeg\" width=\"512\" ></td>\n",
       "      <td align=\"center\"><style='text-align:center;'><font color='green'>gymnastic horizontal bar</font> (96.46%)<br/>parallel bars (2.23%)<br/>pole (1.22%)<br/>barbell (0.02%)<br/>paddle (0.02%)<br/></style></td>\n",
       "      <td align=\"center\">6.43</td>\n",
       "    </tr>\n",
       "    <tr>\n",
       "      <th style=\"text-align:center;\">277</th>\n",
       "      <td align=\"center\"><img src=\"/nethome/vprabhu9/code/LANCE/release/outputs/HardImageNet/gymnastic horizontal bar/ILSVRC2012_val_00012133/img.jpeg\" width=\"512\" ></td>\n",
       "      <td align=\"center\">gymnastic horizontal bar</td>\n",
       "      <td align=\"center\"><style='text-align:center;'><font color='green'>gymnastic horizontal bar</font> (90.03%)<br/>parallel bars (5.72%)<br/>pole (2.36%)<br/>balance beam (0.68%)<br/>paddle (0.16%)<br/></style></td>\n",
       "      <td align=\"center\">a photo of a woman in a black leotard is standing on a rail with a <mark>green tutu</mark></td>\n",
       "      <td align=\"center\">a photo of a woman in a black leotard is standing on a rail with a <mark>blue scarf</mark></td>\n",
       "      <td align=\"center\">subject</td>\n",
       "      <td align=\"center\"><img src=\"/nethome/vprabhu9/code/LANCE/release/outputs/HardImageNet/gymnastic horizontal bar/ILSVRC2012_val_00012133/blue_scarf.jpeg\" width=\"512\" ></td>\n",
       "      <td align=\"center\"><style='text-align:center;'><font color='green'>gymnastic horizontal bar</font> (78.75%)<br/>parallel bars (9.79%)<br/>pole (7.06%)<br/>paddle (1.49%)<br/>balance beam (0.34%)<br/></style></td>\n",
       "      <td align=\"center\">11.28</td>\n",
       "    </tr>\n",
       "    <tr>\n",
       "      <th style=\"text-align:center;\">278</th>\n",
       "      <td align=\"center\"><img src=\"/nethome/vprabhu9/code/LANCE/release/outputs/HardImageNet/gymnastic horizontal bar/ILSVRC2012_val_00012133/img.jpeg\" width=\"512\" ></td>\n",
       "      <td align=\"center\">gymnastic horizontal bar</td>\n",
       "      <td align=\"center\"><style='text-align:center;'><font color='green'>gymnastic horizontal bar</font> (90.03%)<br/>parallel bars (5.72%)<br/>pole (2.36%)<br/>balance beam (0.68%)<br/>paddle (0.16%)<br/></style></td>\n",
       "      <td align=\"center\">a photo of a woman in a black leotard is standing on a rail with a <mark>green tutu</mark></td>\n",
       "      <td align=\"center\">a photo of a woman in a black leotard is standing on a rail with a <mark>yellow handbag</mark></td>\n",
       "      <td align=\"center\">subject</td>\n",
       "      <td align=\"center\"><img src=\"/nethome/vprabhu9/code/LANCE/release/outputs/HardImageNet/gymnastic horizontal bar/ILSVRC2012_val_00012133/yellow_handbag.jpeg\" width=\"512\" ></td>\n",
       "      <td align=\"center\"><style='text-align:center;'>paddle (46.14%)<br/><font color='green'>gymnastic horizontal bar</font> (10.00%)<br/>pole (9.20%)<br/>one-piece bathing suit (8.92%)<br/>tights (8.34%)<br/></style></td>\n",
       "      <td align=\"center\">80.03</td>\n",
       "    </tr>\n",
       "    <tr>\n",
       "      <th style=\"text-align:center;\">279</th>\n",
       "      <td align=\"center\"><img src=\"/nethome/vprabhu9/code/LANCE/release/outputs/HardImageNet/gymnastic horizontal bar/ILSVRC2012_val_00012133/img.jpeg\" width=\"512\" ></td>\n",
       "      <td align=\"center\">gymnastic horizontal bar</td>\n",
       "      <td align=\"center\"><style='text-align:center;'><font color='green'>gymnastic horizontal bar</font> (90.03%)<br/>parallel bars (5.72%)<br/>pole (2.36%)<br/>balance beam (0.68%)<br/>paddle (0.16%)<br/></style></td>\n",
       "      <td align=\"center\">a photo of a woman in a black leotard is standing on a rail with a <mark>green tutu</mark></td>\n",
       "      <td align=\"center\">a photo of a woman in a black leotard is standing on a rail with a <mark>gray turtleneck</mark></td>\n",
       "      <td align=\"center\">subject</td>\n",
       "      <td align=\"center\"><img src=\"/nethome/vprabhu9/code/LANCE/release/outputs/HardImageNet/gymnastic horizontal bar/ILSVRC2012_val_00012133/gray_turtleneck.jpeg\" width=\"512\" ></td>\n",
       "      <td align=\"center\"><style='text-align:center;'><font color='green'>gymnastic horizontal bar</font> (95.34%)<br/>parallel bars (2.56%)<br/>pole (1.93%)<br/>paddle (0.05%)<br/>barbell (0.03%)<br/></style></td>\n",
       "      <td align=\"center\">5.31</td>\n",
       "    </tr>\n",
       "    <tr>\n",
       "      <th style=\"text-align:center;\">280</th>\n",
       "      <td align=\"center\"><img src=\"/nethome/vprabhu9/code/LANCE/release/outputs/HardImageNet/gymnastic horizontal bar/ILSVRC2012_val_00012133/img.jpeg\" width=\"512\" ></td>\n",
       "      <td align=\"center\">gymnastic horizontal bar</td>\n",
       "      <td align=\"center\"><style='text-align:center;'><font color='green'>gymnastic horizontal bar</font> (90.03%)<br/>parallel bars (5.72%)<br/>pole (2.36%)<br/>balance beam (0.68%)<br/>paddle (0.16%)<br/></style></td>\n",
       "      <td align=\"center\">a photo of a woman in a black leotard is standing on a rail with a <mark>green tutu</mark></td>\n",
       "      <td align=\"center\">a photo of a woman in a black leotard is standing on a rail with a <mark>purple tank top</mark></td>\n",
       "      <td align=\"center\">subject</td>\n",
       "      <td align=\"center\"><img src=\"/nethome/vprabhu9/code/LANCE/release/outputs/HardImageNet/gymnastic horizontal bar/ILSVRC2012_val_00012133/purple_tank_top.jpeg\" width=\"512\" ></td>\n",
       "      <td align=\"center\"><style='text-align:center;'><font color='green'>gymnastic horizontal bar</font> (83.51%)<br/>pole (12.95%)<br/>parallel bars (3.07%)<br/>paddle (0.18%)<br/>flagpole (0.04%)<br/></style></td>\n",
       "      <td align=\"center\">6.52</td>\n",
       "    </tr>\n",
       "  </tbody>\n",
       "</table>"
      ],
      "text/plain": [
       "<IPython.core.display.HTML object>"
      ]
     },
     "metadata": {},
     "output_type": "display_data"
    },
    {
     "name": "stdout",
     "output_type": "stream",
     "text": [
      "\n",
      "\n",
      "\n",
      "\n"
     ]
    },
    {
     "data": {
      "text/markdown": [
       "# Class: hockey puck"
      ],
      "text/plain": [
       "<IPython.core.display.Markdown object>"
      ]
     },
     "metadata": {},
     "output_type": "display_data"
    },
    {
     "data": {
      "text/markdown": [
       "## Cluster 4: Sensitivity=14.42%"
      ],
      "text/plain": [
       "<IPython.core.display.Markdown object>"
      ]
     },
     "metadata": {},
     "output_type": "display_data"
    },
    {
     "data": {
      "text/html": [
       "<table border=\"1\" class=\"dataframe\">\n",
       "  <thead>\n",
       "    <tr style=\"text-align: center;\">\n",
       "      <th style=\"text-align:center;\"></th>\n",
       "      <th style=\"text-align:center;\">Image</th>\n",
       "      <th style=\"text-align:center;\">Label</th>\n",
       "      <th style=\"text-align:center;\">Prediction</th>\n",
       "      <th style=\"text-align:center;\">Caption</th>\n",
       "      <th style=\"text-align:center;\">Edited Caption</th>\n",
       "      <th style=\"text-align:center;\">Edit Type</th>\n",
       "      <th style=\"text-align:center;\">LANCE</th>\n",
       "      <th style=\"text-align:center;\">LANCE prediction</th>\n",
       "      <th style=\"text-align:center;\">Sensitivity</th>\n",
       "    </tr>\n",
       "  </thead>\n",
       "  <tbody>\n",
       "    <tr>\n",
       "      <th style=\"text-align:center;\">382</th>\n",
       "      <td align=\"center\"><img src=\"/nethome/vprabhu9/code/LANCE/release/outputs/HardImageNet/hockey puck/ILSVRC2012_val_00043277/img.jpeg\" width=\"512\" ></td>\n",
       "      <td align=\"center\">hockey puck</td>\n",
       "      <td align=\"center\"><style='text-align:center;'><font color='green'>hockey puck</font> (99.92%)<br/>knee pad (0.04%)<br/>ski (0.02%)<br/>baseball player (0.01%)<br/>crash helmet (0.00%)<br/></style></td>\n",
       "      <td align=\"center\">a photo of a couple of men that are playing a game of ice hockey on an ice rink</td>\n",
       "      <td align=\"center\">a photo of a couple of men that are playing a game of ice hockey on an ice rink <mark>in the middle of a snowy forest</mark></td>\n",
       "      <td align=\"center\">background</td>\n",
       "      <td align=\"center\"><img src=\"/nethome/vprabhu9/code/LANCE/release/outputs/HardImageNet/hockey puck/ILSVRC2012_val_00043277/in_the_middle_of_a_snowy_forest.jpeg\" width=\"512\" ></td>\n",
       "      <td align=\"center\"><style='text-align:center;'><font color='green'>hockey puck</font> (74.30%)<br/>ski (25.56%)<br/>bobsleigh (0.05%)<br/>knee pad (0.02%)<br/>balaclava ski mask (0.02%)<br/></style></td>\n",
       "      <td align=\"center\">25.62</td>\n",
       "    </tr>\n",
       "    <tr>\n",
       "      <th style=\"text-align:center;\">410</th>\n",
       "      <td align=\"center\"><img src=\"/nethome/vprabhu9/code/LANCE/release/outputs/HardImageNet/hockey puck/ILSVRC2012_val_00027603/img.jpeg\" width=\"512\" ></td>\n",
       "      <td align=\"center\">hockey puck</td>\n",
       "      <td align=\"center\"><style='text-align:center;'><font color='green'>hockey puck</font> (99.05%)<br/>shield (0.29%)<br/>wall clock (0.21%)<br/>analog clock (0.14%)<br/>website (0.05%)<br/></style></td>\n",
       "      <td align=\"center\">a photo of two hockey puck magnets sitting on top of a red cloth covered surface with a black background</td>\n",
       "      <td align=\"center\">a photo of two hockey puck magnets sitting on top of a red cloth covered surface with a black background <mark>in a forest</mark></td>\n",
       "      <td align=\"center\">weather</td>\n",
       "      <td align=\"center\"><img src=\"/nethome/vprabhu9/code/LANCE/release/outputs/HardImageNet/hockey puck/ILSVRC2012_val_00027603/in_a_forest.jpeg\" width=\"512\" ></td>\n",
       "      <td align=\"center\"><style='text-align:center;'><font color='green'>hockey puck</font> (95.83%)<br/>shield (2.64%)<br/>plectrum (0.29%)<br/>wall clock (0.27%)<br/>buckle (0.17%)<br/></style></td>\n",
       "      <td align=\"center\">3.21</td>\n",
       "    </tr>\n",
       "  </tbody>\n",
       "</table>"
      ],
      "text/plain": [
       "<IPython.core.display.HTML object>"
      ]
     },
     "metadata": {},
     "output_type": "display_data"
    },
    {
     "data": {
      "text/markdown": [
       "## Cluster 7: Sensitivity=12.26%"
      ],
      "text/plain": [
       "<IPython.core.display.Markdown object>"
      ]
     },
     "metadata": {},
     "output_type": "display_data"
    },
    {
     "data": {
      "text/html": [
       "<table border=\"1\" class=\"dataframe\">\n",
       "  <thead>\n",
       "    <tr style=\"text-align: center;\">\n",
       "      <th style=\"text-align:center;\"></th>\n",
       "      <th style=\"text-align:center;\">Image</th>\n",
       "      <th style=\"text-align:center;\">Label</th>\n",
       "      <th style=\"text-align:center;\">Prediction</th>\n",
       "      <th style=\"text-align:center;\">Caption</th>\n",
       "      <th style=\"text-align:center;\">Edited Caption</th>\n",
       "      <th style=\"text-align:center;\">Edit Type</th>\n",
       "      <th style=\"text-align:center;\">LANCE</th>\n",
       "      <th style=\"text-align:center;\">LANCE prediction</th>\n",
       "      <th style=\"text-align:center;\">Sensitivity</th>\n",
       "    </tr>\n",
       "  </thead>\n",
       "  <tbody>\n",
       "    <tr>\n",
       "      <th style=\"text-align:center;\">418</th>\n",
       "      <td align=\"center\"><img src=\"/nethome/vprabhu9/code/LANCE/release/outputs/HardImageNet/hockey puck/ILSVRC2012_val_00048759/img.jpeg\" width=\"512\" ></td>\n",
       "      <td align=\"center\">hockey puck</td>\n",
       "      <td align=\"center\"><style='text-align:center;'><font color='green'>hockey puck</font> (99.23%)<br/>football helmet (0.19%)<br/>shield (0.16%)<br/>crash helmet (0.06%)<br/>comic book (0.04%)<br/></style></td>\n",
       "      <td align=\"center\">a photo of a hockey puck with the chicago blackhawks logo signed by the hockey team on it</td>\n",
       "      <td align=\"center\">a photo of a <mark>large</mark> hockey puck with the chicago blackhawks logo signed by the hockey team on it</td>\n",
       "      <td align=\"center\">adjective</td>\n",
       "      <td align=\"center\"><img src=\"/nethome/vprabhu9/code/LANCE/release/outputs/HardImageNet/hockey puck/ILSVRC2012_val_00048759/large.jpeg\" width=\"512\" ></td>\n",
       "      <td align=\"center\"><style='text-align:center;'><font color='green'>hockey puck</font> (62.64%)<br/>shield (10.73%)<br/>hard disk drive (4.44%)<br/>crash helmet (3.57%)<br/>laptop computer (2.93%)<br/></style></td>\n",
       "      <td align=\"center\">36.59</td>\n",
       "    </tr>\n",
       "    <tr>\n",
       "      <th style=\"text-align:center;\">384</th>\n",
       "      <td align=\"center\"><img src=\"/nethome/vprabhu9/code/LANCE/release/outputs/HardImageNet/hockey puck/ILSVRC2012_val_00024819/img.jpeg\" width=\"512\" ></td>\n",
       "      <td align=\"center\">hockey puck</td>\n",
       "      <td align=\"center\"><style='text-align:center;'><font color='green'>hockey puck</font> (99.85%)<br/>bottle cap (0.09%)<br/>shield (0.04%)<br/>buckle (0.01%)<br/>bolo tie (0.00%)<br/></style></td>\n",
       "      <td align=\"center\">a photo of a hockey puck sitting on top of a wooden table</td>\n",
       "      <td align=\"center\">a photo of a <mark>large</mark> hockey puck sitting on top of a wooden table</td>\n",
       "      <td align=\"center\">adjective</td>\n",
       "      <td align=\"center\"><img src=\"/nethome/vprabhu9/code/LANCE/release/outputs/HardImageNet/hockey puck/ILSVRC2012_val_00024819/large.jpeg\" width=\"512\" ></td>\n",
       "      <td align=\"center\"><style='text-align:center;'><font color='green'>hockey puck</font> (99.66%)<br/>shield (0.31%)<br/>bottle cap (0.02%)<br/>buckle (0.00%)<br/>tray (0.00%)<br/></style></td>\n",
       "      <td align=\"center\">0.19</td>\n",
       "    </tr>\n",
       "    <tr>\n",
       "      <th style=\"text-align:center;\">387</th>\n",
       "      <td align=\"center\"><img src=\"/nethome/vprabhu9/code/LANCE/release/outputs/HardImageNet/hockey puck/ILSVRC2012_val_00007030/img.jpeg\" width=\"512\" ></td>\n",
       "      <td align=\"center\">hockey puck</td>\n",
       "      <td align=\"center\"><style='text-align:center;'><font color='green'>hockey puck</font> (99.98%)<br/>plectrum (0.01%)<br/>cd player (0.00%)<br/>shield (0.00%)<br/>ping-pong ball (0.00%)<br/></style></td>\n",
       "      <td align=\"center\">a photo of a hockey puck sitting on top of a wooden floor next to a hockey sticker</td>\n",
       "      <td align=\"center\">a photo of a <mark>large</mark> hockey puck sitting on top of a wooden floor next to a hockey sticker</td>\n",
       "      <td align=\"center\">adjective</td>\n",
       "      <td align=\"center\"><img src=\"/nethome/vprabhu9/code/LANCE/release/outputs/HardImageNet/hockey puck/ILSVRC2012_val_00007030/large.jpeg\" width=\"512\" ></td>\n",
       "      <td align=\"center\"><style='text-align:center;'><font color='green'>hockey puck</font> (100.00%)<br/>plectrum (0.00%)<br/>shield (0.00%)<br/>toilet seat (0.00%)<br/>cd player (0.00%)<br/></style></td>\n",
       "      <td align=\"center\">0.01</td>\n",
       "    </tr>\n",
       "  </tbody>\n",
       "</table>"
      ],
      "text/plain": [
       "<IPython.core.display.HTML object>"
      ]
     },
     "metadata": {},
     "output_type": "display_data"
    },
    {
     "data": {
      "text/markdown": [
       "## Cluster 0: Sensitivity=9.58%"
      ],
      "text/plain": [
       "<IPython.core.display.Markdown object>"
      ]
     },
     "metadata": {},
     "output_type": "display_data"
    },
    {
     "data": {
      "text/html": [
       "<table border=\"1\" class=\"dataframe\">\n",
       "  <thead>\n",
       "    <tr style=\"text-align: center;\">\n",
       "      <th style=\"text-align:center;\"></th>\n",
       "      <th style=\"text-align:center;\">Image</th>\n",
       "      <th style=\"text-align:center;\">Label</th>\n",
       "      <th style=\"text-align:center;\">Prediction</th>\n",
       "      <th style=\"text-align:center;\">Caption</th>\n",
       "      <th style=\"text-align:center;\">Edited Caption</th>\n",
       "      <th style=\"text-align:center;\">Edit Type</th>\n",
       "      <th style=\"text-align:center;\">LANCE</th>\n",
       "      <th style=\"text-align:center;\">LANCE prediction</th>\n",
       "      <th style=\"text-align:center;\">Sensitivity</th>\n",
       "    </tr>\n",
       "  </thead>\n",
       "  <tbody>\n",
       "    <tr>\n",
       "      <th style=\"text-align:center;\">397</th>\n",
       "      <td align=\"center\"><img src=\"/nethome/vprabhu9/code/LANCE/release/outputs/HardImageNet/hockey puck/ILSVRC2012_val_00024203/img.jpeg\" width=\"512\" ></td>\n",
       "      <td align=\"center\">hockey puck</td>\n",
       "      <td align=\"center\"><style='text-align:center;'><font color='green'>hockey puck</font> (99.99%)<br/>car wheel (0.00%)<br/>beer bottle (0.00%)<br/>chocolate syrup (0.00%)<br/>neck brace (0.00%)<br/></style></td>\n",
       "      <td align=\"center\">a photo of a close up of a hockey puck on a table with a blue and white background</td>\n",
       "      <td align=\"center\">a photo of a close up of a hockey puck on a table with a blue and white background <mark>on a rainy day</mark></td>\n",
       "      <td align=\"center\">weather</td>\n",
       "      <td align=\"center\"><img src=\"/nethome/vprabhu9/code/LANCE/release/outputs/HardImageNet/hockey puck/ILSVRC2012_val_00024203/on_a_rainy_day.jpeg\" width=\"512\" ></td>\n",
       "      <td align=\"center\"><style='text-align:center;'><font color='green'>hockey puck</font> (94.85%)<br/>beer bottle (2.07%)<br/>car wheel (0.67%)<br/>scoreboard (0.60%)<br/>manhole cover (0.15%)<br/></style></td>\n",
       "      <td align=\"center\">5.14</td>\n",
       "    </tr>\n",
       "    <tr>\n",
       "      <th style=\"text-align:center;\">401</th>\n",
       "      <td align=\"center\"><img src=\"/nethome/vprabhu9/code/LANCE/release/outputs/HardImageNet/hockey puck/ILSVRC2012_val_00014952/img.jpeg\" width=\"512\" ></td>\n",
       "      <td align=\"center\">hockey puck</td>\n",
       "      <td align=\"center\"><style='text-align:center;'><font color='green'>hockey puck</font> (99.76%)<br/>ski (0.18%)<br/>broom (0.03%)<br/>shovel (0.01%)<br/>balaclava ski mask (0.00%)<br/></style></td>\n",
       "      <td align=\"center\">a photo of a hockey player in a red jersey and black pants with a hockey stick in his hand</td>\n",
       "      <td align=\"center\">a photo of a hockey player in a red jersey and black pants with a hockey stick in his hand <mark>on a cloudy day</mark></td>\n",
       "      <td align=\"center\">weather</td>\n",
       "      <td align=\"center\"><img src=\"/nethome/vprabhu9/code/LANCE/release/outputs/HardImageNet/hockey puck/ILSVRC2012_val_00014952/on_a_cloudy_day.jpeg\" width=\"512\" ></td>\n",
       "      <td align=\"center\"><style='text-align:center;'><font color='green'>hockey puck</font> (99.69%)<br/>ski (0.24%)<br/>broom (0.03%)<br/>shovel (0.02%)<br/>knee pad (0.01%)<br/></style></td>\n",
       "      <td align=\"center\">0.07</td>\n",
       "    </tr>\n",
       "    <tr>\n",
       "      <th style=\"text-align:center;\">392</th>\n",
       "      <td align=\"center\"><img src=\"/nethome/vprabhu9/code/LANCE/release/outputs/HardImageNet/hockey puck/ILSVRC2012_val_00013391/img.jpeg\" width=\"512\" ></td>\n",
       "      <td align=\"center\">hockey puck</td>\n",
       "      <td align=\"center\"><style='text-align:center;'><font color='green'>hockey puck</font> (57.91%)<br/>sneaker (32.96%)<br/>football helmet (3.79%)<br/>knee pad (0.85%)<br/>shoe store (0.65%)<br/></style></td>\n",
       "      <td align=\"center\">a photo of a hockey goalie laying on the ice with a hockey stick in his hand and a helmet on his head</td>\n",
       "      <td align=\"center\">a photo of a hockey goalie laying on the ice with a hockey stick in his hand and a helmet on his head <mark>on a rainy day</mark></td>\n",
       "      <td align=\"center\">weather</td>\n",
       "      <td align=\"center\"><img src=\"/nethome/vprabhu9/code/LANCE/release/outputs/HardImageNet/hockey puck/ILSVRC2012_val_00013391/on_a_rainy_day.jpeg\" width=\"512\" ></td>\n",
       "      <td align=\"center\"><style='text-align:center;'>football helmet (40.34%)<br/><font color='green'>hockey puck</font> (23.29%)<br/>sneaker (22.19%)<br/>crash helmet (1.87%)<br/>muzzle (1.57%)<br/></style></td>\n",
       "      <td align=\"center\">34.62</td>\n",
       "    </tr>\n",
       "    <tr>\n",
       "      <th style=\"text-align:center;\">393</th>\n",
       "      <td align=\"center\"><img src=\"/nethome/vprabhu9/code/LANCE/release/outputs/HardImageNet/hockey puck/ILSVRC2012_val_00013391/img.jpeg\" width=\"512\" ></td>\n",
       "      <td align=\"center\">hockey puck</td>\n",
       "      <td align=\"center\"><style='text-align:center;'><font color='green'>hockey puck</font> (57.91%)<br/>sneaker (32.96%)<br/>football helmet (3.79%)<br/>knee pad (0.85%)<br/>shoe store (0.65%)<br/></style></td>\n",
       "      <td align=\"center\">a photo of a hockey goalie laying on the ice with a hockey stick in his hand and a helmet on his head</td>\n",
       "      <td align=\"center\">a photo of a hockey goalie laying on the ice with a hockey stick in his hand and a helmet on his head <mark>on a stormy day</mark></td>\n",
       "      <td align=\"center\">weather</td>\n",
       "      <td align=\"center\"><img src=\"/nethome/vprabhu9/code/LANCE/release/outputs/HardImageNet/hockey puck/ILSVRC2012_val_00013391/on_a_stormy_day.jpeg\" width=\"512\" ></td>\n",
       "      <td align=\"center\"><style='text-align:center;'>football helmet (36.24%)<br/><font color='green'>hockey puck</font> (30.99%)<br/>sneaker (10.74%)<br/>baseball player (2.69%)<br/>crash helmet (2.52%)<br/></style></td>\n",
       "      <td align=\"center\">26.92</td>\n",
       "    </tr>\n",
       "    <tr>\n",
       "      <th style=\"text-align:center;\">396</th>\n",
       "      <td align=\"center\"><img src=\"/nethome/vprabhu9/code/LANCE/release/outputs/HardImageNet/hockey puck/ILSVRC2012_val_00012382/img.jpeg\" width=\"512\" ></td>\n",
       "      <td align=\"center\">hockey puck</td>\n",
       "      <td align=\"center\"><style='text-align:center;'><font color='green'>hockey puck</font> (100.00%)<br/>ski (0.00%)<br/>broom (0.00%)<br/>crutch (0.00%)<br/>knee pad (0.00%)<br/></style></td>\n",
       "      <td align=\"center\">a photo of a hockey player on the ice with a hockey stick in his hand and a puck in his hand</td>\n",
       "      <td align=\"center\">a photo of a hockey player on the ice with a hockey stick in his hand and a puck in his hand <mark>during a school hockey tournament</mark></td>\n",
       "      <td align=\"center\">background</td>\n",
       "      <td align=\"center\"><img src=\"/nethome/vprabhu9/code/LANCE/release/outputs/HardImageNet/hockey puck/ILSVRC2012_val_00012382/during_a_school_hockey_tournament.jpeg\" width=\"512\" ></td>\n",
       "      <td align=\"center\"><style='text-align:center;'><font color='green'>hockey puck</font> (99.99%)<br/>ski (0.00%)<br/>knee pad (0.00%)<br/>broom (0.00%)<br/>basketball (0.00%)<br/></style></td>\n",
       "      <td align=\"center\">0.01</td>\n",
       "    </tr>\n",
       "  </tbody>\n",
       "</table>"
      ],
      "text/plain": [
       "<IPython.core.display.HTML object>"
      ]
     },
     "metadata": {},
     "output_type": "display_data"
    },
    {
     "name": "stdout",
     "output_type": "stream",
     "text": [
      "\n",
      "\n",
      "\n",
      "\n"
     ]
    },
    {
     "data": {
      "text/markdown": [
       "# Class: howler monkey"
      ],
      "text/plain": [
       "<IPython.core.display.Markdown object>"
      ]
     },
     "metadata": {},
     "output_type": "display_data"
    },
    {
     "data": {
      "text/markdown": [
       "## Cluster 0: Sensitivity=74.92%"
      ],
      "text/plain": [
       "<IPython.core.display.Markdown object>"
      ]
     },
     "metadata": {},
     "output_type": "display_data"
    },
    {
     "data": {
      "text/html": [
       "<table border=\"1\" class=\"dataframe\">\n",
       "  <thead>\n",
       "    <tr style=\"text-align: center;\">\n",
       "      <th style=\"text-align:center;\"></th>\n",
       "      <th style=\"text-align:center;\">Image</th>\n",
       "      <th style=\"text-align:center;\">Label</th>\n",
       "      <th style=\"text-align:center;\">Prediction</th>\n",
       "      <th style=\"text-align:center;\">Caption</th>\n",
       "      <th style=\"text-align:center;\">Edited Caption</th>\n",
       "      <th style=\"text-align:center;\">Edit Type</th>\n",
       "      <th style=\"text-align:center;\">LANCE</th>\n",
       "      <th style=\"text-align:center;\">LANCE prediction</th>\n",
       "      <th style=\"text-align:center;\">Sensitivity</th>\n",
       "    </tr>\n",
       "  </thead>\n",
       "  <tbody>\n",
       "    <tr>\n",
       "      <th style=\"text-align:center;\">501</th>\n",
       "      <td align=\"center\"><img src=\"/nethome/vprabhu9/code/LANCE/release/outputs/HardImageNet/howler monkey/ILSVRC2012_val_00034985/img.jpeg\" width=\"512\" ></td>\n",
       "      <td align=\"center\">howler monkey</td>\n",
       "      <td align=\"center\"><style='text-align:center;'><font color='green'>howler monkey</font> (99.36%)<br/>titi monkey (0.19%)<br/>white-headed capuchin (0.15%)<br/>chimpanzee (0.10%)<br/>geoffroy's spider monkey (0.08%)<br/></style></td>\n",
       "      <td align=\"center\">a photo of a howler monkey is <mark>sitting in a tree with its head in the branches of a tree</mark></td>\n",
       "      <td align=\"center\">a photo of a <mark>rain is pouring down on the monkey sitting in the tree the</mark> monkey is trying to stay dry</td>\n",
       "      <td align=\"center\">weather</td>\n",
       "      <td align=\"center\"><img src=\"/nethome/vprabhu9/code/LANCE/release/outputs/HardImageNet/howler monkey/ILSVRC2012_val_00034985/rain_is_pouring_down_on_the_monkey_sitting_in_the_tree_the.jpeg\" width=\"512\" ></td>\n",
       "      <td align=\"center\"><style='text-align:center;'>geoffroy's spider monkey (55.42%)<br/><font color='green'>howler monkey</font> (15.23%)<br/>titi monkey (12.49%)<br/>marmoset (7.16%)<br/>macaque (1.89%)<br/></style></td>\n",
       "      <td align=\"center\">84.13</td>\n",
       "    </tr>\n",
       "    <tr>\n",
       "      <th style=\"text-align:center;\">502</th>\n",
       "      <td align=\"center\"><img src=\"/nethome/vprabhu9/code/LANCE/release/outputs/HardImageNet/howler monkey/ILSVRC2012_val_00034985/img.jpeg\" width=\"512\" ></td>\n",
       "      <td align=\"center\">howler monkey</td>\n",
       "      <td align=\"center\"><style='text-align:center;'><font color='green'>howler monkey</font> (99.36%)<br/>titi monkey (0.19%)<br/>white-headed capuchin (0.15%)<br/>chimpanzee (0.10%)<br/>geoffroy's spider monkey (0.08%)<br/></style></td>\n",
       "      <td align=\"center\">a photo of a howler monkey is <mark>sitting in a tree with its head in the branches of a tree</mark></td>\n",
       "      <td align=\"center\">a photo of a <mark>snow is covering the monkey sitting in the tree the</mark> monkey is trying to stay warm</td>\n",
       "      <td align=\"center\">weather</td>\n",
       "      <td align=\"center\"><img src=\"/nethome/vprabhu9/code/LANCE/release/outputs/HardImageNet/howler monkey/ILSVRC2012_val_00034985/snow_is_covering_the_monkey_sitting_in_the_tree_the.jpeg\" width=\"512\" ></td>\n",
       "      <td align=\"center\"><style='text-align:center;'>geoffroy's spider monkey (59.67%)<br/><font color='green'>howler monkey</font> (33.64%)<br/>white-headed capuchin (2.86%)<br/>titi monkey (1.16%)<br/>langur (0.99%)<br/></style></td>\n",
       "      <td align=\"center\">65.72</td>\n",
       "    </tr>\n",
       "  </tbody>\n",
       "</table>"
      ],
      "text/plain": [
       "<IPython.core.display.HTML object>"
      ]
     },
     "metadata": {},
     "output_type": "display_data"
    },
    {
     "data": {
      "text/markdown": [
       "## Cluster 6: Sensitivity=59.03%"
      ],
      "text/plain": [
       "<IPython.core.display.Markdown object>"
      ]
     },
     "metadata": {},
     "output_type": "display_data"
    },
    {
     "data": {
      "text/html": [
       "<table border=\"1\" class=\"dataframe\">\n",
       "  <thead>\n",
       "    <tr style=\"text-align: center;\">\n",
       "      <th style=\"text-align:center;\"></th>\n",
       "      <th style=\"text-align:center;\">Image</th>\n",
       "      <th style=\"text-align:center;\">Label</th>\n",
       "      <th style=\"text-align:center;\">Prediction</th>\n",
       "      <th style=\"text-align:center;\">Caption</th>\n",
       "      <th style=\"text-align:center;\">Edited Caption</th>\n",
       "      <th style=\"text-align:center;\">Edit Type</th>\n",
       "      <th style=\"text-align:center;\">LANCE</th>\n",
       "      <th style=\"text-align:center;\">LANCE prediction</th>\n",
       "      <th style=\"text-align:center;\">Sensitivity</th>\n",
       "    </tr>\n",
       "  </thead>\n",
       "  <tbody>\n",
       "    <tr>\n",
       "      <th style=\"text-align:center;\">540</th>\n",
       "      <td align=\"center\"><img src=\"/nethome/vprabhu9/code/LANCE/release/outputs/HardImageNet/howler monkey/ILSVRC2012_val_00048932/img.jpeg\" width=\"512\" ></td>\n",
       "      <td align=\"center\">howler monkey</td>\n",
       "      <td align=\"center\"><style='text-align:center;'>geoffroy's spider monkey (59.17%)<br/><font color='green'>howler monkey</font> (29.05%)<br/>titi monkey (10.20%)<br/>white-headed capuchin (0.41%)<br/>common squirrel monkey (0.27%)<br/></style></td>\n",
       "      <td align=\"center\">a photo of a howler monkey sitting in a tree with leaves around it's neck and eyes wide open</td>\n",
       "      <td align=\"center\">a photo of a <mark>peaceful meditating</mark> monkey sitting in a tree with leaves around its neck and eyes wide open</td>\n",
       "      <td align=\"center\">background</td>\n",
       "      <td align=\"center\"><img src=\"/nethome/vprabhu9/code/LANCE/release/outputs/HardImageNet/howler monkey/ILSVRC2012_val_00048932/peaceful_meditating.jpeg\" width=\"512\" ></td>\n",
       "      <td align=\"center\"><style='text-align:center;'>geoffroy's spider monkey (82.69%)<br/>macaque (6.95%)<br/>titi monkey (5.54%)<br/>common squirrel monkey (1.12%)<br/>white-headed capuchin (1.01%)<br/></style></td>\n",
       "      <td align=\"center\">29.05</td>\n",
       "    </tr>\n",
       "    <tr>\n",
       "      <th style=\"text-align:center;\">533</th>\n",
       "      <td align=\"center\"><img src=\"/nethome/vprabhu9/code/LANCE/release/outputs/HardImageNet/howler monkey/ILSVRC2012_val_00012711/img.jpeg\" width=\"512\" ></td>\n",
       "      <td align=\"center\">howler monkey</td>\n",
       "      <td align=\"center\"><style='text-align:center;'><font color='green'>howler monkey</font> (94.29%)<br/>geoffroy's spider monkey (4.51%)<br/>white-headed capuchin (1.06%)<br/>titi monkey (0.11%)<br/>black-and-white colobus (0.00%)<br/></style></td>\n",
       "      <td align=\"center\">a photo of a howler monkey <mark>sitting on</mark> a tree branch in a tree with green leaves and a branch in the foreground</td>\n",
       "      <td align=\"center\">a photo of a <mark>group of</mark> monkeys swinging from a tree in a tree with green leaves and a branch in the foreground</td>\n",
       "      <td align=\"center\">background</td>\n",
       "      <td align=\"center\"><img src=\"/nethome/vprabhu9/code/LANCE/release/outputs/HardImageNet/howler monkey/ILSVRC2012_val_00012711/group_of.jpeg\" width=\"512\" ></td>\n",
       "      <td align=\"center\"><style='text-align:center;'>white-headed capuchin (56.18%)<br/>geoffroy's spider monkey (18.37%)<br/>titi monkey (8.72%)<br/><font color='green'>howler monkey</font> (5.28%)<br/>langur (3.35%)<br/></style></td>\n",
       "      <td align=\"center\">89.01</td>\n",
       "    </tr>\n",
       "  </tbody>\n",
       "</table>"
      ],
      "text/plain": [
       "<IPython.core.display.HTML object>"
      ]
     },
     "metadata": {},
     "output_type": "display_data"
    },
    {
     "data": {
      "text/markdown": [
       "## Cluster 7: Sensitivity=28.23%"
      ],
      "text/plain": [
       "<IPython.core.display.Markdown object>"
      ]
     },
     "metadata": {},
     "output_type": "display_data"
    },
    {
     "data": {
      "text/html": [
       "<table border=\"1\" class=\"dataframe\">\n",
       "  <thead>\n",
       "    <tr style=\"text-align: center;\">\n",
       "      <th style=\"text-align:center;\"></th>\n",
       "      <th style=\"text-align:center;\">Image</th>\n",
       "      <th style=\"text-align:center;\">Label</th>\n",
       "      <th style=\"text-align:center;\">Prediction</th>\n",
       "      <th style=\"text-align:center;\">Caption</th>\n",
       "      <th style=\"text-align:center;\">Edited Caption</th>\n",
       "      <th style=\"text-align:center;\">Edit Type</th>\n",
       "      <th style=\"text-align:center;\">LANCE</th>\n",
       "      <th style=\"text-align:center;\">LANCE prediction</th>\n",
       "      <th style=\"text-align:center;\">Sensitivity</th>\n",
       "    </tr>\n",
       "  </thead>\n",
       "  <tbody>\n",
       "    <tr>\n",
       "      <th style=\"text-align:center;\">452</th>\n",
       "      <td align=\"center\"><img src=\"/nethome/vprabhu9/code/LANCE/release/outputs/HardImageNet/howler monkey/ILSVRC2012_val_00041294/img.jpeg\" width=\"512\" ></td>\n",
       "      <td align=\"center\">howler monkey</td>\n",
       "      <td align=\"center\"><style='text-align:center;'>american black bear (36.81%)<br/>sloth bear (27.28%)<br/>wild boar (11.03%)<br/><font color='green'>howler monkey</font> (9.27%)<br/>pig (3.42%)<br/></style></td>\n",
       "      <td align=\"center\">a photo of a howler monkey walking across a lush green field next to a bushy area with trees</td>\n",
       "      <td align=\"center\">a photo of a <mark>swimming</mark> howler monkey walking across a lush green field next to a bushy area with trees</td>\n",
       "      <td align=\"center\">adjective</td>\n",
       "      <td align=\"center\"><img src=\"/nethome/vprabhu9/code/LANCE/release/outputs/HardImageNet/howler monkey/ILSVRC2012_val_00041294/swimming.jpeg\" width=\"512\" ></td>\n",
       "      <td align=\"center\"><style='text-align:center;'>goose (46.58%)<br/>geoffroy's spider monkey (6.13%)<br/>otter (5.82%)<br/>red-breasted merganser (2.76%)<br/>american coot (2.64%)<br/></style></td>\n",
       "      <td align=\"center\">9.27</td>\n",
       "    </tr>\n",
       "    <tr>\n",
       "      <th style=\"text-align:center;\">454</th>\n",
       "      <td align=\"center\"><img src=\"/nethome/vprabhu9/code/LANCE/release/outputs/HardImageNet/howler monkey/ILSVRC2012_val_00041294/img.jpeg\" width=\"512\" ></td>\n",
       "      <td align=\"center\">howler monkey</td>\n",
       "      <td align=\"center\"><style='text-align:center;'>american black bear (36.81%)<br/>sloth bear (27.28%)<br/>wild boar (11.03%)<br/><font color='green'>howler monkey</font> (9.27%)<br/>pig (3.42%)<br/></style></td>\n",
       "      <td align=\"center\">a photo of a howler monkey walking across a lush green field next to a bushy area with trees</td>\n",
       "      <td align=\"center\">a photo of a howler monkey walking across a lush green field next to a bushy area with trees <mark>and a stream</mark></td>\n",
       "      <td align=\"center\">background</td>\n",
       "      <td align=\"center\"><img src=\"/nethome/vprabhu9/code/LANCE/release/outputs/HardImageNet/howler monkey/ILSVRC2012_val_00041294/and_a_stream.jpeg\" width=\"512\" ></td>\n",
       "      <td align=\"center\"><style='text-align:center;'>white-headed capuchin (26.67%)<br/>macaque (15.82%)<br/>geoffroy's spider monkey (12.36%)<br/>black-and-white colobus (9.11%)<br/>guenon (7.78%)<br/></style></td>\n",
       "      <td align=\"center\">9.27</td>\n",
       "    </tr>\n",
       "    <tr>\n",
       "      <th style=\"text-align:center;\">419</th>\n",
       "      <td align=\"center\"><img src=\"/nethome/vprabhu9/code/LANCE/release/outputs/HardImageNet/howler monkey/ILSVRC2012_val_00039645/img.jpeg\" width=\"512\" ></td>\n",
       "      <td align=\"center\">howler monkey</td>\n",
       "      <td align=\"center\"><style='text-align:center;'><font color='green'>howler monkey</font> (72.27%)<br/>flat-coated retriever (3.40%)<br/>geoffroy's spider monkey (3.34%)<br/>siamang (2.50%)<br/>baboon (1.96%)<br/></style></td>\n",
       "      <td align=\"center\">a photo of a howler monkey sitting on top of a tree branch in a forest <mark>with foggy trees</mark> in the background</td>\n",
       "      <td align=\"center\">a photo of a howler monkey sitting on top of a tree branch in a forest <mark>on a rainy day</mark> in the background</td>\n",
       "      <td align=\"center\">weather</td>\n",
       "      <td align=\"center\"><img src=\"/nethome/vprabhu9/code/LANCE/release/outputs/HardImageNet/howler monkey/ILSVRC2012_val_00039645/on_a_rainy_day.jpeg\" width=\"512\" ></td>\n",
       "      <td align=\"center\"><style='text-align:center;'><font color='green'>howler monkey</font> (90.50%)<br/>titi monkey (3.56%)<br/>american black bear (1.23%)<br/>marmoset (0.51%)<br/>geoffroy's spider monkey (0.34%)<br/></style></td>\n",
       "      <td align=\"center\">18.23</td>\n",
       "    </tr>\n",
       "    <tr>\n",
       "      <th style=\"text-align:center;\">423</th>\n",
       "      <td align=\"center\"><img src=\"/nethome/vprabhu9/code/LANCE/release/outputs/HardImageNet/howler monkey/ILSVRC2012_val_00039645/img.jpeg\" width=\"512\" ></td>\n",
       "      <td align=\"center\">howler monkey</td>\n",
       "      <td align=\"center\"><style='text-align:center;'><font color='green'>howler monkey</font> (72.27%)<br/>flat-coated retriever (3.40%)<br/>geoffroy's spider monkey (3.34%)<br/>siamang (2.50%)<br/>baboon (1.96%)<br/></style></td>\n",
       "      <td align=\"center\">a photo of a howler monkey sitting on top of a tree branch in a forest <mark>with foggy trees</mark> in the background</td>\n",
       "      <td align=\"center\">a photo of a howler monkey sitting on top of a tree branch in a forest <mark>during a hurricane</mark> in the background</td>\n",
       "      <td align=\"center\">weather</td>\n",
       "      <td align=\"center\"><img src=\"/nethome/vprabhu9/code/LANCE/release/outputs/HardImageNet/howler monkey/ILSVRC2012_val_00039645/during_a_hurricane.jpeg\" width=\"512\" ></td>\n",
       "      <td align=\"center\"><style='text-align:center;'><font color='green'>howler monkey</font> (88.36%)<br/>american black bear (2.04%)<br/>titi monkey (1.43%)<br/>geoffroy's spider monkey (0.97%)<br/>siamang (0.88%)<br/></style></td>\n",
       "      <td align=\"center\">16.10</td>\n",
       "    </tr>\n",
       "    <tr>\n",
       "      <th style=\"text-align:center;\">425</th>\n",
       "      <td align=\"center\"><img src=\"/nethome/vprabhu9/code/LANCE/release/outputs/HardImageNet/howler monkey/ILSVRC2012_val_00039645/img.jpeg\" width=\"512\" ></td>\n",
       "      <td align=\"center\">howler monkey</td>\n",
       "      <td align=\"center\"><style='text-align:center;'><font color='green'>howler monkey</font> (72.27%)<br/>flat-coated retriever (3.40%)<br/>geoffroy's spider monkey (3.34%)<br/>siamang (2.50%)<br/>baboon (1.96%)<br/></style></td>\n",
       "      <td align=\"center\">a photo of a howler monkey sitting on top of a tree branch in a forest with <mark>foggy</mark> trees in the background</td>\n",
       "      <td align=\"center\">a photo of a howler monkey sitting on top of a tree branch in a <mark>tropical</mark> forest with palm trees in the background</td>\n",
       "      <td align=\"center\">background</td>\n",
       "      <td align=\"center\"><img src=\"/nethome/vprabhu9/code/LANCE/release/outputs/HardImageNet/howler monkey/ILSVRC2012_val_00039645/tropical.jpeg\" width=\"512\" ></td>\n",
       "      <td align=\"center\"><style='text-align:center;'><font color='green'>howler monkey</font> (80.49%)<br/>american black bear (3.48%)<br/>siamang (1.35%)<br/>chimpanzee (1.18%)<br/>titi monkey (0.97%)<br/></style></td>\n",
       "      <td align=\"center\">8.22</td>\n",
       "    </tr>\n",
       "  </tbody>\n",
       "</table>"
      ],
      "text/plain": [
       "<IPython.core.display.HTML object>"
      ]
     },
     "metadata": {},
     "output_type": "display_data"
    },
    {
     "name": "stdout",
     "output_type": "stream",
     "text": [
      "\n",
      "\n",
      "\n",
      "\n"
     ]
    },
    {
     "data": {
      "text/markdown": [
       "# Class: keyboard space bar"
      ],
      "text/plain": [
       "<IPython.core.display.Markdown object>"
      ]
     },
     "metadata": {},
     "output_type": "display_data"
    },
    {
     "data": {
      "text/markdown": [
       "## Cluster 3: Sensitivity=13.88%"
      ],
      "text/plain": [
       "<IPython.core.display.Markdown object>"
      ]
     },
     "metadata": {},
     "output_type": "display_data"
    },
    {
     "data": {
      "text/html": [
       "<table border=\"1\" class=\"dataframe\">\n",
       "  <thead>\n",
       "    <tr style=\"text-align: center;\">\n",
       "      <th style=\"text-align:center;\"></th>\n",
       "      <th style=\"text-align:center;\">Image</th>\n",
       "      <th style=\"text-align:center;\">Label</th>\n",
       "      <th style=\"text-align:center;\">Prediction</th>\n",
       "      <th style=\"text-align:center;\">Caption</th>\n",
       "      <th style=\"text-align:center;\">Edited Caption</th>\n",
       "      <th style=\"text-align:center;\">Edit Type</th>\n",
       "      <th style=\"text-align:center;\">LANCE</th>\n",
       "      <th style=\"text-align:center;\">LANCE prediction</th>\n",
       "      <th style=\"text-align:center;\">Sensitivity</th>\n",
       "    </tr>\n",
       "  </thead>\n",
       "  <tbody>\n",
       "    <tr>\n",
       "      <th style=\"text-align:center;\">628</th>\n",
       "      <td align=\"center\"><img src=\"/nethome/vprabhu9/code/LANCE/release/outputs/HardImageNet/keyboard space bar/ILSVRC2012_val_00039462/img.jpeg\" width=\"512\" ></td>\n",
       "      <td align=\"center\">keyboard space bar</td>\n",
       "      <td align=\"center\"><style='text-align:center;'>typewriter keyboard (54.33%)<br/><font color='green'>keyboard space bar</font> (41.12%)<br/>remote control (1.66%)<br/>computer keyboard (0.68%)<br/>rotary dial telephone (0.42%)<br/></style></td>\n",
       "      <td align=\"center\">a photo of a close up of an old typewriter with hearts on it's keys and numbers on the keys</td>\n",
       "      <td align=\"center\">a photo of a close up of an old typewriter with hearts on it's keys and numbers on the keys <mark>in a hailstorm</mark></td>\n",
       "      <td align=\"center\">weather</td>\n",
       "      <td align=\"center\"><img src=\"/nethome/vprabhu9/code/LANCE/release/outputs/HardImageNet/keyboard space bar/ILSVRC2012_val_00039462/in_a_hailstorm.jpeg\" width=\"512\" ></td>\n",
       "      <td align=\"center\"><style='text-align:center;'><font color='green'>keyboard space bar</font> (57.05%)<br/>typewriter keyboard (42.74%)<br/>computer keyboard (0.08%)<br/>accordion (0.02%)<br/>remote control (0.01%)<br/></style></td>\n",
       "      <td align=\"center\">15.93</td>\n",
       "    </tr>\n",
       "    <tr>\n",
       "      <th style=\"text-align:center;\">624</th>\n",
       "      <td align=\"center\"><img src=\"/nethome/vprabhu9/code/LANCE/release/outputs/HardImageNet/keyboard space bar/ILSVRC2012_val_00024474/img.jpeg\" width=\"512\" ></td>\n",
       "      <td align=\"center\">keyboard space bar</td>\n",
       "      <td align=\"center\"><style='text-align:center;'>computer keyboard (39.86%)<br/><font color='green'>keyboard space bar</font> (28.55%)<br/>notebook computer (18.79%)<br/>laptop computer (6.08%)<br/>typewriter keyboard (5.80%)<br/></style></td>\n",
       "      <td align=\"center\">a photo of a close up of a laptop keyboard with a mouse on the side of the keyboard</td>\n",
       "      <td align=\"center\">a photo of a close up of a laptop keyboard with a mouse on the side of the keyboard <mark>during a hailstorm</mark></td>\n",
       "      <td align=\"center\">weather</td>\n",
       "      <td align=\"center\"><img src=\"/nethome/vprabhu9/code/LANCE/release/outputs/HardImageNet/keyboard space bar/ILSVRC2012_val_00024474/during_a_hailstorm.jpeg\" width=\"512\" ></td>\n",
       "      <td align=\"center\"><style='text-align:center;'>notebook computer (35.51%)<br/>computer keyboard (26.44%)<br/>laptop computer (17.86%)<br/><font color='green'>keyboard space bar</font> (16.93%)<br/>typewriter keyboard (2.84%)<br/></style></td>\n",
       "      <td align=\"center\">11.62</td>\n",
       "    </tr>\n",
       "    <tr>\n",
       "      <th style=\"text-align:center;\">619</th>\n",
       "      <td align=\"center\"><img src=\"/nethome/vprabhu9/code/LANCE/release/outputs/HardImageNet/keyboard space bar/ILSVRC2012_val_00019350/img.jpeg\" width=\"512\" ></td>\n",
       "      <td align=\"center\">keyboard space bar</td>\n",
       "      <td align=\"center\"><style='text-align:center;'>computer keyboard (67.71%)<br/><font color='green'>keyboard space bar</font> (15.80%)<br/>notebook computer (11.87%)<br/>typewriter keyboard (1.91%)<br/>computer mouse (1.04%)<br/></style></td>\n",
       "      <td align=\"center\">a photo of a close up of a laptop keyboard with a cell phone in front of the keyboard</td>\n",
       "      <td align=\"center\">a photo of a close up of a laptop keyboard with a cell phone in front of the laptop keyboard <mark>during a thunderstorm</mark></td>\n",
       "      <td align=\"center\">weather</td>\n",
       "      <td align=\"center\"><img src=\"/nethome/vprabhu9/code/LANCE/release/outputs/HardImageNet/keyboard space bar/ILSVRC2012_val_00019350/during_a_thunderstorm.jpeg\" width=\"512\" ></td>\n",
       "      <td align=\"center\"><style='text-align:center;'>computer keyboard (45.78%)<br/><font color='green'>keyboard space bar</font> (14.93%)<br/>modem (7.32%)<br/>notebook computer (5.12%)<br/>computer mouse (3.65%)<br/></style></td>\n",
       "      <td align=\"center\">0.88</td>\n",
       "    </tr>\n",
       "    <tr>\n",
       "      <th style=\"text-align:center;\">620</th>\n",
       "      <td align=\"center\"><img src=\"/nethome/vprabhu9/code/LANCE/release/outputs/HardImageNet/keyboard space bar/ILSVRC2012_val_00019350/img.jpeg\" width=\"512\" ></td>\n",
       "      <td align=\"center\">keyboard space bar</td>\n",
       "      <td align=\"center\"><style='text-align:center;'>computer keyboard (67.71%)<br/><font color='green'>keyboard space bar</font> (15.80%)<br/>notebook computer (11.87%)<br/>typewriter keyboard (1.91%)<br/>computer mouse (1.04%)<br/></style></td>\n",
       "      <td align=\"center\">a photo of a close up of a laptop keyboard with a cell phone in front of the keyboard</td>\n",
       "      <td align=\"center\">a photo of a close up of a laptop keyboard with a cell phone in front of the laptop keyboard <mark>during a snowstorm</mark></td>\n",
       "      <td align=\"center\">weather</td>\n",
       "      <td align=\"center\"><img src=\"/nethome/vprabhu9/code/LANCE/release/outputs/HardImageNet/keyboard space bar/ILSVRC2012_val_00019350/during_a_snowstorm.jpeg\" width=\"512\" ></td>\n",
       "      <td align=\"center\"><style='text-align:center;'>computer keyboard (45.04%)<br/><font color='green'>keyboard space bar</font> (31.72%)<br/>notebook computer (15.23%)<br/>typewriter keyboard (3.31%)<br/>laptop computer (2.23%)<br/></style></td>\n",
       "      <td align=\"center\">15.91</td>\n",
       "    </tr>\n",
       "    <tr>\n",
       "      <th style=\"text-align:center;\">621</th>\n",
       "      <td align=\"center\"><img src=\"/nethome/vprabhu9/code/LANCE/release/outputs/HardImageNet/keyboard space bar/ILSVRC2012_val_00019350/img.jpeg\" width=\"512\" ></td>\n",
       "      <td align=\"center\">keyboard space bar</td>\n",
       "      <td align=\"center\"><style='text-align:center;'>computer keyboard (67.71%)<br/><font color='green'>keyboard space bar</font> (15.80%)<br/>notebook computer (11.87%)<br/>typewriter keyboard (1.91%)<br/>computer mouse (1.04%)<br/></style></td>\n",
       "      <td align=\"center\">a photo of a close up of a laptop keyboard with a cell phone in front of the keyboard</td>\n",
       "      <td align=\"center\">a photo of a close up of a laptop keyboard with a cell phone in front of the laptop keyboard <mark>during a hailstorm</mark></td>\n",
       "      <td align=\"center\">weather</td>\n",
       "      <td align=\"center\"><img src=\"/nethome/vprabhu9/code/LANCE/release/outputs/HardImageNet/keyboard space bar/ILSVRC2012_val_00019350/during_a_hailstorm.jpeg\" width=\"512\" ></td>\n",
       "      <td align=\"center\"><style='text-align:center;'>computer keyboard (47.72%)<br/><font color='green'>keyboard space bar</font> (40.85%)<br/>notebook computer (5.17%)<br/>typewriter keyboard (3.00%)<br/>computer mouse (0.76%)<br/></style></td>\n",
       "      <td align=\"center\">25.04</td>\n",
       "    </tr>\n",
       "  </tbody>\n",
       "</table>"
      ],
      "text/plain": [
       "<IPython.core.display.HTML object>"
      ]
     },
     "metadata": {},
     "output_type": "display_data"
    },
    {
     "data": {
      "text/markdown": [
       "## Cluster 1: Sensitivity=8.34%"
      ],
      "text/plain": [
       "<IPython.core.display.Markdown object>"
      ]
     },
     "metadata": {},
     "output_type": "display_data"
    },
    {
     "data": {
      "text/html": [
       "<table border=\"1\" class=\"dataframe\">\n",
       "  <thead>\n",
       "    <tr style=\"text-align: center;\">\n",
       "      <th style=\"text-align:center;\"></th>\n",
       "      <th style=\"text-align:center;\">Image</th>\n",
       "      <th style=\"text-align:center;\">Label</th>\n",
       "      <th style=\"text-align:center;\">Prediction</th>\n",
       "      <th style=\"text-align:center;\">Caption</th>\n",
       "      <th style=\"text-align:center;\">Edited Caption</th>\n",
       "      <th style=\"text-align:center;\">Edit Type</th>\n",
       "      <th style=\"text-align:center;\">LANCE</th>\n",
       "      <th style=\"text-align:center;\">LANCE prediction</th>\n",
       "      <th style=\"text-align:center;\">Sensitivity</th>\n",
       "    </tr>\n",
       "  </thead>\n",
       "  <tbody>\n",
       "    <tr>\n",
       "      <th style=\"text-align:center;\">571</th>\n",
       "      <td align=\"center\"><img src=\"/nethome/vprabhu9/code/LANCE/release/outputs/HardImageNet/keyboard space bar/ILSVRC2012_val_00030759/img.jpeg\" width=\"512\" ></td>\n",
       "      <td align=\"center\">keyboard space bar</td>\n",
       "      <td align=\"center\"><style='text-align:center;'><font color='green'>keyboard space bar</font> (61.57%)<br/>typewriter keyboard (38.32%)<br/>hand-held computer (0.05%)<br/>computer keyboard (0.03%)<br/>joystick (0.00%)<br/></style></td>\n",
       "      <td align=\"center\">a photo of a red typewriter sitting on top of a wooden table next to a cup of coffee</td>\n",
       "      <td align=\"center\">a photo of a red typewriter sitting on top of a wooden table next to a cup of coffee <mark>in the rain</mark></td>\n",
       "      <td align=\"center\">weather</td>\n",
       "      <td align=\"center\"><img src=\"/nethome/vprabhu9/code/LANCE/release/outputs/HardImageNet/keyboard space bar/ILSVRC2012_val_00030759/in_the_rain.jpeg\" width=\"512\" ></td>\n",
       "      <td align=\"center\"><style='text-align:center;'><font color='green'>keyboard space bar</font> (58.20%)<br/>typewriter keyboard (41.16%)<br/>hand-held computer (0.26%)<br/>computer keyboard (0.15%)<br/>cassette player (0.03%)<br/></style></td>\n",
       "      <td align=\"center\">3.37</td>\n",
       "    </tr>\n",
       "    <tr>\n",
       "      <th style=\"text-align:center;\">578</th>\n",
       "      <td align=\"center\"><img src=\"/nethome/vprabhu9/code/LANCE/release/outputs/HardImageNet/keyboard space bar/ILSVRC2012_val_00026369/img.jpeg\" width=\"512\" ></td>\n",
       "      <td align=\"center\">keyboard space bar</td>\n",
       "      <td align=\"center\"><style='text-align:center;'><font color='green'>keyboard space bar</font> (53.40%)<br/>typewriter keyboard (30.51%)<br/>computer keyboard (15.94%)<br/>notebook computer (0.10%)<br/>hand-held computer (0.01%)<br/></style></td>\n",
       "      <td align=\"center\">a photo of a close up of a computer keyboard with space written on the keypad and a blurry background</td>\n",
       "      <td align=\"center\">a photo of a close up of a computer keyboard with space written on the keypad and a blurry background <mark>on a rainy day</mark></td>\n",
       "      <td align=\"center\">weather</td>\n",
       "      <td align=\"center\"><img src=\"/nethome/vprabhu9/code/LANCE/release/outputs/HardImageNet/keyboard space bar/ILSVRC2012_val_00026369/on_a_rainy_day.jpeg\" width=\"512\" ></td>\n",
       "      <td align=\"center\"><style='text-align:center;'><font color='green'>keyboard space bar</font> (50.54%)<br/>typewriter keyboard (29.48%)<br/>computer keyboard (19.08%)<br/>notebook computer (0.70%)<br/>laptop computer (0.09%)<br/></style></td>\n",
       "      <td align=\"center\">2.86</td>\n",
       "    </tr>\n",
       "    <tr>\n",
       "      <th style=\"text-align:center;\">580</th>\n",
       "      <td align=\"center\"><img src=\"/nethome/vprabhu9/code/LANCE/release/outputs/HardImageNet/keyboard space bar/ILSVRC2012_val_00026369/img.jpeg\" width=\"512\" ></td>\n",
       "      <td align=\"center\">keyboard space bar</td>\n",
       "      <td align=\"center\"><style='text-align:center;'><font color='green'>keyboard space bar</font> (53.40%)<br/>typewriter keyboard (30.51%)<br/>computer keyboard (15.94%)<br/>notebook computer (0.10%)<br/>hand-held computer (0.01%)<br/></style></td>\n",
       "      <td align=\"center\">a photo of a close up of a computer keyboard with space written on the keypad and a blurry background</td>\n",
       "      <td align=\"center\">a photo of a close up of a computer keyboard with space written on the keypad and a blurry background <mark>outside on a rainy day</mark></td>\n",
       "      <td align=\"center\">background</td>\n",
       "      <td align=\"center\"><img src=\"/nethome/vprabhu9/code/LANCE/release/outputs/HardImageNet/keyboard space bar/ILSVRC2012_val_00026369/outside_on_a_rainy_day.jpeg\" width=\"512\" ></td>\n",
       "      <td align=\"center\"><style='text-align:center;'><font color='green'>keyboard space bar</font> (55.58%)<br/>typewriter keyboard (27.25%)<br/>computer keyboard (16.39%)<br/>notebook computer (0.62%)<br/>laptop computer (0.06%)<br/></style></td>\n",
       "      <td align=\"center\">2.18</td>\n",
       "    </tr>\n",
       "    <tr>\n",
       "      <th style=\"text-align:center;\">584</th>\n",
       "      <td align=\"center\"><img src=\"/nethome/vprabhu9/code/LANCE/release/outputs/HardImageNet/keyboard space bar/ILSVRC2012_val_00020036/img.jpeg\" width=\"512\" ></td>\n",
       "      <td align=\"center\">keyboard space bar</td>\n",
       "      <td align=\"center\"><style='text-align:center;'>computer keyboard (68.75%)<br/><font color='green'>keyboard space bar</font> (15.23%)<br/>notebook computer (6.65%)<br/>typewriter keyboard (2.84%)<br/>computer mouse (1.92%)<br/></style></td>\n",
       "      <td align=\"center\">a photo of a close up of a computer keyboard with a mouse on the side of the keyboard</td>\n",
       "      <td align=\"center\">a photo of a close up of a computer keyboard <mark>on a rainy day</mark> with a mouse on the side of the keyboard</td>\n",
       "      <td align=\"center\">weather</td>\n",
       "      <td align=\"center\"><img src=\"/nethome/vprabhu9/code/LANCE/release/outputs/HardImageNet/keyboard space bar/ILSVRC2012_val_00020036/on_a_rainy_day.jpeg\" width=\"512\" ></td>\n",
       "      <td align=\"center\"><style='text-align:center;'>ipod (25.83%)<br/>ruler measuring stick (10.88%)<br/>computer keyboard (10.08%)<br/>crossword (6.92%)<br/>notebook computer (5.44%)<br/></style></td>\n",
       "      <td align=\"center\">15.23</td>\n",
       "    </tr>\n",
       "    <tr>\n",
       "      <th style=\"text-align:center;\">586</th>\n",
       "      <td align=\"center\"><img src=\"/nethome/vprabhu9/code/LANCE/release/outputs/HardImageNet/keyboard space bar/ILSVRC2012_val_00020036/img.jpeg\" width=\"512\" ></td>\n",
       "      <td align=\"center\">keyboard space bar</td>\n",
       "      <td align=\"center\"><style='text-align:center;'>computer keyboard (68.75%)<br/><font color='green'>keyboard space bar</font> (15.23%)<br/>notebook computer (6.65%)<br/>typewriter keyboard (2.84%)<br/>computer mouse (1.92%)<br/></style></td>\n",
       "      <td align=\"center\">a photo of a close up of a computer keyboard with a mouse on the side of the keyboard</td>\n",
       "      <td align=\"center\">a photo of a close up of a computer keyboard <mark>on a stormy day</mark> with a mouse on the side of the keyboard</td>\n",
       "      <td align=\"center\">weather</td>\n",
       "      <td align=\"center\"><img src=\"/nethome/vprabhu9/code/LANCE/release/outputs/HardImageNet/keyboard space bar/ILSVRC2012_val_00020036/on_a_stormy_day.jpeg\" width=\"512\" ></td>\n",
       "      <td align=\"center\"><style='text-align:center;'>ruler measuring stick (26.51%)<br/>remote control (24.71%)<br/>ipod (13.49%)<br/>computer keyboard (4.24%)<br/>eraser (4.09%)<br/></style></td>\n",
       "      <td align=\"center\">15.23</td>\n",
       "    </tr>\n",
       "  </tbody>\n",
       "</table>"
      ],
      "text/plain": [
       "<IPython.core.display.HTML object>"
      ]
     },
     "metadata": {},
     "output_type": "display_data"
    },
    {
     "data": {
      "text/markdown": [
       "## Cluster 4: Sensitivity=7.33%"
      ],
      "text/plain": [
       "<IPython.core.display.Markdown object>"
      ]
     },
     "metadata": {},
     "output_type": "display_data"
    },
    {
     "data": {
      "text/html": [
       "<table border=\"1\" class=\"dataframe\">\n",
       "  <thead>\n",
       "    <tr style=\"text-align: center;\">\n",
       "      <th style=\"text-align:center;\"></th>\n",
       "      <th style=\"text-align:center;\">Image</th>\n",
       "      <th style=\"text-align:center;\">Label</th>\n",
       "      <th style=\"text-align:center;\">Prediction</th>\n",
       "      <th style=\"text-align:center;\">Caption</th>\n",
       "      <th style=\"text-align:center;\">Edited Caption</th>\n",
       "      <th style=\"text-align:center;\">Edit Type</th>\n",
       "      <th style=\"text-align:center;\">LANCE</th>\n",
       "      <th style=\"text-align:center;\">LANCE prediction</th>\n",
       "      <th style=\"text-align:center;\">Sensitivity</th>\n",
       "    </tr>\n",
       "  </thead>\n",
       "  <tbody>\n",
       "    <tr>\n",
       "      <th style=\"text-align:center;\">592</th>\n",
       "      <td align=\"center\"><img src=\"/nethome/vprabhu9/code/LANCE/release/outputs/HardImageNet/keyboard space bar/ILSVRC2012_val_00043429/img.jpeg\" width=\"512\" ></td>\n",
       "      <td align=\"center\">keyboard space bar</td>\n",
       "      <td align=\"center\"><style='text-align:center;'>computer keyboard (52.87%)<br/><font color='green'>keyboard space bar</font> (13.85%)<br/>notebook computer (12.39%)<br/>typewriter keyboard (4.42%)<br/>computer mouse (3.92%)<br/></style></td>\n",
       "      <td align=\"center\">a photo of a computer keyboard sitting on top of a desk next to a computer mouse and keyboard</td>\n",
       "      <td align=\"center\">a photo of a computer keyboard sitting on top of a desk next to a computer mouse and keyboard <mark>during a hailstorm</mark></td>\n",
       "      <td align=\"center\">weather</td>\n",
       "      <td align=\"center\"><img src=\"/nethome/vprabhu9/code/LANCE/release/outputs/HardImageNet/keyboard space bar/ILSVRC2012_val_00043429/during_a_hailstorm.jpeg\" width=\"512\" ></td>\n",
       "      <td align=\"center\"><style='text-align:center;'>computer keyboard (39.74%)<br/>notebook computer (29.45%)<br/><font color='green'>keyboard space bar</font> (18.20%)<br/>laptop computer (4.37%)<br/>computer mouse (3.03%)<br/></style></td>\n",
       "      <td align=\"center\">4.34</td>\n",
       "    </tr>\n",
       "    <tr>\n",
       "      <th style=\"text-align:center;\">582</th>\n",
       "      <td align=\"center\"><img src=\"/nethome/vprabhu9/code/LANCE/release/outputs/HardImageNet/keyboard space bar/ILSVRC2012_val_00032326/img.jpeg\" width=\"512\" ></td>\n",
       "      <td align=\"center\">keyboard space bar</td>\n",
       "      <td align=\"center\"><style='text-align:center;'>typewriter keyboard (50.97%)<br/><font color='green'>keyboard space bar</font> (37.40%)<br/>computer keyboard (6.37%)<br/>computer mouse (0.72%)<br/>notebook computer (0.63%)<br/></style></td>\n",
       "      <td align=\"center\">a photo of a typewriter sitting on top of a stack of books on top of a wooden table</td>\n",
       "      <td align=\"center\">a photo of a typewriter sitting on top of a stack of books on top of a wooden table <mark>in a hailstorm</mark></td>\n",
       "      <td align=\"center\">weather</td>\n",
       "      <td align=\"center\"><img src=\"/nethome/vprabhu9/code/LANCE/release/outputs/HardImageNet/keyboard space bar/ILSVRC2012_val_00032326/in_a_hailstorm.jpeg\" width=\"512\" ></td>\n",
       "      <td align=\"center\"><style='text-align:center;'><font color='green'>keyboard space bar</font> (55.14%)<br/>typewriter keyboard (37.73%)<br/>computer keyboard (3.55%)<br/>computer mouse (0.51%)<br/>notebook computer (0.40%)<br/></style></td>\n",
       "      <td align=\"center\">17.74</td>\n",
       "    </tr>\n",
       "    <tr>\n",
       "      <th style=\"text-align:center;\">573</th>\n",
       "      <td align=\"center\"><img src=\"/nethome/vprabhu9/code/LANCE/release/outputs/HardImageNet/keyboard space bar/ILSVRC2012_val_00030759/img.jpeg\" width=\"512\" ></td>\n",
       "      <td align=\"center\">keyboard space bar</td>\n",
       "      <td align=\"center\"><style='text-align:center;'><font color='green'>keyboard space bar</font> (61.57%)<br/>typewriter keyboard (38.32%)<br/>hand-held computer (0.05%)<br/>computer keyboard (0.03%)<br/>joystick (0.00%)<br/></style></td>\n",
       "      <td align=\"center\">a photo of a red typewriter sitting on top of a wooden table next to a cup of coffee</td>\n",
       "      <td align=\"center\">a photo of a red typewriter sitting on top of a wooden table next to a cup of coffee <mark>in a hailstorm</mark></td>\n",
       "      <td align=\"center\">weather</td>\n",
       "      <td align=\"center\"><img src=\"/nethome/vprabhu9/code/LANCE/release/outputs/HardImageNet/keyboard space bar/ILSVRC2012_val_00030759/in_a_hailstorm.jpeg\" width=\"512\" ></td>\n",
       "      <td align=\"center\"><style='text-align:center;'><font color='green'>keyboard space bar</font> (59.30%)<br/>typewriter keyboard (40.56%)<br/>computer keyboard (0.05%)<br/>hand-held computer (0.04%)<br/>rotary dial telephone (0.01%)<br/></style></td>\n",
       "      <td align=\"center\">2.27</td>\n",
       "    </tr>\n",
       "    <tr>\n",
       "      <th style=\"text-align:center;\">591</th>\n",
       "      <td align=\"center\"><img src=\"/nethome/vprabhu9/code/LANCE/release/outputs/HardImageNet/keyboard space bar/ILSVRC2012_val_00029531/img.jpeg\" width=\"512\" ></td>\n",
       "      <td align=\"center\">keyboard space bar</td>\n",
       "      <td align=\"center\"><style='text-align:center;'>computer keyboard (74.10%)<br/>notebook computer (8.15%)<br/><font color='green'>keyboard space bar</font> (6.86%)<br/>typewriter keyboard (4.08%)<br/>laptop computer (2.64%)<br/></style></td>\n",
       "      <td align=\"center\">a photo of a computer keyboard sitting on top of a black surface with a light shining on it</td>\n",
       "      <td align=\"center\">a photo of a computer keyboard sitting on top of a black surface with a light shining on it <mark>in the hailstorm</mark></td>\n",
       "      <td align=\"center\">weather</td>\n",
       "      <td align=\"center\"><img src=\"/nethome/vprabhu9/code/LANCE/release/outputs/HardImageNet/keyboard space bar/ILSVRC2012_val_00029531/in_the_hailstorm.jpeg\" width=\"512\" ></td>\n",
       "      <td align=\"center\"><style='text-align:center;'>computer keyboard (69.31%)<br/><font color='green'>keyboard space bar</font> (9.06%)<br/>typewriter keyboard (7.47%)<br/>notebook computer (2.49%)<br/>movie theater (1.51%)<br/></style></td>\n",
       "      <td align=\"center\">2.20</td>\n",
       "    </tr>\n",
       "    <tr>\n",
       "      <th style=\"text-align:center;\">575</th>\n",
       "      <td align=\"center\"><img src=\"/nethome/vprabhu9/code/LANCE/release/outputs/HardImageNet/keyboard space bar/ILSVRC2012_val_00002607/img.jpeg\" width=\"512\" ></td>\n",
       "      <td align=\"center\">keyboard space bar</td>\n",
       "      <td align=\"center\"><style='text-align:center;'>desk (40.98%)<br/>desktop computer (33.94%)<br/>monitor (9.41%)<br/>computer mouse (6.86%)<br/>crt monitor (6.06%)<br/></style></td>\n",
       "      <td align=\"center\">a photo of a laptop computer sitting on top of a white desk next to a computer monitor and a lamp</td>\n",
       "      <td align=\"center\">a photo of a laptop computer sitting on top of a white desk next to a computer monitor and a lamp <mark>during a hailstorm</mark></td>\n",
       "      <td align=\"center\">weather</td>\n",
       "      <td align=\"center\"><img src=\"/nethome/vprabhu9/code/LANCE/release/outputs/HardImageNet/keyboard space bar/ILSVRC2012_val_00002607/during_a_hailstorm.jpeg\" width=\"512\" ></td>\n",
       "      <td align=\"center\"><style='text-align:center;'>desk (29.85%)<br/>desktop computer (15.17%)<br/>crt monitor (13.90%)<br/>monitor (11.05%)<br/>microwave oven (6.76%)<br/></style></td>\n",
       "      <td align=\"center\">0.00</td>\n",
       "    </tr>\n",
       "  </tbody>\n",
       "</table>"
      ],
      "text/plain": [
       "<IPython.core.display.HTML object>"
      ]
     },
     "metadata": {},
     "output_type": "display_data"
    },
    {
     "name": "stdout",
     "output_type": "stream",
     "text": [
      "\n",
      "\n",
      "\n",
      "\n"
     ]
    },
    {
     "data": {
      "text/markdown": [
       "# Class: miniskirt"
      ],
      "text/plain": [
       "<IPython.core.display.Markdown object>"
      ]
     },
     "metadata": {},
     "output_type": "display_data"
    },
    {
     "data": {
      "text/markdown": [
       "## Cluster 5: Sensitivity=71.05%"
      ],
      "text/plain": [
       "<IPython.core.display.Markdown object>"
      ]
     },
     "metadata": {},
     "output_type": "display_data"
    },
    {
     "data": {
      "text/html": [
       "<table border=\"1\" class=\"dataframe\">\n",
       "  <thead>\n",
       "    <tr style=\"text-align: center;\">\n",
       "      <th style=\"text-align:center;\"></th>\n",
       "      <th style=\"text-align:center;\">Image</th>\n",
       "      <th style=\"text-align:center;\">Label</th>\n",
       "      <th style=\"text-align:center;\">Prediction</th>\n",
       "      <th style=\"text-align:center;\">Caption</th>\n",
       "      <th style=\"text-align:center;\">Edited Caption</th>\n",
       "      <th style=\"text-align:center;\">Edit Type</th>\n",
       "      <th style=\"text-align:center;\">LANCE</th>\n",
       "      <th style=\"text-align:center;\">LANCE prediction</th>\n",
       "      <th style=\"text-align:center;\">Sensitivity</th>\n",
       "    </tr>\n",
       "  </thead>\n",
       "  <tbody>\n",
       "    <tr>\n",
       "      <th style=\"text-align:center;\">804</th>\n",
       "      <td align=\"center\"><img src=\"/nethome/vprabhu9/code/LANCE/release/outputs/HardImageNet/miniskirt/ILSVRC2012_val_00046676/img.jpeg\" width=\"512\" ></td>\n",
       "      <td align=\"center\">miniskirt</td>\n",
       "      <td align=\"center\"><style='text-align:center;'><font color='green'>miniskirt</font> (87.48%)<br/>hoop skirt (3.67%)<br/>neck brace (0.82%)<br/>tights (0.74%)<br/>diaper (0.74%)<br/></style></td>\n",
       "      <td align=\"center\">a photo of a woman sitting on a bed in a room with a bed and a rug on the floor</td>\n",
       "      <td align=\"center\">a photo of a woman sitting on a bed in a room with a bed and a rug on the floor <mark>— she is reading a book on the bedside table</mark></td>\n",
       "      <td align=\"center\">background</td>\n",
       "      <td align=\"center\"><img src=\"/nethome/vprabhu9/code/LANCE/release/outputs/HardImageNet/miniskirt/ILSVRC2012_val_00046676/—_she_is_reading_a_book_on_the_bedside_table.jpeg\" width=\"512\" ></td>\n",
       "      <td align=\"center\"><style='text-align:center;'><font color='green'>miniskirt</font> (25.57%)<br/>hoop skirt (13.02%)<br/>quilt (11.27%)<br/>bra (6.47%)<br/>diaper (5.68%)<br/></style></td>\n",
       "      <td align=\"center\">61.91</td>\n",
       "    </tr>\n",
       "    <tr>\n",
       "      <th style=\"text-align:center;\">805</th>\n",
       "      <td align=\"center\"><img src=\"/nethome/vprabhu9/code/LANCE/release/outputs/HardImageNet/miniskirt/ILSVRC2012_val_00046676/img.jpeg\" width=\"512\" ></td>\n",
       "      <td align=\"center\">miniskirt</td>\n",
       "      <td align=\"center\"><style='text-align:center;'><font color='green'>miniskirt</font> (87.48%)<br/>hoop skirt (3.67%)<br/>neck brace (0.82%)<br/>tights (0.74%)<br/>diaper (0.74%)<br/></style></td>\n",
       "      <td align=\"center\">a photo of a woman sitting on a bed in a room with a bed and a rug on the floor</td>\n",
       "      <td align=\"center\">a photo of a woman sitting on a bed in a room with a bed and a rug on the floor <mark>— she is writing in a journal on the bedroom table</mark></td>\n",
       "      <td align=\"center\">background</td>\n",
       "      <td align=\"center\"><img src=\"/nethome/vprabhu9/code/LANCE/release/outputs/HardImageNet/miniskirt/ILSVRC2012_val_00046676/—_she_is_writing_in_a_journal_on_the_bedroom_table.jpeg\" width=\"512\" ></td>\n",
       "      <td align=\"center\"><style='text-align:center;'><font color='green'>miniskirt</font> (36.60%)<br/>hoop skirt (18.26%)<br/>bra (8.77%)<br/>quilt (5.30%)<br/>tights (3.15%)<br/></style></td>\n",
       "      <td align=\"center\">50.88</td>\n",
       "    </tr>\n",
       "    <tr>\n",
       "      <th style=\"text-align:center;\">806</th>\n",
       "      <td align=\"center\"><img src=\"/nethome/vprabhu9/code/LANCE/release/outputs/HardImageNet/miniskirt/ILSVRC2012_val_00046676/img.jpeg\" width=\"512\" ></td>\n",
       "      <td align=\"center\">miniskirt</td>\n",
       "      <td align=\"center\"><style='text-align:center;'><font color='green'>miniskirt</font> (87.48%)<br/>hoop skirt (3.67%)<br/>neck brace (0.82%)<br/>tights (0.74%)<br/>diaper (0.74%)<br/></style></td>\n",
       "      <td align=\"center\">a photo of a woman sitting on a bed in a room with a bed and a rug on the floor</td>\n",
       "      <td align=\"center\">a photo of a woman sitting on a bed in a room with a bed and a rug on the floor <mark>— she is grooming herself in the bedroom with a mirror and a hairdryer</mark></td>\n",
       "      <td align=\"center\">background</td>\n",
       "      <td align=\"center\"><img src=\"/nethome/vprabhu9/code/LANCE/release/outputs/HardImageNet/miniskirt/ILSVRC2012_val_00046676/—_she_is_grooming_herself_in_the_bedroom_with_a_mirror_and_a_hairdryer.jpeg\" width=\"512\" ></td>\n",
       "      <td align=\"center\"><style='text-align:center;'>toilet paper (57.78%)<br/>paper towel (39.48%)<br/>bra (0.50%)<br/>bow tie (0.42%)<br/>breastplate (0.23%)<br/></style></td>\n",
       "      <td align=\"center\">87.48</td>\n",
       "    </tr>\n",
       "    <tr>\n",
       "      <th style=\"text-align:center;\">807</th>\n",
       "      <td align=\"center\"><img src=\"/nethome/vprabhu9/code/LANCE/release/outputs/HardImageNet/miniskirt/ILSVRC2012_val_00046676/img.jpeg\" width=\"512\" ></td>\n",
       "      <td align=\"center\">miniskirt</td>\n",
       "      <td align=\"center\"><style='text-align:center;'><font color='green'>miniskirt</font> (87.48%)<br/>hoop skirt (3.67%)<br/>neck brace (0.82%)<br/>tights (0.74%)<br/>diaper (0.74%)<br/></style></td>\n",
       "      <td align=\"center\">a photo of a woman sitting on a bed in a room with a bed and a rug on the floor</td>\n",
       "      <td align=\"center\">a photo of a woman sitting on a bed in a room with a bed and a rug on the floor <mark>— she is playing games on her mobile phone in the bedroom</mark></td>\n",
       "      <td align=\"center\">background</td>\n",
       "      <td align=\"center\"><img src=\"/nethome/vprabhu9/code/LANCE/release/outputs/HardImageNet/miniskirt/ILSVRC2012_val_00046676/—_she_is_playing_games_on_her_mobile_phone_in_the_bedroom.jpeg\" width=\"512\" ></td>\n",
       "      <td align=\"center\"><style='text-align:center;'>notebook computer (42.43%)<br/>laptop computer (41.61%)<br/><font color='green'>miniskirt</font> (3.53%)<br/>one-piece bathing suit (1.38%)<br/>keyboard space bar (0.90%)<br/></style></td>\n",
       "      <td align=\"center\">83.95</td>\n",
       "    </tr>\n",
       "  </tbody>\n",
       "</table>"
      ],
      "text/plain": [
       "<IPython.core.display.HTML object>"
      ]
     },
     "metadata": {},
     "output_type": "display_data"
    },
    {
     "data": {
      "text/markdown": [
       "## Cluster 0: Sensitivity=27.77%"
      ],
      "text/plain": [
       "<IPython.core.display.Markdown object>"
      ]
     },
     "metadata": {},
     "output_type": "display_data"
    },
    {
     "data": {
      "text/html": [
       "<table border=\"1\" class=\"dataframe\">\n",
       "  <thead>\n",
       "    <tr style=\"text-align: center;\">\n",
       "      <th style=\"text-align:center;\"></th>\n",
       "      <th style=\"text-align:center;\">Image</th>\n",
       "      <th style=\"text-align:center;\">Label</th>\n",
       "      <th style=\"text-align:center;\">Prediction</th>\n",
       "      <th style=\"text-align:center;\">Caption</th>\n",
       "      <th style=\"text-align:center;\">Edited Caption</th>\n",
       "      <th style=\"text-align:center;\">Edit Type</th>\n",
       "      <th style=\"text-align:center;\">LANCE</th>\n",
       "      <th style=\"text-align:center;\">LANCE prediction</th>\n",
       "      <th style=\"text-align:center;\">Sensitivity</th>\n",
       "    </tr>\n",
       "  </thead>\n",
       "  <tbody>\n",
       "    <tr>\n",
       "      <th style=\"text-align:center;\">697</th>\n",
       "      <td align=\"center\"><img src=\"/nethome/vprabhu9/code/LANCE/release/outputs/HardImageNet/miniskirt/ILSVRC2012_val_00035350/img.jpeg\" width=\"512\" ></td>\n",
       "      <td align=\"center\">miniskirt</td>\n",
       "      <td align=\"center\"><style='text-align:center;'><font color='green'>miniskirt</font> (28.75%)<br/>cowboy boot (5.04%)<br/>cairn terrier (3.27%)<br/>suit (3.11%)<br/>bolo tie (2.73%)<br/></style></td>\n",
       "      <td align=\"center\">a photo of a man in a kilt and a woman in a skirt posing for a picture</td>\n",
       "      <td align=\"center\">a photo of a man in a kilt and a woman in a skirt posing for a picture <mark>on a sunny day</mark></td>\n",
       "      <td align=\"center\">weather</td>\n",
       "      <td align=\"center\"><img src=\"/nethome/vprabhu9/code/LANCE/release/outputs/HardImageNet/miniskirt/ILSVRC2012_val_00035350/on_a_sunny_day.jpeg\" width=\"512\" ></td>\n",
       "      <td align=\"center\"><style='text-align:center;'><font color='green'>miniskirt</font> (61.10%)<br/>trench coat (8.49%)<br/>cowboy boot (4.97%)<br/>suit (3.47%)<br/>military hat (bearskin or shako) (2.24%)<br/></style></td>\n",
       "      <td align=\"center\">32.35</td>\n",
       "    </tr>\n",
       "    <tr>\n",
       "      <th style=\"text-align:center;\">700</th>\n",
       "      <td align=\"center\"><img src=\"/nethome/vprabhu9/code/LANCE/release/outputs/HardImageNet/miniskirt/ILSVRC2012_val_00035350/img.jpeg\" width=\"512\" ></td>\n",
       "      <td align=\"center\">miniskirt</td>\n",
       "      <td align=\"center\"><style='text-align:center;'><font color='green'>miniskirt</font> (28.75%)<br/>cowboy boot (5.04%)<br/>cairn terrier (3.27%)<br/>suit (3.11%)<br/>bolo tie (2.73%)<br/></style></td>\n",
       "      <td align=\"center\">a photo of a man in a kilt and a woman in a skirt posing for a picture</td>\n",
       "      <td align=\"center\">a photo of a man in a kilt and a woman in a skirt posing for a picture <mark>in front of a waterfall</mark></td>\n",
       "      <td align=\"center\">background</td>\n",
       "      <td align=\"center\"><img src=\"/nethome/vprabhu9/code/LANCE/release/outputs/HardImageNet/miniskirt/ILSVRC2012_val_00035350/in_front_of_a_waterfall.jpeg\" width=\"512\" ></td>\n",
       "      <td align=\"center\"><style='text-align:center;'>dam (8.84%)<br/><font color='green'>miniskirt</font> (8.48%)<br/>fountain (4.30%)<br/>scottish terrier (3.43%)<br/>silver salmon (3.03%)<br/></style></td>\n",
       "      <td align=\"center\">20.27</td>\n",
       "    </tr>\n",
       "    <tr>\n",
       "      <th style=\"text-align:center;\">702</th>\n",
       "      <td align=\"center\"><img src=\"/nethome/vprabhu9/code/LANCE/release/outputs/HardImageNet/miniskirt/ILSVRC2012_val_00035350/img.jpeg\" width=\"512\" ></td>\n",
       "      <td align=\"center\">miniskirt</td>\n",
       "      <td align=\"center\"><style='text-align:center;'><font color='green'>miniskirt</font> (28.75%)<br/>cowboy boot (5.04%)<br/>cairn terrier (3.27%)<br/>suit (3.11%)<br/>bolo tie (2.73%)<br/></style></td>\n",
       "      <td align=\"center\">a photo of a man in a kilt and a woman in a skirt posing for a picture</td>\n",
       "      <td align=\"center\">a photo of a man in a kilt and a woman in a skirt posing for a picture <mark>in a park filled with trees</mark></td>\n",
       "      <td align=\"center\">background</td>\n",
       "      <td align=\"center\"><img src=\"/nethome/vprabhu9/code/LANCE/release/outputs/HardImageNet/miniskirt/ILSVRC2012_val_00035350/in_a_park_filled_with_trees.jpeg\" width=\"512\" ></td>\n",
       "      <td align=\"center\"><style='text-align:center;'><font color='green'>miniskirt</font> (95.93%)<br/>trench coat (0.89%)<br/>umbrella (0.51%)<br/>cowboy boot (0.39%)<br/>fur coat (0.25%)<br/></style></td>\n",
       "      <td align=\"center\">67.19</td>\n",
       "    </tr>\n",
       "    <tr>\n",
       "      <th style=\"text-align:center;\">703</th>\n",
       "      <td align=\"center\"><img src=\"/nethome/vprabhu9/code/LANCE/release/outputs/HardImageNet/miniskirt/ILSVRC2012_val_00035350/img.jpeg\" width=\"512\" ></td>\n",
       "      <td align=\"center\">miniskirt</td>\n",
       "      <td align=\"center\"><style='text-align:center;'><font color='green'>miniskirt</font> (28.75%)<br/>cowboy boot (5.04%)<br/>cairn terrier (3.27%)<br/>suit (3.11%)<br/>bolo tie (2.73%)<br/></style></td>\n",
       "      <td align=\"center\">a photo of a man in a kilt and a woman in a skirt posing for a picture</td>\n",
       "      <td align=\"center\">a photo of a man in a kilt and a woman in a skirt posing for a picture <mark>on a sunny beach</mark></td>\n",
       "      <td align=\"center\">background</td>\n",
       "      <td align=\"center\"><img src=\"/nethome/vprabhu9/code/LANCE/release/outputs/HardImageNet/miniskirt/ILSVRC2012_val_00035350/on_a_sunny_beach.jpeg\" width=\"512\" ></td>\n",
       "      <td align=\"center\"><style='text-align:center;'><font color='green'>miniskirt</font> (16.43%)<br/>cowboy boot (14.78%)<br/>trench coat (13.85%)<br/>bolo tie (6.87%)<br/>suit (5.09%)<br/></style></td>\n",
       "      <td align=\"center\">12.31</td>\n",
       "    </tr>\n",
       "    <tr>\n",
       "      <th style=\"text-align:center;\">662</th>\n",
       "      <td align=\"center\"><img src=\"/nethome/vprabhu9/code/LANCE/release/outputs/HardImageNet/miniskirt/ILSVRC2012_val_00022703/img.jpeg\" width=\"512\" ></td>\n",
       "      <td align=\"center\">miniskirt</td>\n",
       "      <td align=\"center\"><style='text-align:center;'><font color='green'>miniskirt</font> (25.73%)<br/>accordion (12.02%)<br/>drum (3.02%)<br/>unicycle (2.74%)<br/>limousine (2.44%)<br/></style></td>\n",
       "      <td align=\"center\">a photo of a group of women walking down a street with a dog on the side of the street</td>\n",
       "      <td align=\"center\">a photo of a group of women walking down a street with a dog on the side of the street <mark>on a beachside path</mark></td>\n",
       "      <td align=\"center\">background</td>\n",
       "      <td align=\"center\"><img src=\"/nethome/vprabhu9/code/LANCE/release/outputs/HardImageNet/miniskirt/ILSVRC2012_val_00022703/on_a_beachside_path.jpeg\" width=\"512\" ></td>\n",
       "      <td align=\"center\"><style='text-align:center;'><font color='green'>miniskirt</font> (34.78%)<br/>rickshaw (8.16%)<br/>suspension bridge (4.37%)<br/>maypole (2.50%)<br/>swing (2.38%)<br/></style></td>\n",
       "      <td align=\"center\">9.06</td>\n",
       "    </tr>\n",
       "  </tbody>\n",
       "</table>"
      ],
      "text/plain": [
       "<IPython.core.display.HTML object>"
      ]
     },
     "metadata": {},
     "output_type": "display_data"
    },
    {
     "data": {
      "text/markdown": [
       "## Cluster 9: Sensitivity=19.28%"
      ],
      "text/plain": [
       "<IPython.core.display.Markdown object>"
      ]
     },
     "metadata": {},
     "output_type": "display_data"
    },
    {
     "data": {
      "text/html": [
       "<table border=\"1\" class=\"dataframe\">\n",
       "  <thead>\n",
       "    <tr style=\"text-align: center;\">\n",
       "      <th style=\"text-align:center;\"></th>\n",
       "      <th style=\"text-align:center;\">Image</th>\n",
       "      <th style=\"text-align:center;\">Label</th>\n",
       "      <th style=\"text-align:center;\">Prediction</th>\n",
       "      <th style=\"text-align:center;\">Caption</th>\n",
       "      <th style=\"text-align:center;\">Edited Caption</th>\n",
       "      <th style=\"text-align:center;\">Edit Type</th>\n",
       "      <th style=\"text-align:center;\">LANCE</th>\n",
       "      <th style=\"text-align:center;\">LANCE prediction</th>\n",
       "      <th style=\"text-align:center;\">Sensitivity</th>\n",
       "    </tr>\n",
       "  </thead>\n",
       "  <tbody>\n",
       "    <tr>\n",
       "      <th style=\"text-align:center;\">634</th>\n",
       "      <td align=\"center\"><img src=\"/nethome/vprabhu9/code/LANCE/release/outputs/HardImageNet/miniskirt/ILSVRC2012_val_00019005/img.jpeg\" width=\"512\" ></td>\n",
       "      <td align=\"center\">miniskirt</td>\n",
       "      <td align=\"center\"><style='text-align:center;'><font color='green'>miniskirt</font> (35.28%)<br/>dining table (17.25%)<br/>rocking chair (5.95%)<br/>carousel (3.25%)<br/>restaurant (3.01%)<br/></style></td>\n",
       "      <td align=\"center\">a photo of a woman sitting at a table with her legs crossed and wearing high heeled boots</td>\n",
       "      <td align=\"center\">a photo of a woman sitting at a table with her legs crossed and wearing high heeled boots <mark>on a sandy beach</mark></td>\n",
       "      <td align=\"center\">weather</td>\n",
       "      <td align=\"center\"><img src=\"/nethome/vprabhu9/code/LANCE/release/outputs/HardImageNet/miniskirt/ILSVRC2012_val_00019005/on_a_sandy_beach.jpeg\" width=\"512\" ></td>\n",
       "      <td align=\"center\"><style='text-align:center;'><font color='green'>miniskirt</font> (43.82%)<br/>folding chair (11.54%)<br/>crutch (9.39%)<br/>rocking chair (2.58%)<br/>swim trunks / shorts (2.03%)<br/></style></td>\n",
       "      <td align=\"center\">8.54</td>\n",
       "    </tr>\n",
       "    <tr>\n",
       "      <th style=\"text-align:center;\">635</th>\n",
       "      <td align=\"center\"><img src=\"/nethome/vprabhu9/code/LANCE/release/outputs/HardImageNet/miniskirt/ILSVRC2012_val_00019005/img.jpeg\" width=\"512\" ></td>\n",
       "      <td align=\"center\">miniskirt</td>\n",
       "      <td align=\"center\"><style='text-align:center;'><font color='green'>miniskirt</font> (35.28%)<br/>dining table (17.25%)<br/>rocking chair (5.95%)<br/>carousel (3.25%)<br/>restaurant (3.01%)<br/></style></td>\n",
       "      <td align=\"center\">a photo of a woman sitting at a table with her legs crossed and wearing high heeled boots</td>\n",
       "      <td align=\"center\">a photo of a <mark>young</mark> woman sitting at a table with her legs crossed and wearing high heeled boots</td>\n",
       "      <td align=\"center\">adjective</td>\n",
       "      <td align=\"center\"><img src=\"/nethome/vprabhu9/code/LANCE/release/outputs/HardImageNet/miniskirt/ILSVRC2012_val_00019005/young.jpeg\" width=\"512\" ></td>\n",
       "      <td align=\"center\"><style='text-align:center;'><font color='green'>miniskirt</font> (48.83%)<br/>dining table (7.70%)<br/>folding chair (6.50%)<br/>rocking chair (1.97%)<br/>crutch (1.87%)<br/></style></td>\n",
       "      <td align=\"center\">13.55</td>\n",
       "    </tr>\n",
       "    <tr>\n",
       "      <th style=\"text-align:center;\">639</th>\n",
       "      <td align=\"center\"><img src=\"/nethome/vprabhu9/code/LANCE/release/outputs/HardImageNet/miniskirt/ILSVRC2012_val_00019005/img.jpeg\" width=\"512\" ></td>\n",
       "      <td align=\"center\">miniskirt</td>\n",
       "      <td align=\"center\"><style='text-align:center;'><font color='green'>miniskirt</font> (35.28%)<br/>dining table (17.25%)<br/>rocking chair (5.95%)<br/>carousel (3.25%)<br/>restaurant (3.01%)<br/></style></td>\n",
       "      <td align=\"center\">a photo of a woman sitting at a table with her legs crossed and wearing high heeled boots</td>\n",
       "      <td align=\"center\">a photo of a woman sitting at a table with her legs crossed and wearing high heeled boots <mark>and a blue and white checkered tablecloth in the background</mark></td>\n",
       "      <td align=\"center\">background</td>\n",
       "      <td align=\"center\"><img src=\"/nethome/vprabhu9/code/LANCE/release/outputs/HardImageNet/miniskirt/ILSVRC2012_val_00019005/and_a_blue_and_white_checkered_tablecloth_in_the_background.jpeg\" width=\"512\" ></td>\n",
       "      <td align=\"center\"><style='text-align:center;'><font color='green'>miniskirt</font> (27.87%)<br/>rocking chair (26.90%)<br/>folding chair (7.35%)<br/>swim trunks / shorts (6.36%)<br/>tights (4.45%)<br/></style></td>\n",
       "      <td align=\"center\">7.41</td>\n",
       "    </tr>\n",
       "    <tr>\n",
       "      <th style=\"text-align:center;\">640</th>\n",
       "      <td align=\"center\"><img src=\"/nethome/vprabhu9/code/LANCE/release/outputs/HardImageNet/miniskirt/ILSVRC2012_val_00019005/img.jpeg\" width=\"512\" ></td>\n",
       "      <td align=\"center\">miniskirt</td>\n",
       "      <td align=\"center\"><style='text-align:center;'><font color='green'>miniskirt</font> (35.28%)<br/>dining table (17.25%)<br/>rocking chair (5.95%)<br/>carousel (3.25%)<br/>restaurant (3.01%)<br/></style></td>\n",
       "      <td align=\"center\">a photo of a woman sitting at a table with her legs crossed and wearing high heeled boots</td>\n",
       "      <td align=\"center\">a photo of a woman sitting at a table with her legs crossed and wearing high heeled boots <mark>and a book on her lap in the background</mark></td>\n",
       "      <td align=\"center\">background</td>\n",
       "      <td align=\"center\"><img src=\"/nethome/vprabhu9/code/LANCE/release/outputs/HardImageNet/miniskirt/ILSVRC2012_val_00019005/and_a_book_on_her_lap_in_the_background.jpeg\" width=\"512\" ></td>\n",
       "      <td align=\"center\"><style='text-align:center;'><font color='green'>miniskirt</font> (79.10%)<br/>tights (2.41%)<br/>pole (0.94%)<br/>grand piano (0.86%)<br/>one-piece bathing suit (0.83%)<br/></style></td>\n",
       "      <td align=\"center\">43.81</td>\n",
       "    </tr>\n",
       "    <tr>\n",
       "      <th style=\"text-align:center;\">647</th>\n",
       "      <td align=\"center\"><img src=\"/nethome/vprabhu9/code/LANCE/release/outputs/HardImageNet/miniskirt/ILSVRC2012_val_00012776/img.jpeg\" width=\"512\" ></td>\n",
       "      <td align=\"center\">miniskirt</td>\n",
       "      <td align=\"center\"><style='text-align:center;'><font color='green'>miniskirt</font> (80.20%)<br/>rocking chair (7.40%)<br/>crutch (2.48%)<br/>hair dryer (0.77%)<br/>vacuum cleaner (0.52%)<br/></style></td>\n",
       "      <td align=\"center\">a photo of a woman sitting on a chair in a red shirt and black leather skirt with her hands on her hips</td>\n",
       "      <td align=\"center\">a photo of a <mark>young</mark> woman sitting on a chair in a red shirt and black leather skirt with her hands on her hips</td>\n",
       "      <td align=\"center\">adjective</td>\n",
       "      <td align=\"center\"><img src=\"/nethome/vprabhu9/code/LANCE/release/outputs/HardImageNet/miniskirt/ILSVRC2012_val_00012776/young.jpeg\" width=\"512\" ></td>\n",
       "      <td align=\"center\"><style='text-align:center;'><font color='green'>miniskirt</font> (51.44%)<br/>crutch (13.98%)<br/>rocking chair (13.78%)<br/>infant bed (1.86%)<br/>hair dryer (1.60%)<br/></style></td>\n",
       "      <td align=\"center\">28.76</td>\n",
       "    </tr>\n",
       "  </tbody>\n",
       "</table>"
      ],
      "text/plain": [
       "<IPython.core.display.HTML object>"
      ]
     },
     "metadata": {},
     "output_type": "display_data"
    },
    {
     "name": "stdout",
     "output_type": "stream",
     "text": [
      "\n",
      "\n",
      "\n",
      "\n"
     ]
    },
    {
     "data": {
      "text/markdown": [
       "# Class: patio"
      ],
      "text/plain": [
       "<IPython.core.display.Markdown object>"
      ]
     },
     "metadata": {},
     "output_type": "display_data"
    },
    {
     "data": {
      "text/markdown": [
       "## Cluster 6: Sensitivity=33.18%"
      ],
      "text/plain": [
       "<IPython.core.display.Markdown object>"
      ]
     },
     "metadata": {},
     "output_type": "display_data"
    },
    {
     "data": {
      "text/html": [
       "<table border=\"1\" class=\"dataframe\">\n",
       "  <thead>\n",
       "    <tr style=\"text-align: center;\">\n",
       "      <th style=\"text-align:center;\"></th>\n",
       "      <th style=\"text-align:center;\">Image</th>\n",
       "      <th style=\"text-align:center;\">Label</th>\n",
       "      <th style=\"text-align:center;\">Prediction</th>\n",
       "      <th style=\"text-align:center;\">Caption</th>\n",
       "      <th style=\"text-align:center;\">Edited Caption</th>\n",
       "      <th style=\"text-align:center;\">Edit Type</th>\n",
       "      <th style=\"text-align:center;\">LANCE</th>\n",
       "      <th style=\"text-align:center;\">LANCE prediction</th>\n",
       "      <th style=\"text-align:center;\">Sensitivity</th>\n",
       "    </tr>\n",
       "  </thead>\n",
       "  <tbody>\n",
       "    <tr>\n",
       "      <th style=\"text-align:center;\">864</th>\n",
       "      <td align=\"center\"><img src=\"/nethome/vprabhu9/code/LANCE/release/outputs/HardImageNet/patio/ILSVRC2012_val_00036309/img.jpeg\" width=\"512\" ></td>\n",
       "      <td align=\"center\">patio</td>\n",
       "      <td align=\"center\"><style='text-align:center;'>picket fence (92.16%)<br/>split-rail fence (7.23%)<br/><font color='green'>patio</font> (0.47%)<br/>greenhouse (0.02%)<br/>mobile home (0.02%)<br/></style></td>\n",
       "      <td align=\"center\">a photo of a garden with a wooden fence and a potted plant in the middle of the yard</td>\n",
       "      <td align=\"center\">a photo of <mark>a child playing in</mark> a garden with a wooden fence and a potted plant in the middle of the yard</td>\n",
       "      <td align=\"center\">subject</td>\n",
       "      <td align=\"center\"><img src=\"/nethome/vprabhu9/code/LANCE/release/outputs/HardImageNet/patio/ILSVRC2012_val_00036309/a_child_playing_in.jpeg\" width=\"512\" ></td>\n",
       "      <td align=\"center\"><style='text-align:center;'>picket fence (55.96%)<br/>split-rail fence (17.58%)<br/><font color='green'>patio</font> (9.95%)<br/>maze (4.15%)<br/>croquet ball (3.93%)<br/></style></td>\n",
       "      <td align=\"center\">9.48</td>\n",
       "    </tr>\n",
       "    <tr>\n",
       "      <th style=\"text-align:center;\">865</th>\n",
       "      <td align=\"center\"><img src=\"/nethome/vprabhu9/code/LANCE/release/outputs/HardImageNet/patio/ILSVRC2012_val_00036309/img.jpeg\" width=\"512\" ></td>\n",
       "      <td align=\"center\">patio</td>\n",
       "      <td align=\"center\"><style='text-align:center;'>picket fence (92.16%)<br/>split-rail fence (7.23%)<br/><font color='green'>patio</font> (0.47%)<br/>greenhouse (0.02%)<br/>mobile home (0.02%)<br/></style></td>\n",
       "      <td align=\"center\">a photo of a garden with a wooden fence and a potted plant in the middle of the yard</td>\n",
       "      <td align=\"center\">a photo of <mark>a group of friends hanging out in</mark> a garden with a wooden fence and a potted plant in the middle of the yard</td>\n",
       "      <td align=\"center\">subject</td>\n",
       "      <td align=\"center\"><img src=\"/nethome/vprabhu9/code/LANCE/release/outputs/HardImageNet/patio/ILSVRC2012_val_00036309/a_group_of_friends_hanging_out_in.jpeg\" width=\"512\" ></td>\n",
       "      <td align=\"center\"><style='text-align:center;'>picket fence (92.05%)<br/>split-rail fence (4.60%)<br/><font color='green'>patio</font> (3.00%)<br/>parking meter (0.05%)<br/>greenhouse (0.03%)<br/></style></td>\n",
       "      <td align=\"center\">2.53</td>\n",
       "    </tr>\n",
       "    <tr>\n",
       "      <th style=\"text-align:center;\">866</th>\n",
       "      <td align=\"center\"><img src=\"/nethome/vprabhu9/code/LANCE/release/outputs/HardImageNet/patio/ILSVRC2012_val_00036309/img.jpeg\" width=\"512\" ></td>\n",
       "      <td align=\"center\">patio</td>\n",
       "      <td align=\"center\"><style='text-align:center;'>picket fence (92.16%)<br/>split-rail fence (7.23%)<br/><font color='green'>patio</font> (0.47%)<br/>greenhouse (0.02%)<br/>mobile home (0.02%)<br/></style></td>\n",
       "      <td align=\"center\">a photo of a garden with a wooden fence and a potted plant in the middle of the yard</td>\n",
       "      <td align=\"center\">a photo of <mark>a couple strolling in</mark> a garden with a wooden fence and a potted plant in the middle of the yard</td>\n",
       "      <td align=\"center\">subject</td>\n",
       "      <td align=\"center\"><img src=\"/nethome/vprabhu9/code/LANCE/release/outputs/HardImageNet/patio/ILSVRC2012_val_00036309/a_couple_strolling_in.jpeg\" width=\"512\" ></td>\n",
       "      <td align=\"center\"><style='text-align:center;'>picket fence (96.82%)<br/>split-rail fence (1.79%)<br/><font color='green'>patio</font> (1.24%)<br/>mobile home (0.04%)<br/>parking meter (0.02%)<br/></style></td>\n",
       "      <td align=\"center\">0.77</td>\n",
       "    </tr>\n",
       "    <tr>\n",
       "      <th style=\"text-align:center;\">867</th>\n",
       "      <td align=\"center\"><img src=\"/nethome/vprabhu9/code/LANCE/release/outputs/HardImageNet/patio/ILSVRC2012_val_00036309/img.jpeg\" width=\"512\" ></td>\n",
       "      <td align=\"center\">patio</td>\n",
       "      <td align=\"center\"><style='text-align:center;'>picket fence (92.16%)<br/>split-rail fence (7.23%)<br/><font color='green'>patio</font> (0.47%)<br/>greenhouse (0.02%)<br/>mobile home (0.02%)<br/></style></td>\n",
       "      <td align=\"center\">a photo of a garden with a wooden fence and a potted plant in the middle of the yard</td>\n",
       "      <td align=\"center\">a photo of <mark>a dog walking in</mark> a garden with a wooden fence and a potted plant in the middle of the yard</td>\n",
       "      <td align=\"center\">subject</td>\n",
       "      <td align=\"center\"><img src=\"/nethome/vprabhu9/code/LANCE/release/outputs/HardImageNet/patio/ILSVRC2012_val_00036309/a_dog_walking_in.jpeg\" width=\"512\" ></td>\n",
       "      <td align=\"center\"><style='text-align:center;'>picket fence (22.11%)<br/>brittany dog (17.47%)<br/>ibizan hound (15.17%)<br/>welsh springer spaniel (10.43%)<br/>beagle (7.48%)<br/></style></td>\n",
       "      <td align=\"center\">0.47</td>\n",
       "    </tr>\n",
       "    <tr>\n",
       "      <th style=\"text-align:center;\">868</th>\n",
       "      <td align=\"center\"><img src=\"/nethome/vprabhu9/code/LANCE/release/outputs/HardImageNet/patio/ILSVRC2012_val_00036309/img.jpeg\" width=\"512\" ></td>\n",
       "      <td align=\"center\">patio</td>\n",
       "      <td align=\"center\"><style='text-align:center;'>picket fence (92.16%)<br/>split-rail fence (7.23%)<br/><font color='green'>patio</font> (0.47%)<br/>greenhouse (0.02%)<br/>mobile home (0.02%)<br/></style></td>\n",
       "      <td align=\"center\">a photo of a garden with a wooden fence and a potted plant in the middle of the yard</td>\n",
       "      <td align=\"center\">a photo of <mark>a mother planting in</mark> a garden with a wooden fence and a potted plant in the middle of the yard</td>\n",
       "      <td align=\"center\">subject</td>\n",
       "      <td align=\"center\"><img src=\"/nethome/vprabhu9/code/LANCE/release/outputs/HardImageNet/patio/ILSVRC2012_val_00036309/a_mother_planting_in.jpeg\" width=\"512\" ></td>\n",
       "      <td align=\"center\"><style='text-align:center;'>picket fence (91.00%)<br/>split-rail fence (8.18%)<br/><font color='green'>patio</font> (0.52%)<br/>parking meter (0.02%)<br/>mobile home (0.02%)<br/></style></td>\n",
       "      <td align=\"center\">0.05</td>\n",
       "    </tr>\n",
       "  </tbody>\n",
       "</table>"
      ],
      "text/plain": [
       "<IPython.core.display.HTML object>"
      ]
     },
     "metadata": {},
     "output_type": "display_data"
    },
    {
     "data": {
      "text/markdown": [
       "## Cluster 2: Sensitivity=27.98%"
      ],
      "text/plain": [
       "<IPython.core.display.Markdown object>"
      ]
     },
     "metadata": {},
     "output_type": "display_data"
    },
    {
     "data": {
      "text/html": [
       "<table border=\"1\" class=\"dataframe\">\n",
       "  <thead>\n",
       "    <tr style=\"text-align: center;\">\n",
       "      <th style=\"text-align:center;\"></th>\n",
       "      <th style=\"text-align:center;\">Image</th>\n",
       "      <th style=\"text-align:center;\">Label</th>\n",
       "      <th style=\"text-align:center;\">Prediction</th>\n",
       "      <th style=\"text-align:center;\">Caption</th>\n",
       "      <th style=\"text-align:center;\">Edited Caption</th>\n",
       "      <th style=\"text-align:center;\">Edit Type</th>\n",
       "      <th style=\"text-align:center;\">LANCE</th>\n",
       "      <th style=\"text-align:center;\">LANCE prediction</th>\n",
       "      <th style=\"text-align:center;\">Sensitivity</th>\n",
       "    </tr>\n",
       "  </thead>\n",
       "  <tbody>\n",
       "    <tr>\n",
       "      <th style=\"text-align:center;\">1008</th>\n",
       "      <td align=\"center\"><img src=\"/nethome/vprabhu9/code/LANCE/release/outputs/HardImageNet/patio/ILSVRC2012_val_00024670/img.jpeg\" width=\"512\" ></td>\n",
       "      <td align=\"center\">patio</td>\n",
       "      <td align=\"center\"><style='text-align:center;'><font color='green'>patio</font> (96.83%)<br/>trash can (0.43%)<br/>prison (0.33%)<br/>sliding door (0.16%)<br/>weighing scale (0.11%)<br/></style></td>\n",
       "      <td align=\"center\">a photo of a patio with a stone wall and a table and chairs and a fire hydrant</td>\n",
       "      <td align=\"center\">a photo of <mark>a child playing on</mark> a patio with a stone wall and a table and chairs and a fire hydrant</td>\n",
       "      <td align=\"center\">subject</td>\n",
       "      <td align=\"center\"><img src=\"/nethome/vprabhu9/code/LANCE/release/outputs/HardImageNet/patio/ILSVRC2012_val_00024670/a_child_playing_on.jpeg\" width=\"512\" ></td>\n",
       "      <td align=\"center\"><style='text-align:center;'><font color='green'>patio</font> (73.47%)<br/>sliding door (4.65%)<br/>weighing scale (1.92%)<br/>potter's wheel (1.83%)<br/>sink (1.57%)<br/></style></td>\n",
       "      <td align=\"center\">23.36</td>\n",
       "    </tr>\n",
       "    <tr>\n",
       "      <th style=\"text-align:center;\">951</th>\n",
       "      <td align=\"center\"><img src=\"/nethome/vprabhu9/code/LANCE/release/outputs/HardImageNet/patio/ILSVRC2012_val_00017304/img.jpeg\" width=\"512\" ></td>\n",
       "      <td align=\"center\">patio</td>\n",
       "      <td align=\"center\"><style='text-align:center;'>restaurant (64.82%)<br/><font color='green'>patio</font> (33.71%)<br/>dining table (0.92%)<br/>library (0.17%)<br/>grocery store (0.11%)<br/></style></td>\n",
       "      <td align=\"center\">a photo of a patio with tables, chairs and umbrellas on a sunny day in the sun</td>\n",
       "      <td align=\"center\">a photo of <mark>a bride and her bridesmaids posing for selfies on</mark> a patio with tables, chairs and umbrellas on a sunny day in the sun</td>\n",
       "      <td align=\"center\">subject</td>\n",
       "      <td align=\"center\"><img src=\"/nethome/vprabhu9/code/LANCE/release/outputs/HardImageNet/patio/ILSVRC2012_val_00017304/a_bride_and_her_bridesmaids_posing_for_selfies_on.jpeg\" width=\"512\" ></td>\n",
       "      <td align=\"center\"><style='text-align:center;'><font color='green'>patio</font> (91.51%)<br/>restaurant (4.76%)<br/>couch (0.49%)<br/>lampshade (0.46%)<br/>table lamp (0.28%)<br/></style></td>\n",
       "      <td align=\"center\">57.80</td>\n",
       "    </tr>\n",
       "    <tr>\n",
       "      <th style=\"text-align:center;\">952</th>\n",
       "      <td align=\"center\"><img src=\"/nethome/vprabhu9/code/LANCE/release/outputs/HardImageNet/patio/ILSVRC2012_val_00017304/img.jpeg\" width=\"512\" ></td>\n",
       "      <td align=\"center\">patio</td>\n",
       "      <td align=\"center\"><style='text-align:center;'>restaurant (64.82%)<br/><font color='green'>patio</font> (33.71%)<br/>dining table (0.92%)<br/>library (0.17%)<br/>grocery store (0.11%)<br/></style></td>\n",
       "      <td align=\"center\">a photo of a patio with tables, chairs and umbrellas on a sunny day in the sun</td>\n",
       "      <td align=\"center\">a photo of <mark>a team playing board games on</mark> a patio with tables, chairs and umbrellas on a sunny day in the sun</td>\n",
       "      <td align=\"center\">subject</td>\n",
       "      <td align=\"center\"><img src=\"/nethome/vprabhu9/code/LANCE/release/outputs/HardImageNet/patio/ILSVRC2012_val_00017304/a_team_playing_board_games_on.jpeg\" width=\"512\" ></td>\n",
       "      <td align=\"center\"><style='text-align:center;'><font color='green'>patio</font> (54.33%)<br/>restaurant (10.23%)<br/>table lamp (5.73%)<br/>umbrella (5.31%)<br/>lampshade (5.11%)<br/></style></td>\n",
       "      <td align=\"center\">20.62</td>\n",
       "    </tr>\n",
       "    <tr>\n",
       "      <th style=\"text-align:center;\">898</th>\n",
       "      <td align=\"center\"><img src=\"/nethome/vprabhu9/code/LANCE/release/outputs/HardImageNet/patio/ILSVRC2012_val_00012065/img.jpeg\" width=\"512\" ></td>\n",
       "      <td align=\"center\">patio</td>\n",
       "      <td align=\"center\"><style='text-align:center;'><font color='green'>patio</font> (85.50%)<br/>restaurant (5.92%)<br/>table lamp (1.34%)<br/>lampshade (0.91%)<br/>rocking chair (0.79%)<br/></style></td>\n",
       "      <td align=\"center\">a photo of a patio area with chairs, tables and umbrellas hanging from a line of lights</td>\n",
       "      <td align=\"center\">a photo of a <mark>group of people sitting on the</mark> patio area with chairs, tables and umbrellas hanging from a line of lights</td>\n",
       "      <td align=\"center\">subject</td>\n",
       "      <td align=\"center\"><img src=\"/nethome/vprabhu9/code/LANCE/release/outputs/HardImageNet/patio/ILSVRC2012_val_00012065/group_of_people_sitting_on_the.jpeg\" width=\"512\" ></td>\n",
       "      <td align=\"center\"><style='text-align:center;'><font color='green'>patio</font> (62.15%)<br/>restaurant (21.56%)<br/>rocking chair (2.38%)<br/>table lamp (1.22%)<br/>balloon (0.79%)<br/></style></td>\n",
       "      <td align=\"center\">23.36</td>\n",
       "    </tr>\n",
       "    <tr>\n",
       "      <th style=\"text-align:center;\">899</th>\n",
       "      <td align=\"center\"><img src=\"/nethome/vprabhu9/code/LANCE/release/outputs/HardImageNet/patio/ILSVRC2012_val_00012065/img.jpeg\" width=\"512\" ></td>\n",
       "      <td align=\"center\">patio</td>\n",
       "      <td align=\"center\"><style='text-align:center;'><font color='green'>patio</font> (85.50%)<br/>restaurant (5.92%)<br/>table lamp (1.34%)<br/>lampshade (0.91%)<br/>rocking chair (0.79%)<br/></style></td>\n",
       "      <td align=\"center\">a photo of a patio area with chairs, tables and umbrellas hanging from a line of lights</td>\n",
       "      <td align=\"center\">a photo of a <mark>sociable sitting on the</mark> patio area with chairs, tables and umbrellas hanging from a line of lights</td>\n",
       "      <td align=\"center\">subject</td>\n",
       "      <td align=\"center\"><img src=\"/nethome/vprabhu9/code/LANCE/release/outputs/HardImageNet/patio/ILSVRC2012_val_00012065/sociable_sitting_on_the.jpeg\" width=\"512\" ></td>\n",
       "      <td align=\"center\"><style='text-align:center;'><font color='green'>patio</font> (26.30%)<br/>table lamp (7.91%)<br/>spotlight (6.83%)<br/>lampshade (5.98%)<br/>planetarium (4.22%)<br/></style></td>\n",
       "      <td align=\"center\">59.20</td>\n",
       "    </tr>\n",
       "  </tbody>\n",
       "</table>"
      ],
      "text/plain": [
       "<IPython.core.display.HTML object>"
      ]
     },
     "metadata": {},
     "output_type": "display_data"
    },
    {
     "data": {
      "text/markdown": [
       "## Cluster 7: Sensitivity=27.05%"
      ],
      "text/plain": [
       "<IPython.core.display.Markdown object>"
      ]
     },
     "metadata": {},
     "output_type": "display_data"
    },
    {
     "data": {
      "text/html": [
       "<table border=\"1\" class=\"dataframe\">\n",
       "  <thead>\n",
       "    <tr style=\"text-align: center;\">\n",
       "      <th style=\"text-align:center;\"></th>\n",
       "      <th style=\"text-align:center;\">Image</th>\n",
       "      <th style=\"text-align:center;\">Label</th>\n",
       "      <th style=\"text-align:center;\">Prediction</th>\n",
       "      <th style=\"text-align:center;\">Caption</th>\n",
       "      <th style=\"text-align:center;\">Edited Caption</th>\n",
       "      <th style=\"text-align:center;\">Edit Type</th>\n",
       "      <th style=\"text-align:center;\">LANCE</th>\n",
       "      <th style=\"text-align:center;\">LANCE prediction</th>\n",
       "      <th style=\"text-align:center;\">Sensitivity</th>\n",
       "    </tr>\n",
       "  </thead>\n",
       "  <tbody>\n",
       "    <tr>\n",
       "      <th style=\"text-align:center;\">874</th>\n",
       "      <td align=\"center\"><img src=\"/nethome/vprabhu9/code/LANCE/release/outputs/HardImageNet/patio/ILSVRC2012_val_00048451/img.jpeg\" width=\"512\" ></td>\n",
       "      <td align=\"center\">patio</td>\n",
       "      <td align=\"center\"><style='text-align:center;'><font color='green'>patio</font> (91.02%)<br/>boathouse (4.39%)<br/>lakeshore (2.02%)<br/>restaurant (0.36%)<br/>dining table (0.36%)<br/></style></td>\n",
       "      <td align=\"center\">a photo of a patio with a table and chairs and a grill in the middle of the yard</td>\n",
       "      <td align=\"center\">a photo of a patio with a table and chairs and a grill in the middle of the yard <mark>on a snowy day</mark></td>\n",
       "      <td align=\"center\">weather</td>\n",
       "      <td align=\"center\"><img src=\"/nethome/vprabhu9/code/LANCE/release/outputs/HardImageNet/patio/ILSVRC2012_val_00048451/on_a_snowy_day.jpeg\" width=\"512\" ></td>\n",
       "      <td align=\"center\"><style='text-align:center;'>boathouse (70.00%)<br/>dam (8.26%)<br/><font color='green'>patio</font> (8.11%)<br/>lakeshore (4.06%)<br/>pier (1.27%)<br/></style></td>\n",
       "      <td align=\"center\">82.91</td>\n",
       "    </tr>\n",
       "    <tr>\n",
       "      <th style=\"text-align:center;\">816</th>\n",
       "      <td align=\"center\"><img src=\"/nethome/vprabhu9/code/LANCE/release/outputs/HardImageNet/patio/ILSVRC2012_val_00046336/img.jpeg\" width=\"512\" ></td>\n",
       "      <td align=\"center\">patio</td>\n",
       "      <td align=\"center\"><style='text-align:center;'><font color='green'>patio</font> (63.51%)<br/>sliding door (34.20%)<br/>window screen (0.83%)<br/>shoji screen / room divider (0.33%)<br/>greenhouse (0.16%)<br/></style></td>\n",
       "      <td align=\"center\">a photo of a living room with a christmas tree in the corner of the room and a television in the corner of the room</td>\n",
       "      <td align=\"center\">a photo of a living room with a christmas tree in the corner of the room and a television in the corner of the room <mark>during a blizzard</mark></td>\n",
       "      <td align=\"center\">weather</td>\n",
       "      <td align=\"center\"><img src=\"/nethome/vprabhu9/code/LANCE/release/outputs/HardImageNet/patio/ILSVRC2012_val_00046336/during_a_blizzard.jpeg\" width=\"512\" ></td>\n",
       "      <td align=\"center\"><style='text-align:center;'>sliding door (48.17%)<br/><font color='green'>patio</font> (36.70%)<br/>window screen (8.37%)<br/>shoji screen / room divider (3.51%)<br/>window shade (1.73%)<br/></style></td>\n",
       "      <td align=\"center\">26.81</td>\n",
       "    </tr>\n",
       "    <tr>\n",
       "      <th style=\"text-align:center;\">817</th>\n",
       "      <td align=\"center\"><img src=\"/nethome/vprabhu9/code/LANCE/release/outputs/HardImageNet/patio/ILSVRC2012_val_00046336/img.jpeg\" width=\"512\" ></td>\n",
       "      <td align=\"center\">patio</td>\n",
       "      <td align=\"center\"><style='text-align:center;'><font color='green'>patio</font> (63.51%)<br/>sliding door (34.20%)<br/>window screen (0.83%)<br/>shoji screen / room divider (0.33%)<br/>greenhouse (0.16%)<br/></style></td>\n",
       "      <td align=\"center\">a photo of a living room with a christmas tree in the corner of the room and a television in the corner of the room</td>\n",
       "      <td align=\"center\">a photo of a living room with a christmas tree in the corner of the room and a television in the corner of the room <mark>on a snowy day</mark></td>\n",
       "      <td align=\"center\">weather</td>\n",
       "      <td align=\"center\"><img src=\"/nethome/vprabhu9/code/LANCE/release/outputs/HardImageNet/patio/ILSVRC2012_val_00046336/on_a_snowy_day.jpeg\" width=\"512\" ></td>\n",
       "      <td align=\"center\"><style='text-align:center;'>sliding door (46.57%)<br/><font color='green'>patio</font> (40.07%)<br/>window screen (7.54%)<br/>window shade (2.39%)<br/>shoji screen / room divider (2.10%)<br/></style></td>\n",
       "      <td align=\"center\">23.43</td>\n",
       "    </tr>\n",
       "    <tr>\n",
       "      <th style=\"text-align:center;\">881</th>\n",
       "      <td align=\"center\"><img src=\"/nethome/vprabhu9/code/LANCE/release/outputs/HardImageNet/patio/ILSVRC2012_val_00023562/img.jpeg\" width=\"512\" ></td>\n",
       "      <td align=\"center\">patio</td>\n",
       "      <td align=\"center\"><style='text-align:center;'>pier (48.56%)<br/>pole (26.08%)<br/><font color='green'>patio</font> (7.67%)<br/>flagpole (2.06%)<br/>obelisk (1.42%)<br/></style></td>\n",
       "      <td align=\"center\">a photo of a view of a city from an area with columns and a clock tower in the distance</td>\n",
       "      <td align=\"center\">a photo of a view of a city from an area with columns and a clock tower in the distance <mark>during a blizzard</mark></td>\n",
       "      <td align=\"center\">weather</td>\n",
       "      <td align=\"center\"><img src=\"/nethome/vprabhu9/code/LANCE/release/outputs/HardImageNet/patio/ILSVRC2012_val_00023562/during_a_blizzard.jpeg\" width=\"512\" ></td>\n",
       "      <td align=\"center\"><style='text-align:center;'>bell tower (31.73%)<br/>analog clock (23.08%)<br/>weighing scale (13.14%)<br/>barometer (6.48%)<br/>sundial (4.00%)<br/></style></td>\n",
       "      <td align=\"center\">7.67</td>\n",
       "    </tr>\n",
       "    <tr>\n",
       "      <th style=\"text-align:center;\">884</th>\n",
       "      <td align=\"center\"><img src=\"/nethome/vprabhu9/code/LANCE/release/outputs/HardImageNet/patio/ILSVRC2012_val_00023562/img.jpeg\" width=\"512\" ></td>\n",
       "      <td align=\"center\">patio</td>\n",
       "      <td align=\"center\"><style='text-align:center;'>pier (48.56%)<br/>pole (26.08%)<br/><font color='green'>patio</font> (7.67%)<br/>flagpole (2.06%)<br/>obelisk (1.42%)<br/></style></td>\n",
       "      <td align=\"center\">a photo of a view of a city from an area with columns and a clock tower in the distance</td>\n",
       "      <td align=\"center\">a photo of a view of a city from an area with columns and a clock tower in the distance <mark>during a snowstorm</mark></td>\n",
       "      <td align=\"center\">weather</td>\n",
       "      <td align=\"center\"><img src=\"/nethome/vprabhu9/code/LANCE/release/outputs/HardImageNet/patio/ILSVRC2012_val_00023562/during_a_snowstorm.jpeg\" width=\"512\" ></td>\n",
       "      <td align=\"center\"><style='text-align:center;'>weighing scale (26.13%)<br/>bell tower (20.73%)<br/>analog clock (20.45%)<br/>barometer (7.32%)<br/>pier (4.11%)<br/></style></td>\n",
       "      <td align=\"center\">7.67</td>\n",
       "    </tr>\n",
       "  </tbody>\n",
       "</table>"
      ],
      "text/plain": [
       "<IPython.core.display.HTML object>"
      ]
     },
     "metadata": {},
     "output_type": "display_data"
    },
    {
     "name": "stdout",
     "output_type": "stream",
     "text": [
      "\n",
      "\n",
      "\n",
      "\n"
     ]
    },
    {
     "data": {
      "text/markdown": [
       "# Class: seat belt"
      ],
      "text/plain": [
       "<IPython.core.display.Markdown object>"
      ]
     },
     "metadata": {},
     "output_type": "display_data"
    },
    {
     "data": {
      "text/markdown": [
       "## Cluster 7: Sensitivity=50.87%"
      ],
      "text/plain": [
       "<IPython.core.display.Markdown object>"
      ]
     },
     "metadata": {},
     "output_type": "display_data"
    },
    {
     "data": {
      "text/html": [
       "<table border=\"1\" class=\"dataframe\">\n",
       "  <thead>\n",
       "    <tr style=\"text-align: center;\">\n",
       "      <th style=\"text-align:center;\"></th>\n",
       "      <th style=\"text-align:center;\">Image</th>\n",
       "      <th style=\"text-align:center;\">Label</th>\n",
       "      <th style=\"text-align:center;\">Prediction</th>\n",
       "      <th style=\"text-align:center;\">Caption</th>\n",
       "      <th style=\"text-align:center;\">Edited Caption</th>\n",
       "      <th style=\"text-align:center;\">Edit Type</th>\n",
       "      <th style=\"text-align:center;\">LANCE</th>\n",
       "      <th style=\"text-align:center;\">LANCE prediction</th>\n",
       "      <th style=\"text-align:center;\">Sensitivity</th>\n",
       "    </tr>\n",
       "  </thead>\n",
       "  <tbody>\n",
       "    <tr>\n",
       "      <th style=\"text-align:center;\">1108</th>\n",
       "      <td align=\"center\"><img src=\"/nethome/vprabhu9/code/LANCE/release/outputs/HardImageNet/seat belt/ILSVRC2012_val_00039567/img.jpeg\" width=\"512\" ></td>\n",
       "      <td align=\"center\">seat belt</td>\n",
       "      <td align=\"center\"><style='text-align:center;'><font color='green'>seat belt</font> (75.74%)<br/>car wheel (10.96%)<br/>radiator grille (5.84%)<br/>can opener (1.36%)<br/>buckle (1.18%)<br/></style></td>\n",
       "      <td align=\"center\">a photo of a close up of a seat belt with a metal handle on a black seat belt</td>\n",
       "      <td align=\"center\">a photo of a close up of a seat belt with a metal handle on a black seat belt <mark>in the midst of a hailstorm</mark></td>\n",
       "      <td align=\"center\">weather</td>\n",
       "      <td align=\"center\"><img src=\"/nethome/vprabhu9/code/LANCE/release/outputs/HardImageNet/seat belt/ILSVRC2012_val_00039567/in_the_midst_of_a_hailstorm.jpeg\" width=\"512\" ></td>\n",
       "      <td align=\"center\"><style='text-align:center;'>revolver (16.76%)<br/>holster (15.31%)<br/>buckle (8.60%)<br/>radiator grille (7.29%)<br/>disc brake (5.05%)<br/></style></td>\n",
       "      <td align=\"center\">75.74</td>\n",
       "    </tr>\n",
       "    <tr>\n",
       "      <th style=\"text-align:center;\">1055</th>\n",
       "      <td align=\"center\"><img src=\"/nethome/vprabhu9/code/LANCE/release/outputs/HardImageNet/seat belt/ILSVRC2012_val_00034961/img.jpeg\" width=\"512\" ></td>\n",
       "      <td align=\"center\">seat belt</td>\n",
       "      <td align=\"center\"><style='text-align:center;'><font color='green'>seat belt</font> (95.67%)<br/>sunglasses (2.89%)<br/>sunglass (0.44%)<br/>limousine (0.29%)<br/>minivan (0.22%)<br/></style></td>\n",
       "      <td align=\"center\">a photo of a man and a woman are sitting in the back seat of a car with sunglasses and seat belts on</td>\n",
       "      <td align=\"center\">a photo of a man and a woman are sitting in the back seat of a car with sunglasses and seat belts on <mark>in a hailstorm</mark></td>\n",
       "      <td align=\"center\">weather</td>\n",
       "      <td align=\"center\"><img src=\"/nethome/vprabhu9/code/LANCE/release/outputs/HardImageNet/seat belt/ILSVRC2012_val_00034961/in_a_hailstorm.jpeg\" width=\"512\" ></td>\n",
       "      <td align=\"center\"><style='text-align:center;'>sunglasses (47.16%)<br/>sunglass (43.12%)<br/><font color='green'>seat belt</font> (2.43%)<br/>bikini (2.00%)<br/>sarong (1.08%)<br/></style></td>\n",
       "      <td align=\"center\">93.24</td>\n",
       "    </tr>\n",
       "    <tr>\n",
       "      <th style=\"text-align:center;\">1139</th>\n",
       "      <td align=\"center\"><img src=\"/nethome/vprabhu9/code/LANCE/release/outputs/HardImageNet/seat belt/ILSVRC2012_val_00031753/img.jpeg\" width=\"512\" ></td>\n",
       "      <td align=\"center\">seat belt</td>\n",
       "      <td align=\"center\"><style='text-align:center;'><font color='green'>seat belt</font> (83.54%)<br/>limousine (8.87%)<br/>minivan (2.93%)<br/>scarf (1.73%)<br/>minibus (1.59%)<br/></style></td>\n",
       "      <td align=\"center\">a photo of a group of people sitting in the back seat of a car wearing seat belts and smiling for a picture</td>\n",
       "      <td align=\"center\">a photo of a group of people sitting in the back seat of a car wearing seat belts and smiling for a picture <mark>during a hailstorm</mark></td>\n",
       "      <td align=\"center\">weather</td>\n",
       "      <td align=\"center\"><img src=\"/nethome/vprabhu9/code/LANCE/release/outputs/HardImageNet/seat belt/ILSVRC2012_val_00031753/during_a_hailstorm.jpeg\" width=\"512\" ></td>\n",
       "      <td align=\"center\"><style='text-align:center;'><font color='green'>seat belt</font> (91.03%)<br/>limousine (5.57%)<br/>minivan (0.77%)<br/>minibus (0.41%)<br/>scarf (0.23%)<br/></style></td>\n",
       "      <td align=\"center\">7.49</td>\n",
       "    </tr>\n",
       "    <tr>\n",
       "      <th style=\"text-align:center;\">1069</th>\n",
       "      <td align=\"center\"><img src=\"/nethome/vprabhu9/code/LANCE/release/outputs/HardImageNet/seat belt/ILSVRC2012_val_00025902/img.jpeg\" width=\"512\" ></td>\n",
       "      <td align=\"center\">seat belt</td>\n",
       "      <td align=\"center\"><style='text-align:center;'><font color='green'>seat belt</font> (96.23%)<br/>tripod (1.29%)<br/>backpack (0.27%)<br/>windsor tie (0.22%)<br/>chain-link fence (0.14%)<br/></style></td>\n",
       "      <td align=\"center\">a photo of a seat belt is fastened to the back of a car</td>\n",
       "      <td align=\"center\">a photo of a seat belt is fastened to the back of a car <mark>in a hailstorm</mark></td>\n",
       "      <td align=\"center\">weather</td>\n",
       "      <td align=\"center\"><img src=\"/nethome/vprabhu9/code/LANCE/release/outputs/HardImageNet/seat belt/ILSVRC2012_val_00025902/in_a_hailstorm.jpeg\" width=\"512\" ></td>\n",
       "      <td align=\"center\"><style='text-align:center;'><font color='green'>seat belt</font> (18.45%)<br/>tripod (17.70%)<br/>car mirror (5.32%)<br/>chain-link fence (5.11%)<br/>rifle (3.56%)<br/></style></td>\n",
       "      <td align=\"center\">77.78</td>\n",
       "    </tr>\n",
       "    <tr>\n",
       "      <th style=\"text-align:center;\">1142</th>\n",
       "      <td align=\"center\"><img src=\"/nethome/vprabhu9/code/LANCE/release/outputs/HardImageNet/seat belt/ILSVRC2012_val_00007005/img.jpeg\" width=\"512\" ></td>\n",
       "      <td align=\"center\">seat belt</td>\n",
       "      <td align=\"center\"><style='text-align:center;'><font color='green'>seat belt</font> (99.60%)<br/>minivan (0.17%)<br/>car mirror (0.11%)<br/>limousine (0.09%)<br/>minibus (0.01%)<br/></style></td>\n",
       "      <td align=\"center\">a photo of a young boy sleeping in a car seat with his head resting on the seat belt</td>\n",
       "      <td align=\"center\">a photo of a young boy sleeping in a car seat with his head resting on the seat belt <mark>during a hailstorm</mark></td>\n",
       "      <td align=\"center\">weather</td>\n",
       "      <td align=\"center\"><img src=\"/nethome/vprabhu9/code/LANCE/release/outputs/HardImageNet/seat belt/ILSVRC2012_val_00007005/during_a_hailstorm.jpeg\" width=\"512\" ></td>\n",
       "      <td align=\"center\"><style='text-align:center;'><font color='green'>seat belt</font> (99.48%)<br/>car mirror (0.26%)<br/>limousine (0.05%)<br/>minivan (0.05%)<br/>suspension bridge (0.01%)<br/></style></td>\n",
       "      <td align=\"center\">0.12</td>\n",
       "    </tr>\n",
       "  </tbody>\n",
       "</table>"
      ],
      "text/plain": [
       "<IPython.core.display.HTML object>"
      ]
     },
     "metadata": {},
     "output_type": "display_data"
    },
    {
     "data": {
      "text/markdown": [
       "## Cluster 6: Sensitivity=39.27%"
      ],
      "text/plain": [
       "<IPython.core.display.Markdown object>"
      ]
     },
     "metadata": {},
     "output_type": "display_data"
    },
    {
     "data": {
      "text/html": [
       "<table border=\"1\" class=\"dataframe\">\n",
       "  <thead>\n",
       "    <tr style=\"text-align: center;\">\n",
       "      <th style=\"text-align:center;\"></th>\n",
       "      <th style=\"text-align:center;\">Image</th>\n",
       "      <th style=\"text-align:center;\">Label</th>\n",
       "      <th style=\"text-align:center;\">Prediction</th>\n",
       "      <th style=\"text-align:center;\">Caption</th>\n",
       "      <th style=\"text-align:center;\">Edited Caption</th>\n",
       "      <th style=\"text-align:center;\">Edit Type</th>\n",
       "      <th style=\"text-align:center;\">LANCE</th>\n",
       "      <th style=\"text-align:center;\">LANCE prediction</th>\n",
       "      <th style=\"text-align:center;\">Sensitivity</th>\n",
       "    </tr>\n",
       "  </thead>\n",
       "  <tbody>\n",
       "    <tr>\n",
       "      <th style=\"text-align:center;\">1051</th>\n",
       "      <td align=\"center\"><img src=\"/nethome/vprabhu9/code/LANCE/release/outputs/HardImageNet/seat belt/ILSVRC2012_val_00027843/img.jpeg\" width=\"512\" ></td>\n",
       "      <td align=\"center\">seat belt</td>\n",
       "      <td align=\"center\"><style='text-align:center;'><font color='green'>seat belt</font> (98.91%)<br/>minivan (0.19%)<br/>minibus (0.15%)<br/>suit (0.08%)<br/>limousine (0.06%)<br/></style></td>\n",
       "      <td align=\"center\">a photo of a woman wearing a seat belt sitting in the back seat of a car</td>\n",
       "      <td align=\"center\">a photo of a woman wearing a seat belt sitting in the back seat of a <mark>motorhome</mark> car</td>\n",
       "      <td align=\"center\">background</td>\n",
       "      <td align=\"center\"><img src=\"/nethome/vprabhu9/code/LANCE/release/outputs/HardImageNet/seat belt/ILSVRC2012_val_00027843/motorhome.jpeg\" width=\"512\" ></td>\n",
       "      <td align=\"center\"><style='text-align:center;'><font color='green'>seat belt</font> (67.53%)<br/>minibus (5.04%)<br/>minivan (2.88%)<br/>sunscreen (1.96%)<br/>suit (0.91%)<br/></style></td>\n",
       "      <td align=\"center\">31.38</td>\n",
       "    </tr>\n",
       "    <tr>\n",
       "      <th style=\"text-align:center;\">1182</th>\n",
       "      <td align=\"center\"><img src=\"/nethome/vprabhu9/code/LANCE/release/outputs/HardImageNet/seat belt/ILSVRC2012_val_00008883/img.jpeg\" width=\"512\" ></td>\n",
       "      <td align=\"center\">seat belt</td>\n",
       "      <td align=\"center\"><style='text-align:center;'><font color='green'>seat belt</font> (46.96%)<br/>limousine (46.61%)<br/>minibus (2.07%)<br/>minivan (1.16%)<br/>convertible (0.29%)<br/></style></td>\n",
       "      <td align=\"center\">a photo of a woman and two boys wearing seat belts sitting in the back of a car</td>\n",
       "      <td align=\"center\">a photo of a woman and two boys wearing seat belts sitting in the back of a <mark>bus</mark> car</td>\n",
       "      <td align=\"center\">background</td>\n",
       "      <td align=\"center\"><img src=\"/nethome/vprabhu9/code/LANCE/release/outputs/HardImageNet/seat belt/ILSVRC2012_val_00008883/bus.jpeg\" width=\"512\" ></td>\n",
       "      <td align=\"center\"><style='text-align:center;'><font color='green'>seat belt</font> (89.89%)<br/>limousine (8.71%)<br/>minibus (0.50%)<br/>minivan (0.18%)<br/>rickshaw (0.11%)<br/></style></td>\n",
       "      <td align=\"center\">42.92</td>\n",
       "    </tr>\n",
       "    <tr>\n",
       "      <th style=\"text-align:center;\">1170</th>\n",
       "      <td align=\"center\"><img src=\"/nethome/vprabhu9/code/LANCE/release/outputs/HardImageNet/seat belt/ILSVRC2012_val_00005254/img.jpeg\" width=\"512\" ></td>\n",
       "      <td align=\"center\">seat belt</td>\n",
       "      <td align=\"center\"><style='text-align:center;'><font color='green'>seat belt</font> (95.59%)<br/>minivan (1.85%)<br/>limousine (1.23%)<br/>recreational vehicle (0.33%)<br/>car mirror (0.28%)<br/></style></td>\n",
       "      <td align=\"center\">a photo of a woman wearing a seat belt sitting in the back seat of a car</td>\n",
       "      <td align=\"center\">a photo of a woman wearing a seat belt sitting in the back seat of a <mark>motorhome</mark> car</td>\n",
       "      <td align=\"center\">background</td>\n",
       "      <td align=\"center\"><img src=\"/nethome/vprabhu9/code/LANCE/release/outputs/HardImageNet/seat belt/ILSVRC2012_val_00005254/motorhome.jpeg\" width=\"512\" ></td>\n",
       "      <td align=\"center\"><style='text-align:center;'><font color='green'>seat belt</font> (52.07%)<br/>crutch (8.40%)<br/>neck brace (7.34%)<br/>limousine (6.42%)<br/>minivan (4.09%)<br/></style></td>\n",
       "      <td align=\"center\">43.52</td>\n",
       "    </tr>\n",
       "  </tbody>\n",
       "</table>"
      ],
      "text/plain": [
       "<IPython.core.display.HTML object>"
      ]
     },
     "metadata": {},
     "output_type": "display_data"
    },
    {
     "data": {
      "text/markdown": [
       "## Cluster 8: Sensitivity=32.34%"
      ],
      "text/plain": [
       "<IPython.core.display.Markdown object>"
      ]
     },
     "metadata": {},
     "output_type": "display_data"
    },
    {
     "data": {
      "text/html": [
       "<table border=\"1\" class=\"dataframe\">\n",
       "  <thead>\n",
       "    <tr style=\"text-align: center;\">\n",
       "      <th style=\"text-align:center;\"></th>\n",
       "      <th style=\"text-align:center;\">Image</th>\n",
       "      <th style=\"text-align:center;\">Label</th>\n",
       "      <th style=\"text-align:center;\">Prediction</th>\n",
       "      <th style=\"text-align:center;\">Caption</th>\n",
       "      <th style=\"text-align:center;\">Edited Caption</th>\n",
       "      <th style=\"text-align:center;\">Edit Type</th>\n",
       "      <th style=\"text-align:center;\">LANCE</th>\n",
       "      <th style=\"text-align:center;\">LANCE prediction</th>\n",
       "      <th style=\"text-align:center;\">Sensitivity</th>\n",
       "    </tr>\n",
       "  </thead>\n",
       "  <tbody>\n",
       "    <tr>\n",
       "      <th style=\"text-align:center;\">1054</th>\n",
       "      <td align=\"center\"><img src=\"/nethome/vprabhu9/code/LANCE/release/outputs/HardImageNet/seat belt/ILSVRC2012_val_00034961/img.jpeg\" width=\"512\" ></td>\n",
       "      <td align=\"center\">seat belt</td>\n",
       "      <td align=\"center\"><style='text-align:center;'><font color='green'>seat belt</font> (95.67%)<br/>sunglasses (2.89%)<br/>sunglass (0.44%)<br/>limousine (0.29%)<br/>minivan (0.22%)<br/></style></td>\n",
       "      <td align=\"center\">a photo of a man and a woman are sitting in the back seat of a car with sunglasses and seat belts on</td>\n",
       "      <td align=\"center\">a photo of a man and a woman are sitting in the back seat of a car with sunglasses and seat belts on <mark>in a blizzard</mark></td>\n",
       "      <td align=\"center\">weather</td>\n",
       "      <td align=\"center\"><img src=\"/nethome/vprabhu9/code/LANCE/release/outputs/HardImageNet/seat belt/ILSVRC2012_val_00034961/in_a_blizzard.jpeg\" width=\"512\" ></td>\n",
       "      <td align=\"center\"><style='text-align:center;'><font color='green'>seat belt</font> (81.94%)<br/>sunglasses (10.88%)<br/>sunglass (2.94%)<br/>limousine (1.73%)<br/>minibus (0.57%)<br/></style></td>\n",
       "      <td align=\"center\">13.73</td>\n",
       "    </tr>\n",
       "    <tr>\n",
       "      <th style=\"text-align:center;\">1037</th>\n",
       "      <td align=\"center\"><img src=\"/nethome/vprabhu9/code/LANCE/release/outputs/HardImageNet/seat belt/ILSVRC2012_val_00028611/img.jpeg\" width=\"512\" ></td>\n",
       "      <td align=\"center\">seat belt</td>\n",
       "      <td align=\"center\"><style='text-align:center;'>reflex camera (38.62%)<br/>loupe magnifying glass (9.84%)<br/>binoculars (8.91%)<br/>website (4.97%)<br/>can opener (4.27%)<br/></style></td>\n",
       "      <td align=\"center\">a photo of a black and white photo of a car seat belt</td>\n",
       "      <td align=\"center\">a photo of a black and white photo of a car seat belt <mark>in the snow</mark></td>\n",
       "      <td align=\"center\">weather</td>\n",
       "      <td align=\"center\"><img src=\"/nethome/vprabhu9/code/LANCE/release/outputs/HardImageNet/seat belt/ILSVRC2012_val_00028611/in_the_snow.jpeg\" width=\"512\" ></td>\n",
       "      <td align=\"center\"><style='text-align:center;'>website (29.18%)<br/>chainsaw (13.00%)<br/>race car (12.74%)<br/>sandal (7.97%)<br/>ski (7.87%)<br/></style></td>\n",
       "      <td align=\"center\">0.00</td>\n",
       "    </tr>\n",
       "    <tr>\n",
       "      <th style=\"text-align:center;\">1049</th>\n",
       "      <td align=\"center\"><img src=\"/nethome/vprabhu9/code/LANCE/release/outputs/HardImageNet/seat belt/ILSVRC2012_val_00027843/img.jpeg\" width=\"512\" ></td>\n",
       "      <td align=\"center\">seat belt</td>\n",
       "      <td align=\"center\"><style='text-align:center;'><font color='green'>seat belt</font> (98.91%)<br/>minivan (0.19%)<br/>minibus (0.15%)<br/>suit (0.08%)<br/>limousine (0.06%)<br/></style></td>\n",
       "      <td align=\"center\">a photo of a woman wearing a seat belt sitting in the back seat of a car</td>\n",
       "      <td align=\"center\">a photo of a woman wearing a seat belt sitting in the back seat of a car <mark>in the snow</mark></td>\n",
       "      <td align=\"center\">weather</td>\n",
       "      <td align=\"center\"><img src=\"/nethome/vprabhu9/code/LANCE/release/outputs/HardImageNet/seat belt/ILSVRC2012_val_00027843/in_the_snow.jpeg\" width=\"512\" ></td>\n",
       "      <td align=\"center\"><style='text-align:center;'><font color='green'>seat belt</font> (51.41%)<br/>sunscreen (16.72%)<br/>limousine (15.54%)<br/>minivan (4.75%)<br/>neck brace (3.30%)<br/></style></td>\n",
       "      <td align=\"center\">47.50</td>\n",
       "    </tr>\n",
       "    <tr>\n",
       "      <th style=\"text-align:center;\">1043</th>\n",
       "      <td align=\"center\"><img src=\"/nethome/vprabhu9/code/LANCE/release/outputs/HardImageNet/seat belt/ILSVRC2012_val_00011299/img.jpeg\" width=\"512\" ></td>\n",
       "      <td align=\"center\">seat belt</td>\n",
       "      <td align=\"center\"><style='text-align:center;'><font color='green'>seat belt</font> (99.99%)<br/>minivan (0.00%)<br/>car mirror (0.00%)<br/>minibus (0.00%)<br/>limousine (0.00%)<br/></style></td>\n",
       "      <td align=\"center\">a photo of a man wearing a seat belt sitting in the back seat of a car</td>\n",
       "      <td align=\"center\">a photo of a man wearing a seat belt sitting in the back seat of a car <mark>in the snow</mark></td>\n",
       "      <td align=\"center\">weather</td>\n",
       "      <td align=\"center\"><img src=\"/nethome/vprabhu9/code/LANCE/release/outputs/HardImageNet/seat belt/ILSVRC2012_val_00011299/in_the_snow.jpeg\" width=\"512\" ></td>\n",
       "      <td align=\"center\"><style='text-align:center;'><font color='green'>seat belt</font> (99.99%)<br/>minivan (0.00%)<br/>car mirror (0.00%)<br/>minibus (0.00%)<br/>limousine (0.00%)<br/></style></td>\n",
       "      <td align=\"center\">0.00</td>\n",
       "    </tr>\n",
       "    <tr>\n",
       "      <th style=\"text-align:center;\">1047</th>\n",
       "      <td align=\"center\"><img src=\"/nethome/vprabhu9/code/LANCE/release/outputs/HardImageNet/seat belt/ILSVRC2012_val_00011299/img.jpeg\" width=\"512\" ></td>\n",
       "      <td align=\"center\">seat belt</td>\n",
       "      <td align=\"center\"><style='text-align:center;'><font color='green'>seat belt</font> (99.99%)<br/>minivan (0.00%)<br/>car mirror (0.00%)<br/>minibus (0.00%)<br/>limousine (0.00%)<br/></style></td>\n",
       "      <td align=\"center\">a photo of a man wearing a seat belt sitting in the back seat of a car</td>\n",
       "      <td align=\"center\">a photo of a man wearing a seat belt sitting in the back seat of a car <mark>on a snowy winter night</mark></td>\n",
       "      <td align=\"center\">weather</td>\n",
       "      <td align=\"center\"><img src=\"/nethome/vprabhu9/code/LANCE/release/outputs/HardImageNet/seat belt/ILSVRC2012_val_00011299/on_a_snowy_winter_night.jpeg\" width=\"512\" ></td>\n",
       "      <td align=\"center\"><style='text-align:center;'><font color='green'>seat belt</font> (99.80%)<br/>car mirror (0.08%)<br/>minivan (0.05%)<br/>minibus (0.01%)<br/>chain mail (0.01%)<br/></style></td>\n",
       "      <td align=\"center\">0.19</td>\n",
       "    </tr>\n",
       "  </tbody>\n",
       "</table>"
      ],
      "text/plain": [
       "<IPython.core.display.HTML object>"
      ]
     },
     "metadata": {},
     "output_type": "display_data"
    },
    {
     "name": "stdout",
     "output_type": "stream",
     "text": [
      "\n",
      "\n",
      "\n",
      "\n"
     ]
    },
    {
     "data": {
      "text/markdown": [
       "# Class: ski"
      ],
      "text/plain": [
       "<IPython.core.display.Markdown object>"
      ]
     },
     "metadata": {},
     "output_type": "display_data"
    },
    {
     "data": {
      "text/markdown": [
       "## Cluster 4: Sensitivity=37.92%"
      ],
      "text/plain": [
       "<IPython.core.display.Markdown object>"
      ]
     },
     "metadata": {},
     "output_type": "display_data"
    },
    {
     "data": {
      "text/html": [
       "<table border=\"1\" class=\"dataframe\">\n",
       "  <thead>\n",
       "    <tr style=\"text-align: center;\">\n",
       "      <th style=\"text-align:center;\"></th>\n",
       "      <th style=\"text-align:center;\">Image</th>\n",
       "      <th style=\"text-align:center;\">Label</th>\n",
       "      <th style=\"text-align:center;\">Prediction</th>\n",
       "      <th style=\"text-align:center;\">Caption</th>\n",
       "      <th style=\"text-align:center;\">Edited Caption</th>\n",
       "      <th style=\"text-align:center;\">Edit Type</th>\n",
       "      <th style=\"text-align:center;\">LANCE</th>\n",
       "      <th style=\"text-align:center;\">LANCE prediction</th>\n",
       "      <th style=\"text-align:center;\">Sensitivity</th>\n",
       "    </tr>\n",
       "  </thead>\n",
       "  <tbody>\n",
       "    <tr>\n",
       "      <th style=\"text-align:center;\">1198</th>\n",
       "      <td align=\"center\"><img src=\"/nethome/vprabhu9/code/LANCE/release/outputs/HardImageNet/ski/ILSVRC2012_val_00033777/img.jpeg\" width=\"512\" ></td>\n",
       "      <td align=\"center\">ski</td>\n",
       "      <td align=\"center\"><style='text-align:center;'><font color='green'>ski</font> (98.59%)<br/>dog sled (0.69%)<br/>snowmobile (0.39%)<br/>bobsleigh (0.07%)<br/>mountain (0.06%)<br/></style></td>\n",
       "      <td align=\"center\">a photo of a group of people skiing down a snow covered slope next to a net</td>\n",
       "      <td align=\"center\">a photo of a group of <mark>colorfully dressed</mark> people skiing down a snow covered slope next to a net</td>\n",
       "      <td align=\"center\">adjective</td>\n",
       "      <td align=\"center\"><img src=\"/nethome/vprabhu9/code/LANCE/release/outputs/HardImageNet/ski/ILSVRC2012_val_00033777/colorfully_dressed.jpeg\" width=\"512\" ></td>\n",
       "      <td align=\"center\"><style='text-align:center;'><font color='green'>ski</font> (99.53%)<br/>dog sled (0.18%)<br/>mountain (0.05%)<br/>shovel (0.05%)<br/>hockey puck (0.04%)<br/></style></td>\n",
       "      <td align=\"center\">0.93</td>\n",
       "    </tr>\n",
       "    <tr>\n",
       "      <th style=\"text-align:center;\">1227</th>\n",
       "      <td align=\"center\"><img src=\"/nethome/vprabhu9/code/LANCE/release/outputs/HardImageNet/ski/ILSVRC2012_val_00029431/img.jpeg\" width=\"512\" ></td>\n",
       "      <td align=\"center\">ski</td>\n",
       "      <td align=\"center\"><style='text-align:center;'>scabbard (32.61%)<br/>shovel (30.84%)<br/>letter opener (10.93%)<br/><font color='green'>ski</font> (7.79%)<br/>paddle (4.94%)<br/></style></td>\n",
       "      <td align=\"center\">a photo of a pair of skis laying in the snow next to a rock and a pair of skis</td>\n",
       "      <td align=\"center\">a photo of a pair of <mark>rusty</mark> skis laying in the snow next to a rock and a pair of skis</td>\n",
       "      <td align=\"center\">adjective</td>\n",
       "      <td align=\"center\"><img src=\"/nethome/vprabhu9/code/LANCE/release/outputs/HardImageNet/ski/ILSVRC2012_val_00029431/rusty.jpeg\" width=\"512\" ></td>\n",
       "      <td align=\"center\"><style='text-align:center;'><font color='green'>ski</font> (30.80%)<br/>picket fence (10.68%)<br/>shovel (6.24%)<br/>bobsleigh (5.27%)<br/>banjo (4.74%)<br/></style></td>\n",
       "      <td align=\"center\">23.02</td>\n",
       "    </tr>\n",
       "    <tr>\n",
       "      <th style=\"text-align:center;\">1228</th>\n",
       "      <td align=\"center\"><img src=\"/nethome/vprabhu9/code/LANCE/release/outputs/HardImageNet/ski/ILSVRC2012_val_00029431/img.jpeg\" width=\"512\" ></td>\n",
       "      <td align=\"center\">ski</td>\n",
       "      <td align=\"center\"><style='text-align:center;'>scabbard (32.61%)<br/>shovel (30.84%)<br/>letter opener (10.93%)<br/><font color='green'>ski</font> (7.79%)<br/>paddle (4.94%)<br/></style></td>\n",
       "      <td align=\"center\">a photo of a pair of skis laying in the snow next to a rock and a pair of skis</td>\n",
       "      <td align=\"center\">a photo of a pair of <mark>colorful</mark> skis laying in the snow next to a rock and a pair of skis</td>\n",
       "      <td align=\"center\">adjective</td>\n",
       "      <td align=\"center\"><img src=\"/nethome/vprabhu9/code/LANCE/release/outputs/HardImageNet/ski/ILSVRC2012_val_00029431/colorful.jpeg\" width=\"512\" ></td>\n",
       "      <td align=\"center\"><style='text-align:center;'><font color='green'>ski</font> (97.59%)<br/>shovel (1.31%)<br/>paintbrush (0.12%)<br/>crutch (0.11%)<br/>letter opener (0.06%)<br/></style></td>\n",
       "      <td align=\"center\">89.81</td>\n",
       "    </tr>\n",
       "  </tbody>\n",
       "</table>"
      ],
      "text/plain": [
       "<IPython.core.display.HTML object>"
      ]
     },
     "metadata": {},
     "output_type": "display_data"
    },
    {
     "data": {
      "text/markdown": [
       "## Cluster 9: Sensitivity=26.17%"
      ],
      "text/plain": [
       "<IPython.core.display.Markdown object>"
      ]
     },
     "metadata": {},
     "output_type": "display_data"
    },
    {
     "data": {
      "text/html": [
       "<table border=\"1\" class=\"dataframe\">\n",
       "  <thead>\n",
       "    <tr style=\"text-align: center;\">\n",
       "      <th style=\"text-align:center;\"></th>\n",
       "      <th style=\"text-align:center;\">Image</th>\n",
       "      <th style=\"text-align:center;\">Label</th>\n",
       "      <th style=\"text-align:center;\">Prediction</th>\n",
       "      <th style=\"text-align:center;\">Caption</th>\n",
       "      <th style=\"text-align:center;\">Edited Caption</th>\n",
       "      <th style=\"text-align:center;\">Edit Type</th>\n",
       "      <th style=\"text-align:center;\">LANCE</th>\n",
       "      <th style=\"text-align:center;\">LANCE prediction</th>\n",
       "      <th style=\"text-align:center;\">Sensitivity</th>\n",
       "    </tr>\n",
       "  </thead>\n",
       "  <tbody>\n",
       "    <tr>\n",
       "      <th style=\"text-align:center;\">1199</th>\n",
       "      <td align=\"center\"><img src=\"/nethome/vprabhu9/code/LANCE/release/outputs/HardImageNet/ski/ILSVRC2012_val_00031034/img.jpeg\" width=\"512\" ></td>\n",
       "      <td align=\"center\">ski</td>\n",
       "      <td align=\"center\"><style='text-align:center;'>mountain (41.83%)<br/><font color='green'>ski</font> (27.09%)<br/>snowmobile (13.74%)<br/>tent (4.03%)<br/>dog sled (1.59%)<br/></style></td>\n",
       "      <td align=\"center\">a photo of a man riding skis down the side of a snow covered ski slope next to a ski lift</td>\n",
       "      <td align=\"center\">a photo of a man riding skis down the side of a snow covered ski slope <mark>on a snowstorm night</mark> next to a ski lift</td>\n",
       "      <td align=\"center\">weather</td>\n",
       "      <td align=\"center\"><img src=\"/nethome/vprabhu9/code/LANCE/release/outputs/HardImageNet/ski/ILSVRC2012_val_00031034/on_a_snowstorm_night.jpeg\" width=\"512\" ></td>\n",
       "      <td align=\"center\"><style='text-align:center;'><font color='green'>ski</font> (74.50%)<br/>mountain (18.75%)<br/>tent (3.81%)<br/>dog sled (0.75%)<br/>snowmobile (0.64%)<br/></style></td>\n",
       "      <td align=\"center\">47.41</td>\n",
       "    </tr>\n",
       "    <tr>\n",
       "      <th style=\"text-align:center;\">1213</th>\n",
       "      <td align=\"center\"><img src=\"/nethome/vprabhu9/code/LANCE/release/outputs/HardImageNet/ski/ILSVRC2012_val_00030160/img.jpeg\" width=\"512\" ></td>\n",
       "      <td align=\"center\">ski</td>\n",
       "      <td align=\"center\"><style='text-align:center;'><font color='green'>ski</font> (64.90%)<br/>dog sled (16.33%)<br/>mountain (14.66%)<br/>snowmobile (3.18%)<br/>tent (0.36%)<br/></style></td>\n",
       "      <td align=\"center\">a photo of a group of people on skis standing in the snow near a tent with a mountain in the background</td>\n",
       "      <td align=\"center\">a photo of a group of people on skis standing in the snow near a tent with a mountain in the background <mark>on a snowy night</mark></td>\n",
       "      <td align=\"center\">background</td>\n",
       "      <td align=\"center\"><img src=\"/nethome/vprabhu9/code/LANCE/release/outputs/HardImageNet/ski/ILSVRC2012_val_00030160/on_a_snowy_night.jpeg\" width=\"512\" ></td>\n",
       "      <td align=\"center\"><style='text-align:center;'>tent (27.82%)<br/>mountain (26.72%)<br/><font color='green'>ski</font> (24.24%)<br/>dog sled (9.15%)<br/>snowmobile (6.68%)<br/></style></td>\n",
       "      <td align=\"center\">40.66</td>\n",
       "    </tr>\n",
       "    <tr>\n",
       "      <th style=\"text-align:center;\">1208</th>\n",
       "      <td align=\"center\"><img src=\"/nethome/vprabhu9/code/LANCE/release/outputs/HardImageNet/ski/ILSVRC2012_val_00015149/img.jpeg\" width=\"512\" ></td>\n",
       "      <td align=\"center\">ski</td>\n",
       "      <td align=\"center\"><style='text-align:center;'>megalith (46.13%)<br/><font color='green'>ski</font> (18.29%)<br/>missile (5.61%)<br/>projectile (4.54%)<br/>pole (2.96%)<br/></style></td>\n",
       "      <td align=\"center\">a photo of a pair of skis sitting on top of a snow covered slope next to a mountain</td>\n",
       "      <td align=\"center\">a photo of a pair of skis sitting on top of a snow covered slope next to a mountain <mark>on a snowy night</mark></td>\n",
       "      <td align=\"center\">weather</td>\n",
       "      <td align=\"center\"><img src=\"/nethome/vprabhu9/code/LANCE/release/outputs/HardImageNet/ski/ILSVRC2012_val_00015149/on_a_snowy_night.jpeg\" width=\"512\" ></td>\n",
       "      <td align=\"center\"><style='text-align:center;'><font color='green'>ski</font> (33.39%)<br/>hot dog (9.58%)<br/>megalith (7.50%)<br/>projectile (6.67%)<br/>missile (6.49%)<br/></style></td>\n",
       "      <td align=\"center\">15.10</td>\n",
       "    </tr>\n",
       "    <tr>\n",
       "      <th style=\"text-align:center;\">1195</th>\n",
       "      <td align=\"center\"><img src=\"/nethome/vprabhu9/code/LANCE/release/outputs/HardImageNet/ski/ILSVRC2012_val_00000568/img.jpeg\" width=\"512\" ></td>\n",
       "      <td align=\"center\">ski</td>\n",
       "      <td align=\"center\"><style='text-align:center;'><font color='green'>ski</font> (98.23%)<br/>mountain (1.20%)<br/>dog sled (0.48%)<br/>shovel (0.03%)<br/>snowmobile (0.03%)<br/></style></td>\n",
       "      <td align=\"center\">a photo of a couple of people riding skis on top of a snow covered slope next to a lake</td>\n",
       "      <td align=\"center\">a photo of a couple of people riding skis on top of a snow covered slope next to a <mark>dreamy moonlit</mark> lake</td>\n",
       "      <td align=\"center\">background</td>\n",
       "      <td align=\"center\"><img src=\"/nethome/vprabhu9/code/LANCE/release/outputs/HardImageNet/ski/ILSVRC2012_val_00000568/dreamy_moonlit.jpeg\" width=\"512\" ></td>\n",
       "      <td align=\"center\"><style='text-align:center;'><font color='green'>ski</font> (99.73%)<br/>mountain (0.17%)<br/>dog sled (0.08%)<br/>snowmobile (0.01%)<br/>shovel (0.00%)<br/></style></td>\n",
       "      <td align=\"center\">1.50</td>\n",
       "    </tr>\n",
       "  </tbody>\n",
       "</table>"
      ],
      "text/plain": [
       "<IPython.core.display.HTML object>"
      ]
     },
     "metadata": {},
     "output_type": "display_data"
    },
    {
     "data": {
      "text/markdown": [
       "## Cluster 5: Sensitivity=23.71%"
      ],
      "text/plain": [
       "<IPython.core.display.Markdown object>"
      ]
     },
     "metadata": {},
     "output_type": "display_data"
    },
    {
     "data": {
      "text/html": [
       "<table border=\"1\" class=\"dataframe\">\n",
       "  <thead>\n",
       "    <tr style=\"text-align: center;\">\n",
       "      <th style=\"text-align:center;\"></th>\n",
       "      <th style=\"text-align:center;\">Image</th>\n",
       "      <th style=\"text-align:center;\">Label</th>\n",
       "      <th style=\"text-align:center;\">Prediction</th>\n",
       "      <th style=\"text-align:center;\">Caption</th>\n",
       "      <th style=\"text-align:center;\">Edited Caption</th>\n",
       "      <th style=\"text-align:center;\">Edit Type</th>\n",
       "      <th style=\"text-align:center;\">LANCE</th>\n",
       "      <th style=\"text-align:center;\">LANCE prediction</th>\n",
       "      <th style=\"text-align:center;\">Sensitivity</th>\n",
       "    </tr>\n",
       "  </thead>\n",
       "  <tbody>\n",
       "    <tr>\n",
       "      <th style=\"text-align:center;\">1229</th>\n",
       "      <td align=\"center\"><img src=\"/nethome/vprabhu9/code/LANCE/release/outputs/HardImageNet/ski/ILSVRC2012_val_00047702/img.jpeg\" width=\"512\" ></td>\n",
       "      <td align=\"center\">ski</td>\n",
       "      <td align=\"center\"><style='text-align:center;'>mountain (50.21%)<br/><font color='green'>ski</font> (48.91%)<br/>snowmobile (0.46%)<br/>dog sled (0.24%)<br/>tent (0.06%)<br/></style></td>\n",
       "      <td align=\"center\">a photo of a group of people riding skis on top of a snow covered slope next to a mountain</td>\n",
       "      <td align=\"center\">a photo of a group of people riding skis on top of a snow covered slope next to a mountain <mark>with a monastery visible in the mountain range</mark></td>\n",
       "      <td align=\"center\">background</td>\n",
       "      <td align=\"center\"><img src=\"/nethome/vprabhu9/code/LANCE/release/outputs/HardImageNet/ski/ILSVRC2012_val_00047702/with_a_monastery_visible_in_the_mountain_range.jpeg\" width=\"512\" ></td>\n",
       "      <td align=\"center\"><style='text-align:center;'><font color='green'>ski</font> (74.25%)<br/>mountain (25.01%)<br/>dog sled (0.30%)<br/>snowmobile (0.18%)<br/>tent (0.04%)<br/></style></td>\n",
       "      <td align=\"center\">25.35</td>\n",
       "    </tr>\n",
       "    <tr>\n",
       "      <th style=\"text-align:center;\">1226</th>\n",
       "      <td align=\"center\"><img src=\"/nethome/vprabhu9/code/LANCE/release/outputs/HardImageNet/ski/ILSVRC2012_val_00029954/img.jpeg\" width=\"512\" ></td>\n",
       "      <td align=\"center\">ski</td>\n",
       "      <td align=\"center\"><style='text-align:center;'>mountain (91.07%)<br/><font color='green'>ski</font> (8.38%)<br/>solar thermal collector (0.08%)<br/>tent (0.05%)<br/>website (0.05%)<br/></style></td>\n",
       "      <td align=\"center\">a photo of a group of people on skis standing on top of a snow covered slope next to a mountain</td>\n",
       "      <td align=\"center\">a photo of a group of people on skis standing on top of a snow covered slope next to a mountain <mark>with a snowman visible in the background</mark></td>\n",
       "      <td align=\"center\">background</td>\n",
       "      <td align=\"center\"><img src=\"/nethome/vprabhu9/code/LANCE/release/outputs/HardImageNet/ski/ILSVRC2012_val_00029954/with_a_snowman_visible_in_the_background.jpeg\" width=\"512\" ></td>\n",
       "      <td align=\"center\"><style='text-align:center;'>mountain (79.65%)<br/><font color='green'>ski</font> (4.63%)<br/>website (1.74%)<br/>volcano (1.05%)<br/>solar thermal collector (0.82%)<br/></style></td>\n",
       "      <td align=\"center\">3.75</td>\n",
       "    </tr>\n",
       "    <tr>\n",
       "      <th style=\"text-align:center;\">1222</th>\n",
       "      <td align=\"center\"><img src=\"/nethome/vprabhu9/code/LANCE/release/outputs/HardImageNet/ski/ILSVRC2012_val_00014499/img.jpeg\" width=\"512\" ></td>\n",
       "      <td align=\"center\">ski</td>\n",
       "      <td align=\"center\"><style='text-align:center;'><font color='green'>ski</font> (54.14%)<br/>paddle (9.93%)<br/>canoe (5.08%)<br/>dog sled (3.60%)<br/>schooner (3.54%)<br/></style></td>\n",
       "      <td align=\"center\">a photo of a group of people riding skis on top of a snow covered slope next to each other</td>\n",
       "      <td align=\"center\">a photo of a group of people riding skis on top of a snow covered slope <mark>with a view of the city below</mark> next to each other</td>\n",
       "      <td align=\"center\">background</td>\n",
       "      <td align=\"center\"><img src=\"/nethome/vprabhu9/code/LANCE/release/outputs/HardImageNet/ski/ILSVRC2012_val_00014499/with_a_view_of_the_city_below.jpeg\" width=\"512\" ></td>\n",
       "      <td align=\"center\"><style='text-align:center;'>submarine (12.90%)<br/><font color='green'>ski</font> (12.13%)<br/>gondola (10.92%)<br/>rickshaw (5.77%)<br/>breakwater (5.21%)<br/></style></td>\n",
       "      <td align=\"center\">42.02</td>\n",
       "    </tr>\n",
       "  </tbody>\n",
       "</table>"
      ],
      "text/plain": [
       "<IPython.core.display.HTML object>"
      ]
     },
     "metadata": {},
     "output_type": "display_data"
    },
    {
     "name": "stdout",
     "output_type": "stream",
     "text": [
      "\n",
      "\n",
      "\n",
      "\n"
     ]
    },
    {
     "data": {
      "text/markdown": [
       "# Class: snorkel"
      ],
      "text/plain": [
       "<IPython.core.display.Markdown object>"
      ]
     },
     "metadata": {},
     "output_type": "display_data"
    },
    {
     "data": {
      "text/markdown": [
       "## Cluster 9: Sensitivity=49.77%"
      ],
      "text/plain": [
       "<IPython.core.display.Markdown object>"
      ]
     },
     "metadata": {},
     "output_type": "display_data"
    },
    {
     "data": {
      "text/html": [
       "<table border=\"1\" class=\"dataframe\">\n",
       "  <thead>\n",
       "    <tr style=\"text-align: center;\">\n",
       "      <th style=\"text-align:center;\"></th>\n",
       "      <th style=\"text-align:center;\">Image</th>\n",
       "      <th style=\"text-align:center;\">Label</th>\n",
       "      <th style=\"text-align:center;\">Prediction</th>\n",
       "      <th style=\"text-align:center;\">Caption</th>\n",
       "      <th style=\"text-align:center;\">Edited Caption</th>\n",
       "      <th style=\"text-align:center;\">Edit Type</th>\n",
       "      <th style=\"text-align:center;\">LANCE</th>\n",
       "      <th style=\"text-align:center;\">LANCE prediction</th>\n",
       "      <th style=\"text-align:center;\">Sensitivity</th>\n",
       "    </tr>\n",
       "  </thead>\n",
       "  <tbody>\n",
       "    <tr>\n",
       "      <th style=\"text-align:center;\">1232</th>\n",
       "      <td align=\"center\"><img src=\"/nethome/vprabhu9/code/LANCE/release/outputs/HardImageNet/snorkel/ILSVRC2012_val_00025074/img.jpeg\" width=\"512\" ></td>\n",
       "      <td align=\"center\">snorkel</td>\n",
       "      <td align=\"center\"><style='text-align:center;'><font color='green'>snorkel</font> (94.72%)<br/>neck brace (2.30%)<br/>scuba diver (1.66%)<br/>gas mask or respirator (0.50%)<br/>silver salmon (0.18%)<br/></style></td>\n",
       "      <td align=\"center\">a photo of a woman standing in a body of water wearing a diving mask and snorkel</td>\n",
       "      <td align=\"center\">a photo of a woman standing in a body of water wearing a diving mask and snorkel <mark>by a lake in the mountains</mark></td>\n",
       "      <td align=\"center\">background</td>\n",
       "      <td align=\"center\"><img src=\"/nethome/vprabhu9/code/LANCE/release/outputs/HardImageNet/snorkel/ILSVRC2012_val_00025074/by_a_lake_in_the_mountains.jpeg\" width=\"512\" ></td>\n",
       "      <td align=\"center\"><style='text-align:center;'><font color='green'>snorkel</font> (78.09%)<br/>gas mask or respirator (15.64%)<br/>muzzle (3.15%)<br/>scuba diver (1.40%)<br/>oxygen mask (0.64%)<br/></style></td>\n",
       "      <td align=\"center\">16.63</td>\n",
       "    </tr>\n",
       "    <tr>\n",
       "      <th style=\"text-align:center;\">1235</th>\n",
       "      <td align=\"center\"><img src=\"/nethome/vprabhu9/code/LANCE/release/outputs/HardImageNet/snorkel/ILSVRC2012_val_00025074/img.jpeg\" width=\"512\" ></td>\n",
       "      <td align=\"center\">snorkel</td>\n",
       "      <td align=\"center\"><style='text-align:center;'><font color='green'>snorkel</font> (94.72%)<br/>neck brace (2.30%)<br/>scuba diver (1.66%)<br/>gas mask or respirator (0.50%)<br/>silver salmon (0.18%)<br/></style></td>\n",
       "      <td align=\"center\">a photo of a woman standing in a body of water wearing a diving mask and snorkel</td>\n",
       "      <td align=\"center\">a photo of a woman standing in a body of water wearing a diving mask and snorkel <mark>by a pond in a botanical garden</mark></td>\n",
       "      <td align=\"center\">background</td>\n",
       "      <td align=\"center\"><img src=\"/nethome/vprabhu9/code/LANCE/release/outputs/HardImageNet/snorkel/ILSVRC2012_val_00025074/by_a_pond_in_a_botanical_garden.jpeg\" width=\"512\" ></td>\n",
       "      <td align=\"center\"><style='text-align:center;'>silver salmon (46.37%)<br/>sturgeon (17.10%)<br/><font color='green'>snorkel</font> (11.80%)<br/>canoe (8.81%)<br/>lakeshore (4.94%)<br/></style></td>\n",
       "      <td align=\"center\">82.92</td>\n",
       "    </tr>\n",
       "  </tbody>\n",
       "</table>"
      ],
      "text/plain": [
       "<IPython.core.display.HTML object>"
      ]
     },
     "metadata": {},
     "output_type": "display_data"
    },
    {
     "data": {
      "text/markdown": [
       "## Cluster 4: Sensitivity=14.37%"
      ],
      "text/plain": [
       "<IPython.core.display.Markdown object>"
      ]
     },
     "metadata": {},
     "output_type": "display_data"
    },
    {
     "data": {
      "text/html": [
       "<table border=\"1\" class=\"dataframe\">\n",
       "  <thead>\n",
       "    <tr style=\"text-align: center;\">\n",
       "      <th style=\"text-align:center;\"></th>\n",
       "      <th style=\"text-align:center;\">Image</th>\n",
       "      <th style=\"text-align:center;\">Label</th>\n",
       "      <th style=\"text-align:center;\">Prediction</th>\n",
       "      <th style=\"text-align:center;\">Caption</th>\n",
       "      <th style=\"text-align:center;\">Edited Caption</th>\n",
       "      <th style=\"text-align:center;\">Edit Type</th>\n",
       "      <th style=\"text-align:center;\">LANCE</th>\n",
       "      <th style=\"text-align:center;\">LANCE prediction</th>\n",
       "      <th style=\"text-align:center;\">Sensitivity</th>\n",
       "    </tr>\n",
       "  </thead>\n",
       "  <tbody>\n",
       "    <tr>\n",
       "      <th style=\"text-align:center;\">1246</th>\n",
       "      <td align=\"center\"><img src=\"/nethome/vprabhu9/code/LANCE/release/outputs/HardImageNet/snorkel/ILSVRC2012_val_00035850/img.jpeg\" width=\"512\" ></td>\n",
       "      <td align=\"center\">snorkel</td>\n",
       "      <td align=\"center\"><style='text-align:center;'>bikini (47.56%)<br/>tights (12.51%)<br/>sunscreen (5.52%)<br/><font color='green'>snorkel</font> (4.20%)<br/>volleyball (4.19%)<br/></style></td>\n",
       "      <td align=\"center\">a photo of a woman in a bikini holding a camera next to a young boy wearing a visor</td>\n",
       "      <td align=\"center\">a photo of a woman in a bikini holding a camera next to a young boy wearing a visor <mark>next to a waterfall</mark></td>\n",
       "      <td align=\"center\">background</td>\n",
       "      <td align=\"center\"><img src=\"/nethome/vprabhu9/code/LANCE/release/outputs/HardImageNet/snorkel/ILSVRC2012_val_00035850/next_to_a_waterfall.jpeg\" width=\"512\" ></td>\n",
       "      <td align=\"center\"><style='text-align:center;'>bikini (52.71%)<br/>tights (19.38%)<br/><font color='green'>snorkel</font> (7.86%)<br/>paddle (3.34%)<br/>sunscreen (2.98%)<br/></style></td>\n",
       "      <td align=\"center\">3.66</td>\n",
       "    </tr>\n",
       "    <tr>\n",
       "      <th style=\"text-align:center;\">1233</th>\n",
       "      <td align=\"center\"><img src=\"/nethome/vprabhu9/code/LANCE/release/outputs/HardImageNet/snorkel/ILSVRC2012_val_00025074/img.jpeg\" width=\"512\" ></td>\n",
       "      <td align=\"center\">snorkel</td>\n",
       "      <td align=\"center\"><style='text-align:center;'><font color='green'>snorkel</font> (94.72%)<br/>neck brace (2.30%)<br/>scuba diver (1.66%)<br/>gas mask or respirator (0.50%)<br/>silver salmon (0.18%)<br/></style></td>\n",
       "      <td align=\"center\">a photo of a woman standing in a body of water wearing a diving mask and snorkel</td>\n",
       "      <td align=\"center\">a photo of a woman standing in a body of water wearing a diving mask and snorkel <mark>by a waterfall in the jungle</mark></td>\n",
       "      <td align=\"center\">background</td>\n",
       "      <td align=\"center\"><img src=\"/nethome/vprabhu9/code/LANCE/release/outputs/HardImageNet/snorkel/ILSVRC2012_val_00025074/by_a_waterfall_in_the_jungle.jpeg\" width=\"512\" ></td>\n",
       "      <td align=\"center\"><style='text-align:center;'><font color='green'>snorkel</font> (69.66%)<br/>gas mask or respirator (11.56%)<br/>scuba diver (7.81%)<br/>oxygen mask (3.11%)<br/>sandbar (1.09%)<br/></style></td>\n",
       "      <td align=\"center\">25.07</td>\n",
       "    </tr>\n",
       "  </tbody>\n",
       "</table>"
      ],
      "text/plain": [
       "<IPython.core.display.HTML object>"
      ]
     },
     "metadata": {},
     "output_type": "display_data"
    },
    {
     "data": {
      "text/markdown": [
       "## Cluster 3: Sensitivity=6.13%"
      ],
      "text/plain": [
       "<IPython.core.display.Markdown object>"
      ]
     },
     "metadata": {},
     "output_type": "display_data"
    },
    {
     "data": {
      "text/html": [
       "<table border=\"1\" class=\"dataframe\">\n",
       "  <thead>\n",
       "    <tr style=\"text-align: center;\">\n",
       "      <th style=\"text-align:center;\"></th>\n",
       "      <th style=\"text-align:center;\">Image</th>\n",
       "      <th style=\"text-align:center;\">Label</th>\n",
       "      <th style=\"text-align:center;\">Prediction</th>\n",
       "      <th style=\"text-align:center;\">Caption</th>\n",
       "      <th style=\"text-align:center;\">Edited Caption</th>\n",
       "      <th style=\"text-align:center;\">Edit Type</th>\n",
       "      <th style=\"text-align:center;\">LANCE</th>\n",
       "      <th style=\"text-align:center;\">LANCE prediction</th>\n",
       "      <th style=\"text-align:center;\">Sensitivity</th>\n",
       "    </tr>\n",
       "  </thead>\n",
       "  <tbody>\n",
       "    <tr>\n",
       "      <th style=\"text-align:center;\">1240</th>\n",
       "      <td align=\"center\"><img src=\"/nethome/vprabhu9/code/LANCE/release/outputs/HardImageNet/snorkel/ILSVRC2012_val_00035850/img.jpeg\" width=\"512\" ></td>\n",
       "      <td align=\"center\">snorkel</td>\n",
       "      <td align=\"center\"><style='text-align:center;'>bikini (47.56%)<br/>tights (12.51%)<br/>sunscreen (5.52%)<br/><font color='green'>snorkel</font> (4.20%)<br/>volleyball (4.19%)<br/></style></td>\n",
       "      <td align=\"center\">a photo of a woman in a bikini holding a camera next to a young boy wearing a visor</td>\n",
       "      <td align=\"center\">a photo of a woman in a bikini holding a camera next to a young boy wearing a visor <mark>in a rainy day</mark></td>\n",
       "      <td align=\"center\">weather</td>\n",
       "      <td align=\"center\"><img src=\"/nethome/vprabhu9/code/LANCE/release/outputs/HardImageNet/snorkel/ILSVRC2012_val_00035850/in_a_rainy_day.jpeg\" width=\"512\" ></td>\n",
       "      <td align=\"center\"><style='text-align:center;'>bikini (10.82%)<br/>tights (10.19%)<br/>gas mask or respirator (9.15%)<br/><font color='green'>snorkel</font> (7.60%)<br/>fishing casting reel (4.57%)<br/></style></td>\n",
       "      <td align=\"center\">3.40</td>\n",
       "    </tr>\n",
       "    <tr>\n",
       "      <th style=\"text-align:center;\">1241</th>\n",
       "      <td align=\"center\"><img src=\"/nethome/vprabhu9/code/LANCE/release/outputs/HardImageNet/snorkel/ILSVRC2012_val_00035850/img.jpeg\" width=\"512\" ></td>\n",
       "      <td align=\"center\">snorkel</td>\n",
       "      <td align=\"center\"><style='text-align:center;'>bikini (47.56%)<br/>tights (12.51%)<br/>sunscreen (5.52%)<br/><font color='green'>snorkel</font> (4.20%)<br/>volleyball (4.19%)<br/></style></td>\n",
       "      <td align=\"center\">a photo of a woman in a bikini holding a camera next to a young boy wearing a visor</td>\n",
       "      <td align=\"center\">a photo of a woman in a bikini holding a camera next to a young boy wearing a visor <mark>in a snowy day</mark></td>\n",
       "      <td align=\"center\">weather</td>\n",
       "      <td align=\"center\"><img src=\"/nethome/vprabhu9/code/LANCE/release/outputs/HardImageNet/snorkel/ILSVRC2012_val_00035850/in_a_snowy_day.jpeg\" width=\"512\" ></td>\n",
       "      <td align=\"center\"><style='text-align:center;'>bikini (31.81%)<br/>paddle (17.79%)<br/>ski (5.91%)<br/>tights (5.43%)<br/>canoe (3.87%)<br/></style></td>\n",
       "      <td align=\"center\">4.20</td>\n",
       "    </tr>\n",
       "    <tr>\n",
       "      <th style=\"text-align:center;\">1242</th>\n",
       "      <td align=\"center\"><img src=\"/nethome/vprabhu9/code/LANCE/release/outputs/HardImageNet/snorkel/ILSVRC2012_val_00035850/img.jpeg\" width=\"512\" ></td>\n",
       "      <td align=\"center\">snorkel</td>\n",
       "      <td align=\"center\"><style='text-align:center;'>bikini (47.56%)<br/>tights (12.51%)<br/>sunscreen (5.52%)<br/><font color='green'>snorkel</font> (4.20%)<br/>volleyball (4.19%)<br/></style></td>\n",
       "      <td align=\"center\">a photo of a woman in a bikini holding a camera next to a young boy wearing a visor</td>\n",
       "      <td align=\"center\">a photo of a woman in a bikini holding a camera next to a young boy wearing a visor <mark>in a foggy day</mark></td>\n",
       "      <td align=\"center\">weather</td>\n",
       "      <td align=\"center\"><img src=\"/nethome/vprabhu9/code/LANCE/release/outputs/HardImageNet/snorkel/ILSVRC2012_val_00035850/in_a_foggy_day.jpeg\" width=\"512\" ></td>\n",
       "      <td align=\"center\"><style='text-align:center;'>bikini (21.02%)<br/>tights (17.27%)<br/><font color='green'>snorkel</font> (7.58%)<br/>sunscreen (4.34%)<br/>sunglass (3.06%)<br/></style></td>\n",
       "      <td align=\"center\">3.38</td>\n",
       "    </tr>\n",
       "    <tr>\n",
       "      <th style=\"text-align:center;\">1250</th>\n",
       "      <td align=\"center\"><img src=\"/nethome/vprabhu9/code/LANCE/release/outputs/HardImageNet/snorkel/ILSVRC2012_val_00033212/img.jpeg\" width=\"512\" ></td>\n",
       "      <td align=\"center\">snorkel</td>\n",
       "      <td align=\"center\"><style='text-align:center;'><font color='green'>snorkel</font> (99.94%)<br/>scuba diver (0.03%)<br/>loggerhead sea turtle (0.01%)<br/>stingray (0.00%)<br/>swimming cap (0.00%)<br/></style></td>\n",
       "      <td align=\"center\">a photo of a woman swimming in the ocean with a snorkel mask on her head</td>\n",
       "      <td align=\"center\">a photo of a woman swimming in the ocean <mark>during a fog bank</mark> with a snorkel mask on her head</td>\n",
       "      <td align=\"center\">weather</td>\n",
       "      <td align=\"center\"><img src=\"/nethome/vprabhu9/code/LANCE/release/outputs/HardImageNet/snorkel/ILSVRC2012_val_00033212/during_a_fog_bank.jpeg\" width=\"512\" ></td>\n",
       "      <td align=\"center\"><style='text-align:center;'><font color='green'>snorkel</font> (86.38%)<br/>swimming cap (12.91%)<br/>one-piece bathing suit (0.22%)<br/>stingray (0.15%)<br/>scuba diver (0.14%)<br/></style></td>\n",
       "      <td align=\"center\">13.56</td>\n",
       "    </tr>\n",
       "  </tbody>\n",
       "</table>"
      ],
      "text/plain": [
       "<IPython.core.display.HTML object>"
      ]
     },
     "metadata": {},
     "output_type": "display_data"
    },
    {
     "name": "stdout",
     "output_type": "stream",
     "text": [
      "\n",
      "\n",
      "\n",
      "\n"
     ]
    },
    {
     "data": {
      "text/markdown": [
       "# Class: sunglasses"
      ],
      "text/plain": [
       "<IPython.core.display.Markdown object>"
      ]
     },
     "metadata": {},
     "output_type": "display_data"
    },
    {
     "data": {
      "text/markdown": [
       "## Cluster 4: Sensitivity=18.91%"
      ],
      "text/plain": [
       "<IPython.core.display.Markdown object>"
      ]
     },
     "metadata": {},
     "output_type": "display_data"
    },
    {
     "data": {
      "text/html": [
       "<table border=\"1\" class=\"dataframe\">\n",
       "  <thead>\n",
       "    <tr style=\"text-align: center;\">\n",
       "      <th style=\"text-align:center;\"></th>\n",
       "      <th style=\"text-align:center;\">Image</th>\n",
       "      <th style=\"text-align:center;\">Label</th>\n",
       "      <th style=\"text-align:center;\">Prediction</th>\n",
       "      <th style=\"text-align:center;\">Caption</th>\n",
       "      <th style=\"text-align:center;\">Edited Caption</th>\n",
       "      <th style=\"text-align:center;\">Edit Type</th>\n",
       "      <th style=\"text-align:center;\">LANCE</th>\n",
       "      <th style=\"text-align:center;\">LANCE prediction</th>\n",
       "      <th style=\"text-align:center;\">Sensitivity</th>\n",
       "    </tr>\n",
       "  </thead>\n",
       "  <tbody>\n",
       "    <tr>\n",
       "      <th style=\"text-align:center;\">1259</th>\n",
       "      <td align=\"center\"><img src=\"/nethome/vprabhu9/code/LANCE/release/outputs/HardImageNet/sunglasses/ILSVRC2012_val_00030251/img.jpeg\" width=\"512\" ></td>\n",
       "      <td align=\"center\">sunglasses</td>\n",
       "      <td align=\"center\"><style='text-align:center;'><font color='green'>sunglasses</font> (70.20%)<br/>sunglass (26.04%)<br/>seat belt (0.48%)<br/>binoculars (0.20%)<br/>stage (0.18%)<br/></style></td>\n",
       "      <td align=\"center\">a photo of a man wearing sunglasses and headphones standing in front of a tall building with a sign on it</td>\n",
       "      <td align=\"center\">a photo of a man wearing sunglasses and headphones standing in front of a tall building with a sign on it <mark>under a rainbow</mark></td>\n",
       "      <td align=\"center\">weather</td>\n",
       "      <td align=\"center\"><img src=\"/nethome/vprabhu9/code/LANCE/release/outputs/HardImageNet/sunglasses/ILSVRC2012_val_00030251/under_a_rainbow.jpeg\" width=\"512\" ></td>\n",
       "      <td align=\"center\"><style='text-align:center;'><font color='green'>sunglasses</font> (63.33%)<br/>sunglass (29.62%)<br/>binoculars (3.70%)<br/>bubble (0.55%)<br/>seat belt (0.37%)<br/></style></td>\n",
       "      <td align=\"center\">6.87</td>\n",
       "    </tr>\n",
       "    <tr>\n",
       "      <th style=\"text-align:center;\">1261</th>\n",
       "      <td align=\"center\"><img src=\"/nethome/vprabhu9/code/LANCE/release/outputs/HardImageNet/sunglasses/ILSVRC2012_val_00030251/img.jpeg\" width=\"512\" ></td>\n",
       "      <td align=\"center\">sunglasses</td>\n",
       "      <td align=\"center\"><style='text-align:center;'><font color='green'>sunglasses</font> (70.20%)<br/>sunglass (26.04%)<br/>seat belt (0.48%)<br/>binoculars (0.20%)<br/>stage (0.18%)<br/></style></td>\n",
       "      <td align=\"center\">a photo of a man wearing sunglasses and headphones standing in front of a tall building with a sign on it</td>\n",
       "      <td align=\"center\">a photo of a man <mark>and woman</mark> wearing sunglasses and headphones standing in front of a tall building with a sign on it</td>\n",
       "      <td align=\"center\">subject</td>\n",
       "      <td align=\"center\"><img src=\"/nethome/vprabhu9/code/LANCE/release/outputs/HardImageNet/sunglasses/ILSVRC2012_val_00030251/and_woman.jpeg\" width=\"512\" ></td>\n",
       "      <td align=\"center\"><style='text-align:center;'><font color='green'>sunglasses</font> (74.72%)<br/>sunglass (20.53%)<br/>tram (1.04%)<br/>ski (0.70%)<br/>seat belt (0.27%)<br/></style></td>\n",
       "      <td align=\"center\">4.51</td>\n",
       "    </tr>\n",
       "    <tr>\n",
       "      <th style=\"text-align:center;\">1265</th>\n",
       "      <td align=\"center\"><img src=\"/nethome/vprabhu9/code/LANCE/release/outputs/HardImageNet/sunglasses/ILSVRC2012_val_00025907/img.jpeg\" width=\"512\" ></td>\n",
       "      <td align=\"center\">sunglasses</td>\n",
       "      <td align=\"center\"><style='text-align:center;'><font color='green'>sunglasses</font> (75.33%)<br/>sunglass (13.95%)<br/>seat belt (4.69%)<br/>hair wig (0.46%)<br/>toy store (0.24%)<br/></style></td>\n",
       "      <td align=\"center\">a photo of two women wearing sunglasses sitting on a bench in front of a store window</td>\n",
       "      <td align=\"center\">a photo of two women wearing sunglasses sitting on a bench in front of a store window <mark>in a museum district</mark></td>\n",
       "      <td align=\"center\">background</td>\n",
       "      <td align=\"center\"><img src=\"/nethome/vprabhu9/code/LANCE/release/outputs/HardImageNet/sunglasses/ILSVRC2012_val_00025907/in_a_museum_district.jpeg\" width=\"512\" ></td>\n",
       "      <td align=\"center\"><style='text-align:center;'><font color='green'>sunglasses</font> (77.10%)<br/>sunglass (20.91%)<br/>seat belt (1.62%)<br/>hair wig (0.03%)<br/>sunscreen (0.03%)<br/></style></td>\n",
       "      <td align=\"center\">1.77</td>\n",
       "    </tr>\n",
       "    <tr>\n",
       "      <th style=\"text-align:center;\">1266</th>\n",
       "      <td align=\"center\"><img src=\"/nethome/vprabhu9/code/LANCE/release/outputs/HardImageNet/sunglasses/ILSVRC2012_val_00025907/img.jpeg\" width=\"512\" ></td>\n",
       "      <td align=\"center\">sunglasses</td>\n",
       "      <td align=\"center\"><style='text-align:center;'><font color='green'>sunglasses</font> (75.33%)<br/>sunglass (13.95%)<br/>seat belt (4.69%)<br/>hair wig (0.46%)<br/>toy store (0.24%)<br/></style></td>\n",
       "      <td align=\"center\">a photo of two women wearing sunglasses sitting on a bench in front of a store window</td>\n",
       "      <td align=\"center\">a photo of two women wearing sunglasses sitting on a bench in front of a store window <mark>in a forest</mark></td>\n",
       "      <td align=\"center\">background</td>\n",
       "      <td align=\"center\"><img src=\"/nethome/vprabhu9/code/LANCE/release/outputs/HardImageNet/sunglasses/ILSVRC2012_val_00025907/in_a_forest.jpeg\" width=\"512\" ></td>\n",
       "      <td align=\"center\"><style='text-align:center;'><font color='green'>sunglasses</font> (73.68%)<br/>sunglass (24.73%)<br/>seat belt (0.97%)<br/>hair wig (0.10%)<br/>sunscreen (0.03%)<br/></style></td>\n",
       "      <td align=\"center\">1.64</td>\n",
       "    </tr>\n",
       "    <tr>\n",
       "      <th style=\"text-align:center;\">1267</th>\n",
       "      <td align=\"center\"><img src=\"/nethome/vprabhu9/code/LANCE/release/outputs/HardImageNet/sunglasses/ILSVRC2012_val_00025907/img.jpeg\" width=\"512\" ></td>\n",
       "      <td align=\"center\">sunglasses</td>\n",
       "      <td align=\"center\"><style='text-align:center;'><font color='green'>sunglasses</font> (75.33%)<br/>sunglass (13.95%)<br/>seat belt (4.69%)<br/>hair wig (0.46%)<br/>toy store (0.24%)<br/></style></td>\n",
       "      <td align=\"center\">a photo of two women wearing sunglasses sitting on a bench in front of a store window</td>\n",
       "      <td align=\"center\">a photo of two women wearing sunglasses sitting on a bench in front of a store window <mark>in a park</mark></td>\n",
       "      <td align=\"center\">background</td>\n",
       "      <td align=\"center\"><img src=\"/nethome/vprabhu9/code/LANCE/release/outputs/HardImageNet/sunglasses/ILSVRC2012_val_00025907/in_a_park.jpeg\" width=\"512\" ></td>\n",
       "      <td align=\"center\"><style='text-align:center;'><font color='green'>sunglasses</font> (78.02%)<br/>sunglass (19.79%)<br/>seat belt (1.84%)<br/>sunscreen (0.03%)<br/>hair wig (0.03%)<br/></style></td>\n",
       "      <td align=\"center\">2.69</td>\n",
       "    </tr>\n",
       "  </tbody>\n",
       "</table>"
      ],
      "text/plain": [
       "<IPython.core.display.HTML object>"
      ]
     },
     "metadata": {},
     "output_type": "display_data"
    },
    {
     "data": {
      "text/markdown": [
       "## Cluster 3: Sensitivity=16.48%"
      ],
      "text/plain": [
       "<IPython.core.display.Markdown object>"
      ]
     },
     "metadata": {},
     "output_type": "display_data"
    },
    {
     "data": {
      "text/html": [
       "<table border=\"1\" class=\"dataframe\">\n",
       "  <thead>\n",
       "    <tr style=\"text-align: center;\">\n",
       "      <th style=\"text-align:center;\"></th>\n",
       "      <th style=\"text-align:center;\">Image</th>\n",
       "      <th style=\"text-align:center;\">Label</th>\n",
       "      <th style=\"text-align:center;\">Prediction</th>\n",
       "      <th style=\"text-align:center;\">Caption</th>\n",
       "      <th style=\"text-align:center;\">Edited Caption</th>\n",
       "      <th style=\"text-align:center;\">Edit Type</th>\n",
       "      <th style=\"text-align:center;\">LANCE</th>\n",
       "      <th style=\"text-align:center;\">LANCE prediction</th>\n",
       "      <th style=\"text-align:center;\">Sensitivity</th>\n",
       "    </tr>\n",
       "  </thead>\n",
       "  <tbody>\n",
       "    <tr>\n",
       "      <th style=\"text-align:center;\">1302</th>\n",
       "      <td align=\"center\"><img src=\"/nethome/vprabhu9/code/LANCE/release/outputs/HardImageNet/sunglasses/ILSVRC2012_val_00048182/img.jpeg\" width=\"512\" ></td>\n",
       "      <td align=\"center\">sunglasses</td>\n",
       "      <td align=\"center\"><style='text-align:center;'><font color='green'>sunglasses</font> (50.31%)<br/>sunglass (36.07%)<br/>jeans (2.38%)<br/>sweatshirt (0.61%)<br/>t-shirt (0.54%)<br/></style></td>\n",
       "      <td align=\"center\">a photo of a man and a woman wearing sunglasses standing next to each other with a cell phone in their hand</td>\n",
       "      <td align=\"center\">a photo of a man and a woman wearing sunglasses standing next to each other with a cell phone in their hand <mark>on a rainy day</mark></td>\n",
       "      <td align=\"center\">weather</td>\n",
       "      <td align=\"center\"><img src=\"/nethome/vprabhu9/code/LANCE/release/outputs/HardImageNet/sunglasses/ILSVRC2012_val_00048182/on_a_rainy_day.jpeg\" width=\"512\" ></td>\n",
       "      <td align=\"center\"><style='text-align:center;'><font color='green'>sunglasses</font> (42.85%)<br/>sunglass (30.49%)<br/>jeans (2.10%)<br/>sweatshirt (1.74%)<br/>trench coat (1.23%)<br/></style></td>\n",
       "      <td align=\"center\">7.46</td>\n",
       "    </tr>\n",
       "    <tr>\n",
       "      <th style=\"text-align:center;\">1269</th>\n",
       "      <td align=\"center\"><img src=\"/nethome/vprabhu9/code/LANCE/release/outputs/HardImageNet/sunglasses/ILSVRC2012_val_00042753/img.jpeg\" width=\"512\" ></td>\n",
       "      <td align=\"center\">sunglasses</td>\n",
       "      <td align=\"center\"><style='text-align:center;'>harmonica (81.07%)<br/><font color='green'>sunglasses</font> (8.34%)<br/>sunglass (3.38%)<br/>pajamas (1.66%)<br/>bow tie (0.90%)<br/></style></td>\n",
       "      <td align=\"center\">a photo of a woman in a plaid jacket and sunglasses making a hush sign with her finger on her lips</td>\n",
       "      <td align=\"center\">a photo of a woman in a plaid jacket and sunglasses making a hush sign with her finger on her lips <mark>in a rainy day</mark></td>\n",
       "      <td align=\"center\">weather</td>\n",
       "      <td align=\"center\"><img src=\"/nethome/vprabhu9/code/LANCE/release/outputs/HardImageNet/sunglasses/ILSVRC2012_val_00042753/in_a_rainy_day.jpeg\" width=\"512\" ></td>\n",
       "      <td align=\"center\"><style='text-align:center;'><font color='green'>sunglasses</font> (48.21%)<br/>sunglass (30.55%)<br/>harmonica (6.82%)<br/>hair wig (2.45%)<br/>poke bonnet (1.16%)<br/></style></td>\n",
       "      <td align=\"center\">39.87</td>\n",
       "    </tr>\n",
       "    <tr>\n",
       "      <th style=\"text-align:center;\">1272</th>\n",
       "      <td align=\"center\"><img src=\"/nethome/vprabhu9/code/LANCE/release/outputs/HardImageNet/sunglasses/ILSVRC2012_val_00032562/img.jpeg\" width=\"512\" ></td>\n",
       "      <td align=\"center\">sunglasses</td>\n",
       "      <td align=\"center\"><style='text-align:center;'>sleeping bag (9.24%)<br/>maypole (8.60%)<br/>sunglass (5.69%)<br/><font color='green'>sunglasses</font> (4.92%)<br/>neck brace (3.70%)<br/></style></td>\n",
       "      <td align=\"center\">a photo of a group of people wearing sunglasses sitting on top of a lush green field next to each other</td>\n",
       "      <td align=\"center\">a photo of a group of people wearing sunglasses sitting on top of a lush green field next to each other <mark>in the rain</mark></td>\n",
       "      <td align=\"center\">weather</td>\n",
       "      <td align=\"center\"><img src=\"/nethome/vprabhu9/code/LANCE/release/outputs/HardImageNet/sunglasses/ILSVRC2012_val_00032562/in_the_rain.jpeg\" width=\"512\" ></td>\n",
       "      <td align=\"center\"><style='text-align:center;'>swing (7.43%)<br/>greenhouse (7.32%)<br/>neck brace (7.27%)<br/>balaclava ski mask (5.70%)<br/>parachute (4.38%)<br/></style></td>\n",
       "      <td align=\"center\">4.92</td>\n",
       "    </tr>\n",
       "    <tr>\n",
       "      <th style=\"text-align:center;\">1262</th>\n",
       "      <td align=\"center\"><img src=\"/nethome/vprabhu9/code/LANCE/release/outputs/HardImageNet/sunglasses/ILSVRC2012_val_00025907/img.jpeg\" width=\"512\" ></td>\n",
       "      <td align=\"center\">sunglasses</td>\n",
       "      <td align=\"center\"><style='text-align:center;'><font color='green'>sunglasses</font> (75.33%)<br/>sunglass (13.95%)<br/>seat belt (4.69%)<br/>hair wig (0.46%)<br/>toy store (0.24%)<br/></style></td>\n",
       "      <td align=\"center\">a photo of two women wearing sunglasses sitting on a bench in front of a store window</td>\n",
       "      <td align=\"center\">a photo of two women wearing sunglasses sitting on a bench in front of a store window <mark>on a rainy day</mark></td>\n",
       "      <td align=\"center\">weather</td>\n",
       "      <td align=\"center\"><img src=\"/nethome/vprabhu9/code/LANCE/release/outputs/HardImageNet/sunglasses/ILSVRC2012_val_00025907/on_a_rainy_day.jpeg\" width=\"512\" ></td>\n",
       "      <td align=\"center\"><style='text-align:center;'><font color='green'>sunglasses</font> (69.57%)<br/>sunglass (29.20%)<br/>seat belt (0.32%)<br/>snorkel (0.14%)<br/>sunscreen (0.05%)<br/></style></td>\n",
       "      <td align=\"center\">5.76</td>\n",
       "    </tr>\n",
       "    <tr>\n",
       "      <th style=\"text-align:center;\">1299</th>\n",
       "      <td align=\"center\"><img src=\"/nethome/vprabhu9/code/LANCE/release/outputs/HardImageNet/sunglasses/ILSVRC2012_val_00023605/img.jpeg\" width=\"512\" ></td>\n",
       "      <td align=\"center\">sunglasses</td>\n",
       "      <td align=\"center\"><style='text-align:center;'><font color='green'>sunglasses</font> (25.80%)<br/>sunglass (20.88%)<br/>tricycle (18.80%)<br/>popsicle (7.10%)<br/>wheelbarrow (3.61%)<br/></style></td>\n",
       "      <td align=\"center\">a photo of a little girl wearing sunglasses sitting on the ground with a kite in her hand and a book in her hand</td>\n",
       "      <td align=\"center\">a photo of a little girl wearing sunglasses sitting on the ground with a kite in her hand and a book in her hand <mark>on a rainy day</mark></td>\n",
       "      <td align=\"center\">weather</td>\n",
       "      <td align=\"center\"><img src=\"/nethome/vprabhu9/code/LANCE/release/outputs/HardImageNet/sunglasses/ILSVRC2012_val_00023605/on_a_rainy_day.jpeg\" width=\"512\" ></td>\n",
       "      <td align=\"center\"><style='text-align:center;'>bucket (44.82%)<br/><font color='green'>sunglasses</font> (15.40%)<br/>bubble (4.51%)<br/>sunglass (4.07%)<br/>tricycle (3.03%)<br/></style></td>\n",
       "      <td align=\"center\">10.39</td>\n",
       "    </tr>\n",
       "  </tbody>\n",
       "</table>"
      ],
      "text/plain": [
       "<IPython.core.display.HTML object>"
      ]
     },
     "metadata": {},
     "output_type": "display_data"
    },
    {
     "data": {
      "text/markdown": [
       "## Cluster 1: Sensitivity=16.25%"
      ],
      "text/plain": [
       "<IPython.core.display.Markdown object>"
      ]
     },
     "metadata": {},
     "output_type": "display_data"
    },
    {
     "data": {
      "text/html": [
       "<table border=\"1\" class=\"dataframe\">\n",
       "  <thead>\n",
       "    <tr style=\"text-align: center;\">\n",
       "      <th style=\"text-align:center;\"></th>\n",
       "      <th style=\"text-align:center;\">Image</th>\n",
       "      <th style=\"text-align:center;\">Label</th>\n",
       "      <th style=\"text-align:center;\">Prediction</th>\n",
       "      <th style=\"text-align:center;\">Caption</th>\n",
       "      <th style=\"text-align:center;\">Edited Caption</th>\n",
       "      <th style=\"text-align:center;\">Edit Type</th>\n",
       "      <th style=\"text-align:center;\">LANCE</th>\n",
       "      <th style=\"text-align:center;\">LANCE prediction</th>\n",
       "      <th style=\"text-align:center;\">Sensitivity</th>\n",
       "    </tr>\n",
       "  </thead>\n",
       "  <tbody>\n",
       "    <tr>\n",
       "      <th style=\"text-align:center;\">1273</th>\n",
       "      <td align=\"center\"><img src=\"/nethome/vprabhu9/code/LANCE/release/outputs/HardImageNet/sunglasses/ILSVRC2012_val_00032562/img.jpeg\" width=\"512\" ></td>\n",
       "      <td align=\"center\">sunglasses</td>\n",
       "      <td align=\"center\"><style='text-align:center;'>sleeping bag (9.24%)<br/>maypole (8.60%)<br/>sunglass (5.69%)<br/><font color='green'>sunglasses</font> (4.92%)<br/>neck brace (3.70%)<br/></style></td>\n",
       "      <td align=\"center\">a photo of a group of people wearing sunglasses sitting on top of a lush green field next to each other</td>\n",
       "      <td align=\"center\">a photo of a group of people wearing sunglasses sitting on top of a lush green field next to each other <mark>in the snow</mark></td>\n",
       "      <td align=\"center\">weather</td>\n",
       "      <td align=\"center\"><img src=\"/nethome/vprabhu9/code/LANCE/release/outputs/HardImageNet/sunglasses/ILSVRC2012_val_00032562/in_the_snow.jpeg\" width=\"512\" ></td>\n",
       "      <td align=\"center\"><style='text-align:center;'>balaclava ski mask (40.71%)<br/>ski (5.67%)<br/><font color='green'>sunglasses</font> (4.29%)<br/>english setter (3.95%)<br/>mountain (3.88%)<br/></style></td>\n",
       "      <td align=\"center\">0.64</td>\n",
       "    </tr>\n",
       "    <tr>\n",
       "      <th style=\"text-align:center;\">1260</th>\n",
       "      <td align=\"center\"><img src=\"/nethome/vprabhu9/code/LANCE/release/outputs/HardImageNet/sunglasses/ILSVRC2012_val_00030251/img.jpeg\" width=\"512\" ></td>\n",
       "      <td align=\"center\">sunglasses</td>\n",
       "      <td align=\"center\"><style='text-align:center;'><font color='green'>sunglasses</font> (70.20%)<br/>sunglass (26.04%)<br/>seat belt (0.48%)<br/>binoculars (0.20%)<br/>stage (0.18%)<br/></style></td>\n",
       "      <td align=\"center\">a photo of a man wearing sunglasses and headphones standing in front of a tall building with a sign on it</td>\n",
       "      <td align=\"center\">a photo of a man wearing sunglasses and headphones standing in front of a tall building with a sign on it <mark>in a snowstorm</mark></td>\n",
       "      <td align=\"center\">weather</td>\n",
       "      <td align=\"center\"><img src=\"/nethome/vprabhu9/code/LANCE/release/outputs/HardImageNet/sunglasses/ILSVRC2012_val_00030251/in_a_snowstorm.jpeg\" width=\"512\" ></td>\n",
       "      <td align=\"center\"><style='text-align:center;'><font color='green'>sunglasses</font> (56.49%)<br/>sunglass (27.53%)<br/>binoculars (4.26%)<br/>car mirror (2.59%)<br/>seat belt (1.64%)<br/></style></td>\n",
       "      <td align=\"center\">13.71</td>\n",
       "    </tr>\n",
       "    <tr>\n",
       "      <th style=\"text-align:center;\">1263</th>\n",
       "      <td align=\"center\"><img src=\"/nethome/vprabhu9/code/LANCE/release/outputs/HardImageNet/sunglasses/ILSVRC2012_val_00025907/img.jpeg\" width=\"512\" ></td>\n",
       "      <td align=\"center\">sunglasses</td>\n",
       "      <td align=\"center\"><style='text-align:center;'><font color='green'>sunglasses</font> (75.33%)<br/>sunglass (13.95%)<br/>seat belt (4.69%)<br/>hair wig (0.46%)<br/>toy store (0.24%)<br/></style></td>\n",
       "      <td align=\"center\">a photo of two women wearing sunglasses sitting on a bench in front of a store window</td>\n",
       "      <td align=\"center\">a photo of two women wearing sunglasses sitting on a bench in front of a store window <mark>on a snowy day</mark></td>\n",
       "      <td align=\"center\">weather</td>\n",
       "      <td align=\"center\"><img src=\"/nethome/vprabhu9/code/LANCE/release/outputs/HardImageNet/sunglasses/ILSVRC2012_val_00025907/on_a_snowy_day.jpeg\" width=\"512\" ></td>\n",
       "      <td align=\"center\"><style='text-align:center;'><font color='green'>sunglasses</font> (83.84%)<br/>sunglass (16.00%)<br/>seat belt (0.12%)<br/>hair wig (0.01%)<br/>sunscreen (0.00%)<br/></style></td>\n",
       "      <td align=\"center\">8.52</td>\n",
       "    </tr>\n",
       "    <tr>\n",
       "      <th style=\"text-align:center;\">1281</th>\n",
       "      <td align=\"center\"><img src=\"/nethome/vprabhu9/code/LANCE/release/outputs/HardImageNet/sunglasses/ILSVRC2012_val_00023501/img.jpeg\" width=\"512\" ></td>\n",
       "      <td align=\"center\">sunglasses</td>\n",
       "      <td align=\"center\"><style='text-align:center;'>sunglass (55.43%)<br/><font color='green'>sunglasses</font> (44.57%)<br/>car mirror (0.00%)<br/>loupe magnifying glass (0.00%)<br/>petri dish (0.00%)<br/></style></td>\n",
       "      <td align=\"center\">a photo of a woman taking a picture of herself in a pair of sunglasses with her reflection in the lens</td>\n",
       "      <td align=\"center\">a photo of a woman taking a picture of herself in a pair of sunglasses with her reflection in the lens <mark>on a snowy day</mark></td>\n",
       "      <td align=\"center\">weather</td>\n",
       "      <td align=\"center\"><img src=\"/nethome/vprabhu9/code/LANCE/release/outputs/HardImageNet/sunglasses/ILSVRC2012_val_00023501/on_a_snowy_day.jpeg\" width=\"512\" ></td>\n",
       "      <td align=\"center\"><style='text-align:center;'><font color='green'>sunglasses</font> (60.01%)<br/>sunglass (39.82%)<br/>petri dish (0.04%)<br/>face powder (0.03%)<br/>loupe magnifying glass (0.02%)<br/></style></td>\n",
       "      <td align=\"center\">15.44</td>\n",
       "    </tr>\n",
       "    <tr>\n",
       "      <th style=\"text-align:center;\">1282</th>\n",
       "      <td align=\"center\"><img src=\"/nethome/vprabhu9/code/LANCE/release/outputs/HardImageNet/sunglasses/ILSVRC2012_val_00023501/img.jpeg\" width=\"512\" ></td>\n",
       "      <td align=\"center\">sunglasses</td>\n",
       "      <td align=\"center\"><style='text-align:center;'>sunglass (55.43%)<br/><font color='green'>sunglasses</font> (44.57%)<br/>car mirror (0.00%)<br/>loupe magnifying glass (0.00%)<br/>petri dish (0.00%)<br/></style></td>\n",
       "      <td align=\"center\">a photo of a woman taking a picture of herself in a pair of sunglasses with her reflection in the lens</td>\n",
       "      <td align=\"center\">a photo of a woman taking a picture of herself in a pair of sunglasses with her reflection in the lens <mark>on a cold day</mark></td>\n",
       "      <td align=\"center\">weather</td>\n",
       "      <td align=\"center\"><img src=\"/nethome/vprabhu9/code/LANCE/release/outputs/HardImageNet/sunglasses/ILSVRC2012_val_00023501/on_a_cold_day.jpeg\" width=\"512\" ></td>\n",
       "      <td align=\"center\"><style='text-align:center;'><font color='green'>sunglasses</font> (61.38%)<br/>sunglass (38.61%)<br/>car mirror (0.00%)<br/>loupe magnifying glass (0.00%)<br/>petri dish (0.00%)<br/></style></td>\n",
       "      <td align=\"center\">16.81</td>\n",
       "    </tr>\n",
       "  </tbody>\n",
       "</table>"
      ],
      "text/plain": [
       "<IPython.core.display.HTML object>"
      ]
     },
     "metadata": {},
     "output_type": "display_data"
    },
    {
     "name": "stdout",
     "output_type": "stream",
     "text": [
      "\n",
      "\n",
      "\n",
      "\n"
     ]
    },
    {
     "data": {
      "text/markdown": [
       "# Class: swimming cap"
      ],
      "text/plain": [
       "<IPython.core.display.Markdown object>"
      ]
     },
     "metadata": {},
     "output_type": "display_data"
    },
    {
     "data": {
      "text/markdown": [
       "## Cluster 3: Sensitivity=24.68%"
      ],
      "text/plain": [
       "<IPython.core.display.Markdown object>"
      ]
     },
     "metadata": {},
     "output_type": "display_data"
    },
    {
     "data": {
      "text/html": [
       "<table border=\"1\" class=\"dataframe\">\n",
       "  <thead>\n",
       "    <tr style=\"text-align: center;\">\n",
       "      <th style=\"text-align:center;\"></th>\n",
       "      <th style=\"text-align:center;\">Image</th>\n",
       "      <th style=\"text-align:center;\">Label</th>\n",
       "      <th style=\"text-align:center;\">Prediction</th>\n",
       "      <th style=\"text-align:center;\">Caption</th>\n",
       "      <th style=\"text-align:center;\">Edited Caption</th>\n",
       "      <th style=\"text-align:center;\">Edit Type</th>\n",
       "      <th style=\"text-align:center;\">LANCE</th>\n",
       "      <th style=\"text-align:center;\">LANCE prediction</th>\n",
       "      <th style=\"text-align:center;\">Sensitivity</th>\n",
       "    </tr>\n",
       "  </thead>\n",
       "  <tbody>\n",
       "    <tr>\n",
       "      <th style=\"text-align:center;\">1412</th>\n",
       "      <td align=\"center\"><img src=\"/nethome/vprabhu9/code/LANCE/release/outputs/HardImageNet/swimming cap/ILSVRC2012_val_00016691/img.jpeg\" width=\"512\" ></td>\n",
       "      <td align=\"center\">swimming cap</td>\n",
       "      <td align=\"center\"><style='text-align:center;'><font color='green'>swimming cap</font> (98.01%)<br/>swim trunks / shorts (0.80%)<br/>bikini (0.34%)<br/>tights (0.16%)<br/>shower cap (0.15%)<br/></style></td>\n",
       "      <td align=\"center\">a photo of a couple of people swimming in a body of water with one person wearing a pink swimming cap</td>\n",
       "      <td align=\"center\">a photo of a couple of people swimming in a body of water with one person wearing a pink swimming cap <mark>in a blizzard</mark></td>\n",
       "      <td align=\"center\">weather</td>\n",
       "      <td align=\"center\"><img src=\"/nethome/vprabhu9/code/LANCE/release/outputs/HardImageNet/swimming cap/ILSVRC2012_val_00016691/in_a_blizzard.jpeg\" width=\"512\" ></td>\n",
       "      <td align=\"center\"><style='text-align:center;'><font color='green'>swimming cap</font> (58.86%)<br/>paddle (23.71%)<br/>canoe (7.38%)<br/>hot tub (4.23%)<br/>bikini (0.86%)<br/></style></td>\n",
       "      <td align=\"center\">39.15</td>\n",
       "    </tr>\n",
       "    <tr>\n",
       "      <th style=\"text-align:center;\">1413</th>\n",
       "      <td align=\"center\"><img src=\"/nethome/vprabhu9/code/LANCE/release/outputs/HardImageNet/swimming cap/ILSVRC2012_val_00012606/img.jpeg\" width=\"512\" ></td>\n",
       "      <td align=\"center\">swimming cap</td>\n",
       "      <td align=\"center\"><style='text-align:center;'><font color='green'>swimming cap</font> (99.92%)<br/>shower cap (0.03%)<br/>bikini (0.02%)<br/>tights (0.01%)<br/>bra (0.00%)<br/></style></td>\n",
       "      <td align=\"center\">a photo of a group of women wearing swimming caps and red swimsuits standing next to each other on a pier</td>\n",
       "      <td align=\"center\">a photo of a group of women wearing swimming caps and red swimsuits standing next to each other on a pier <mark>on a snowy day</mark></td>\n",
       "      <td align=\"center\">weather</td>\n",
       "      <td align=\"center\"><img src=\"/nethome/vprabhu9/code/LANCE/release/outputs/HardImageNet/swimming cap/ILSVRC2012_val_00012606/on_a_snowy_day.jpeg\" width=\"512\" ></td>\n",
       "      <td align=\"center\"><style='text-align:center;'><font color='green'>swimming cap</font> (99.75%)<br/>shower cap (0.18%)<br/>bikini (0.02%)<br/>tights (0.02%)<br/>swim trunks / shorts (0.01%)<br/></style></td>\n",
       "      <td align=\"center\">0.17</td>\n",
       "    </tr>\n",
       "    <tr>\n",
       "      <th style=\"text-align:center;\">1414</th>\n",
       "      <td align=\"center\"><img src=\"/nethome/vprabhu9/code/LANCE/release/outputs/HardImageNet/swimming cap/ILSVRC2012_val_00012606/img.jpeg\" width=\"512\" ></td>\n",
       "      <td align=\"center\">swimming cap</td>\n",
       "      <td align=\"center\"><style='text-align:center;'><font color='green'>swimming cap</font> (99.92%)<br/>shower cap (0.03%)<br/>bikini (0.02%)<br/>tights (0.01%)<br/>bra (0.00%)<br/></style></td>\n",
       "      <td align=\"center\">a photo of a group of women wearing swimming caps and red swimsuits standing next to each other on a pier</td>\n",
       "      <td align=\"center\">a photo of a group of women wearing swimming caps and red swimsuits standing next to each other on a pier <mark>on a snowy and windy day</mark></td>\n",
       "      <td align=\"center\">weather</td>\n",
       "      <td align=\"center\"><img src=\"/nethome/vprabhu9/code/LANCE/release/outputs/HardImageNet/swimming cap/ILSVRC2012_val_00012606/on_a_snowy_and_windy_day.jpeg\" width=\"512\" ></td>\n",
       "      <td align=\"center\"><style='text-align:center;'><font color='green'>swimming cap</font> (99.74%)<br/>shower cap (0.20%)<br/>tights (0.02%)<br/>bikini (0.02%)<br/>bra (0.01%)<br/></style></td>\n",
       "      <td align=\"center\">0.19</td>\n",
       "    </tr>\n",
       "    <tr>\n",
       "      <th style=\"text-align:center;\">1405</th>\n",
       "      <td align=\"center\"><img src=\"/nethome/vprabhu9/code/LANCE/release/outputs/HardImageNet/swimming cap/ILSVRC2012_val_00011615/img.jpeg\" width=\"512\" ></td>\n",
       "      <td align=\"center\">swimming cap</td>\n",
       "      <td align=\"center\"><style='text-align:center;'><font color='green'>swimming cap</font> (90.53%)<br/>sunscreen (1.97%)<br/>conch (0.70%)<br/>hermit crab (0.60%)<br/>poke bonnet (0.56%)<br/></style></td>\n",
       "      <td align=\"center\">a photo of a woman in a wet suit putting on a swimming cap in front of a building</td>\n",
       "      <td align=\"center\">a photo of a woman in a wet suit putting on a swimming cap in front of a building <mark>on a snowy day</mark></td>\n",
       "      <td align=\"center\">weather</td>\n",
       "      <td align=\"center\"><img src=\"/nethome/vprabhu9/code/LANCE/release/outputs/HardImageNet/swimming cap/ILSVRC2012_val_00011615/on_a_snowy_day.jpeg\" width=\"512\" ></td>\n",
       "      <td align=\"center\"><style='text-align:center;'><font color='green'>swimming cap</font> (98.45%)<br/>sunscreen (0.26%)<br/>tights (0.12%)<br/>crash helmet (0.11%)<br/>conch (0.09%)<br/></style></td>\n",
       "      <td align=\"center\">7.92</td>\n",
       "    </tr>\n",
       "    <tr>\n",
       "      <th style=\"text-align:center;\">1407</th>\n",
       "      <td align=\"center\"><img src=\"/nethome/vprabhu9/code/LANCE/release/outputs/HardImageNet/swimming cap/ILSVRC2012_val_00011615/img.jpeg\" width=\"512\" ></td>\n",
       "      <td align=\"center\">swimming cap</td>\n",
       "      <td align=\"center\"><style='text-align:center;'><font color='green'>swimming cap</font> (90.53%)<br/>sunscreen (1.97%)<br/>conch (0.70%)<br/>hermit crab (0.60%)<br/>poke bonnet (0.56%)<br/></style></td>\n",
       "      <td align=\"center\">a photo of a woman in a wet suit putting on a swimming cap in front of a building</td>\n",
       "      <td align=\"center\">a photo of a woman in a wet suit putting on a swimming cap in front of a building <mark>on a snowy and windy day</mark></td>\n",
       "      <td align=\"center\">weather</td>\n",
       "      <td align=\"center\"><img src=\"/nethome/vprabhu9/code/LANCE/release/outputs/HardImageNet/swimming cap/ILSVRC2012_val_00011615/on_a_snowy_and_windy_day.jpeg\" width=\"512\" ></td>\n",
       "      <td align=\"center\"><style='text-align:center;'><font color='green'>swimming cap</font> (99.28%)<br/>sunscreen (0.15%)<br/>crash helmet (0.06%)<br/>conch (0.04%)<br/>tights (0.04%)<br/></style></td>\n",
       "      <td align=\"center\">8.75</td>\n",
       "    </tr>\n",
       "  </tbody>\n",
       "</table>"
      ],
      "text/plain": [
       "<IPython.core.display.HTML object>"
      ]
     },
     "metadata": {},
     "output_type": "display_data"
    },
    {
     "data": {
      "text/markdown": [
       "## Cluster 8: Sensitivity=24.18%"
      ],
      "text/plain": [
       "<IPython.core.display.Markdown object>"
      ]
     },
     "metadata": {},
     "output_type": "display_data"
    },
    {
     "data": {
      "text/html": [
       "<table border=\"1\" class=\"dataframe\">\n",
       "  <thead>\n",
       "    <tr style=\"text-align: center;\">\n",
       "      <th style=\"text-align:center;\"></th>\n",
       "      <th style=\"text-align:center;\">Image</th>\n",
       "      <th style=\"text-align:center;\">Label</th>\n",
       "      <th style=\"text-align:center;\">Prediction</th>\n",
       "      <th style=\"text-align:center;\">Caption</th>\n",
       "      <th style=\"text-align:center;\">Edited Caption</th>\n",
       "      <th style=\"text-align:center;\">Edit Type</th>\n",
       "      <th style=\"text-align:center;\">LANCE</th>\n",
       "      <th style=\"text-align:center;\">LANCE prediction</th>\n",
       "      <th style=\"text-align:center;\">Sensitivity</th>\n",
       "    </tr>\n",
       "  </thead>\n",
       "  <tbody>\n",
       "    <tr>\n",
       "      <th style=\"text-align:center;\">1502</th>\n",
       "      <td align=\"center\"><img src=\"/nethome/vprabhu9/code/LANCE/release/outputs/HardImageNet/swimming cap/ILSVRC2012_val_00011741/img.jpeg\" width=\"512\" ></td>\n",
       "      <td align=\"center\">swimming cap</td>\n",
       "      <td align=\"center\"><style='text-align:center;'><font color='green'>swimming cap</font> (56.59%)<br/>tights (12.95%)<br/>one-piece bathing suit (9.04%)<br/>snorkel (4.54%)<br/>swim trunks / shorts (3.00%)<br/></style></td>\n",
       "      <td align=\"center\">a photo of a woman in a bathing suit and swimming cap standing in the water next to a man swimming in the ocean</td>\n",
       "      <td align=\"center\">a photo of a woman in a bathing suit and swimming cap standing in the water next to a man swimming in the ocean <mark>ocean with a sea bird flying by</mark></td>\n",
       "      <td align=\"center\">background</td>\n",
       "      <td align=\"center\"><img src=\"/nethome/vprabhu9/code/LANCE/release/outputs/HardImageNet/swimming cap/ILSVRC2012_val_00011741/ocean_with_a_sea_bird_flying_by.jpeg\" width=\"512\" ></td>\n",
       "      <td align=\"center\"><style='text-align:center;'>snorkel (14.33%)<br/><font color='green'>swimming cap</font> (8.49%)<br/>shower cap (7.99%)<br/>lakeshore (6.87%)<br/>tights (4.58%)<br/></style></td>\n",
       "      <td align=\"center\">48.09</td>\n",
       "    </tr>\n",
       "    <tr>\n",
       "      <th style=\"text-align:center;\">1507</th>\n",
       "      <td align=\"center\"><img src=\"/nethome/vprabhu9/code/LANCE/release/outputs/HardImageNet/swimming cap/ILSVRC2012_val_00011741/img.jpeg\" width=\"512\" ></td>\n",
       "      <td align=\"center\">swimming cap</td>\n",
       "      <td align=\"center\"><style='text-align:center;'><font color='green'>swimming cap</font> (56.59%)<br/>tights (12.95%)<br/>one-piece bathing suit (9.04%)<br/>snorkel (4.54%)<br/>swim trunks / shorts (3.00%)<br/></style></td>\n",
       "      <td align=\"center\">a photo of a woman in a bathing suit and swimming cap standing in the water next to a man swimming in the ocean</td>\n",
       "      <td align=\"center\">a photo of a woman in a bathing suit and swimming cap standing in the water next to a man swimming in the ocean <mark>windsurfing</mark></td>\n",
       "      <td align=\"center\">object</td>\n",
       "      <td align=\"center\"><img src=\"/nethome/vprabhu9/code/LANCE/release/outputs/HardImageNet/swimming cap/ILSVRC2012_val_00011741/windsurfing.jpeg\" width=\"512\" ></td>\n",
       "      <td align=\"center\"><style='text-align:center;'>snorkel (44.87%)<br/>paddle (17.82%)<br/><font color='green'>swimming cap</font> (14.24%)<br/>canoe (10.71%)<br/>scuba diver (1.55%)<br/></style></td>\n",
       "      <td align=\"center\">42.35</td>\n",
       "    </tr>\n",
       "    <tr>\n",
       "      <th style=\"text-align:center;\">1409</th>\n",
       "      <td align=\"center\"><img src=\"/nethome/vprabhu9/code/LANCE/release/outputs/HardImageNet/swimming cap/ILSVRC2012_val_00011615/img.jpeg\" width=\"512\" ></td>\n",
       "      <td align=\"center\">swimming cap</td>\n",
       "      <td align=\"center\"><style='text-align:center;'><font color='green'>swimming cap</font> (90.53%)<br/>sunscreen (1.97%)<br/>conch (0.70%)<br/>hermit crab (0.60%)<br/>poke bonnet (0.56%)<br/></style></td>\n",
       "      <td align=\"center\">a photo of a woman in a wet suit putting on a swimming cap in front of a building</td>\n",
       "      <td align=\"center\">a photo of a woman in a wet suit putting on a swimming cap in front of a building <mark>with offices and a flock of birds</mark></td>\n",
       "      <td align=\"center\">background</td>\n",
       "      <td align=\"center\"><img src=\"/nethome/vprabhu9/code/LANCE/release/outputs/HardImageNet/swimming cap/ILSVRC2012_val_00011615/with_offices_and_a_flock_of_birds.jpeg\" width=\"512\" ></td>\n",
       "      <td align=\"center\"><style='text-align:center;'><font color='green'>swimming cap</font> (96.82%)<br/>conch (0.38%)<br/>dungeness crab (0.24%)<br/>sunscreen (0.24%)<br/>crash helmet (0.18%)<br/></style></td>\n",
       "      <td align=\"center\">6.29</td>\n",
       "    </tr>\n",
       "    <tr>\n",
       "      <th style=\"text-align:center;\">1499</th>\n",
       "      <td align=\"center\"><img src=\"/nethome/vprabhu9/code/LANCE/release/outputs/HardImageNet/swimming cap/ILSVRC2012_val_00006861/img.jpeg\" width=\"512\" ></td>\n",
       "      <td align=\"center\">swimming cap</td>\n",
       "      <td align=\"center\"><style='text-align:center;'>motorboat (22.02%)<br/>canoe (15.05%)<br/>promontory (10.86%)<br/>catamaran (10.11%)<br/>cliff (6.36%)<br/></style></td>\n",
       "      <td align=\"center\">a photo of a man wearing a wetsuit and swimming cap holding a surfboard next to a wooden fence near the ocean</td>\n",
       "      <td align=\"center\">a photo of a man wearing a wetsuit and swimming cap holding a surfboard next to a wooden fence near the ocean <mark>with seagulls flying overhead</mark></td>\n",
       "      <td align=\"center\">background</td>\n",
       "      <td align=\"center\"><img src=\"/nethome/vprabhu9/code/LANCE/release/outputs/HardImageNet/swimming cap/ILSVRC2012_val_00006861/with_seagulls_flying_overhead.jpeg\" width=\"512\" ></td>\n",
       "      <td align=\"center\"><style='text-align:center;'>promontory (21.60%)<br/>motorboat (13.54%)<br/>aircraft carrier (13.13%)<br/>beach (11.15%)<br/>cliff (6.74%)<br/></style></td>\n",
       "      <td align=\"center\">0.00</td>\n",
       "    </tr>\n",
       "  </tbody>\n",
       "</table>"
      ],
      "text/plain": [
       "<IPython.core.display.HTML object>"
      ]
     },
     "metadata": {},
     "output_type": "display_data"
    },
    {
     "data": {
      "text/markdown": [
       "## Cluster 5: Sensitivity=19.77%"
      ],
      "text/plain": [
       "<IPython.core.display.Markdown object>"
      ]
     },
     "metadata": {},
     "output_type": "display_data"
    },
    {
     "data": {
      "text/html": [
       "<table border=\"1\" class=\"dataframe\">\n",
       "  <thead>\n",
       "    <tr style=\"text-align: center;\">\n",
       "      <th style=\"text-align:center;\"></th>\n",
       "      <th style=\"text-align:center;\">Image</th>\n",
       "      <th style=\"text-align:center;\">Label</th>\n",
       "      <th style=\"text-align:center;\">Prediction</th>\n",
       "      <th style=\"text-align:center;\">Caption</th>\n",
       "      <th style=\"text-align:center;\">Edited Caption</th>\n",
       "      <th style=\"text-align:center;\">Edit Type</th>\n",
       "      <th style=\"text-align:center;\">LANCE</th>\n",
       "      <th style=\"text-align:center;\">LANCE prediction</th>\n",
       "      <th style=\"text-align:center;\">Sensitivity</th>\n",
       "    </tr>\n",
       "  </thead>\n",
       "  <tbody>\n",
       "    <tr>\n",
       "      <th style=\"text-align:center;\">1401</th>\n",
       "      <td align=\"center\"><img src=\"/nethome/vprabhu9/code/LANCE/release/outputs/HardImageNet/swimming cap/ILSVRC2012_val_00039046/img.jpeg\" width=\"512\" ></td>\n",
       "      <td align=\"center\">swimming cap</td>\n",
       "      <td align=\"center\"><style='text-align:center;'><font color='green'>swimming cap</font> (99.99%)<br/>bikini (0.00%)<br/>swim trunks / shorts (0.00%)<br/>one-piece bathing suit (0.00%)<br/>tights (0.00%)<br/></style></td>\n",
       "      <td align=\"center\">a photo of a group of people with swimming caps swimming in a pool with red and white lines on the side of the pool</td>\n",
       "      <td align=\"center\">a photo of a group of people with swimming caps swimming in a pool with red and white lines on the side of the pool <mark>on a sunny day</mark></td>\n",
       "      <td align=\"center\">weather</td>\n",
       "      <td align=\"center\"><img src=\"/nethome/vprabhu9/code/LANCE/release/outputs/HardImageNet/swimming cap/ILSVRC2012_val_00039046/on_a_sunny_day.jpeg\" width=\"512\" ></td>\n",
       "      <td align=\"center\"><style='text-align:center;'><font color='green'>swimming cap</font> (99.99%)<br/>bikini (0.00%)<br/>swim trunks / shorts (0.00%)<br/>one-piece bathing suit (0.00%)<br/>tights (0.00%)<br/></style></td>\n",
       "      <td align=\"center\">0.00</td>\n",
       "    </tr>\n",
       "    <tr>\n",
       "      <th style=\"text-align:center;\">1446</th>\n",
       "      <td align=\"center\"><img src=\"/nethome/vprabhu9/code/LANCE/release/outputs/HardImageNet/swimming cap/ILSVRC2012_val_00028550/img.jpeg\" width=\"512\" ></td>\n",
       "      <td align=\"center\">swimming cap</td>\n",
       "      <td align=\"center\"><style='text-align:center;'>one-piece bathing suit (42.02%)<br/><font color='green'>swimming cap</font> (23.00%)<br/>tights (19.26%)<br/>balance beam (2.32%)<br/>bra (2.30%)<br/></style></td>\n",
       "      <td align=\"center\">a photo of a black and white photo of a woman in a swim suit and swimming cap at a swimming pool</td>\n",
       "      <td align=\"center\">a photo of a black and white photo of a <mark>senior</mark> woman in a swim suit and swimming cap at a lakeside swimming pool</td>\n",
       "      <td align=\"center\">background</td>\n",
       "      <td align=\"center\"><img src=\"/nethome/vprabhu9/code/LANCE/release/outputs/HardImageNet/swimming cap/ILSVRC2012_val_00028550/senior.jpeg\" width=\"512\" ></td>\n",
       "      <td align=\"center\"><style='text-align:center;'>one-piece bathing suit (41.98%)<br/><font color='green'>swimming cap</font> (29.27%)<br/>tights (9.29%)<br/>balance beam (7.65%)<br/>pole (1.72%)<br/></style></td>\n",
       "      <td align=\"center\">6.27</td>\n",
       "    </tr>\n",
       "    <tr>\n",
       "      <th style=\"text-align:center;\">1438</th>\n",
       "      <td align=\"center\"><img src=\"/nethome/vprabhu9/code/LANCE/release/outputs/HardImageNet/swimming cap/ILSVRC2012_val_00017501/img.jpeg\" width=\"512\" ></td>\n",
       "      <td align=\"center\">swimming cap</td>\n",
       "      <td align=\"center\"><style='text-align:center;'><font color='green'>swimming cap</font> (90.85%)<br/>paddle (4.08%)<br/>bikini (1.88%)<br/>tights (1.12%)<br/>one-piece bathing suit (0.86%)<br/></style></td>\n",
       "      <td align=\"center\">a photo of a woman in a blue swim suit and a red swimming cap is standing in a pool</td>\n",
       "      <td align=\"center\">a photo of a woman in a blue swim suit and a red swimming cap is standing in a pool <mark>with a city skyline in the background</mark></td>\n",
       "      <td align=\"center\">background</td>\n",
       "      <td align=\"center\"><img src=\"/nethome/vprabhu9/code/LANCE/release/outputs/HardImageNet/swimming cap/ILSVRC2012_val_00017501/with_a_city_skyline_in_the_background.jpeg\" width=\"512\" ></td>\n",
       "      <td align=\"center\"><style='text-align:center;'><font color='green'>swimming cap</font> (95.28%)<br/>paddle (2.14%)<br/>tights (1.45%)<br/>one-piece bathing suit (0.81%)<br/>bikini (0.12%)<br/></style></td>\n",
       "      <td align=\"center\">4.43</td>\n",
       "    </tr>\n",
       "    <tr>\n",
       "      <th style=\"text-align:center;\">1434</th>\n",
       "      <td align=\"center\"><img src=\"/nethome/vprabhu9/code/LANCE/release/outputs/HardImageNet/swimming cap/ILSVRC2012_val_00007984/img.jpeg\" width=\"512\" ></td>\n",
       "      <td align=\"center\">swimming cap</td>\n",
       "      <td align=\"center\"><style='text-align:center;'><font color='green'>swimming cap</font> (99.19%)<br/>sunglass (0.17%)<br/>crash helmet (0.10%)<br/>snorkel (0.07%)<br/>volleyball (0.06%)<br/></style></td>\n",
       "      <td align=\"center\">a photo of a close up of a person wearing a swimming cap and goggles in a pool</td>\n",
       "      <td align=\"center\">a photo of a close up of a person wearing a swimming cap and goggles in a swimming pool <mark>for children</mark></td>\n",
       "      <td align=\"center\">object</td>\n",
       "      <td align=\"center\"><img src=\"/nethome/vprabhu9/code/LANCE/release/outputs/HardImageNet/swimming cap/ILSVRC2012_val_00007984/for_children.jpeg\" width=\"512\" ></td>\n",
       "      <td align=\"center\"><style='text-align:center;'><font color='green'>swimming cap</font> (82.89%)<br/>cowboy hat (2.22%)<br/>rugby ball (2.22%)<br/>crash helmet (1.43%)<br/>gas mask or respirator (1.40%)<br/></style></td>\n",
       "      <td align=\"center\">16.30</td>\n",
       "    </tr>\n",
       "    <tr>\n",
       "      <th style=\"text-align:center;\">1410</th>\n",
       "      <td align=\"center\"><img src=\"/nethome/vprabhu9/code/LANCE/release/outputs/HardImageNet/swimming cap/ILSVRC2012_val_00005145/img.jpeg\" width=\"512\" ></td>\n",
       "      <td align=\"center\">swimming cap</td>\n",
       "      <td align=\"center\"><style='text-align:center;'><font color='green'>swimming cap</font> (99.58%)<br/>swim trunks / shorts (0.25%)<br/>one-piece bathing suit (0.06%)<br/>paddle (0.05%)<br/>bikini (0.03%)<br/></style></td>\n",
       "      <td align=\"center\">a photo of a group of people in a swimming pool wearing swimming caps with a net in the middle of the pool</td>\n",
       "      <td align=\"center\">a photo of a group of <mark>elderly</mark> people in a swimming pool wearing swimming caps with a net in the middle of the pool</td>\n",
       "      <td align=\"center\">subject</td>\n",
       "      <td align=\"center\"><img src=\"/nethome/vprabhu9/code/LANCE/release/outputs/HardImageNet/swimming cap/ILSVRC2012_val_00005145/elderly.jpeg\" width=\"512\" ></td>\n",
       "      <td align=\"center\"><style='text-align:center;'><font color='green'>swimming cap</font> (97.45%)<br/>swim trunks / shorts (2.11%)<br/>bikini (0.23%)<br/>one-piece bathing suit (0.08%)<br/>hot tub (0.03%)<br/></style></td>\n",
       "      <td align=\"center\">2.13</td>\n",
       "    </tr>\n",
       "  </tbody>\n",
       "</table>"
      ],
      "text/plain": [
       "<IPython.core.display.HTML object>"
      ]
     },
     "metadata": {},
     "output_type": "display_data"
    },
    {
     "name": "stdout",
     "output_type": "stream",
     "text": [
      "\n",
      "\n",
      "\n",
      "\n"
     ]
    },
    {
     "data": {
      "text/markdown": [
       "# Class: volleyball"
      ],
      "text/plain": [
       "<IPython.core.display.Markdown object>"
      ]
     },
     "metadata": {},
     "output_type": "display_data"
    },
    {
     "data": {
      "text/markdown": [
       "## Cluster 8: Sensitivity=43.16%"
      ],
      "text/plain": [
       "<IPython.core.display.Markdown object>"
      ]
     },
     "metadata": {},
     "output_type": "display_data"
    },
    {
     "data": {
      "text/html": [
       "<table border=\"1\" class=\"dataframe\">\n",
       "  <thead>\n",
       "    <tr style=\"text-align: center;\">\n",
       "      <th style=\"text-align:center;\"></th>\n",
       "      <th style=\"text-align:center;\">Image</th>\n",
       "      <th style=\"text-align:center;\">Label</th>\n",
       "      <th style=\"text-align:center;\">Prediction</th>\n",
       "      <th style=\"text-align:center;\">Caption</th>\n",
       "      <th style=\"text-align:center;\">Edited Caption</th>\n",
       "      <th style=\"text-align:center;\">Edit Type</th>\n",
       "      <th style=\"text-align:center;\">LANCE</th>\n",
       "      <th style=\"text-align:center;\">LANCE prediction</th>\n",
       "      <th style=\"text-align:center;\">Sensitivity</th>\n",
       "    </tr>\n",
       "  </thead>\n",
       "  <tbody>\n",
       "    <tr>\n",
       "      <th style=\"text-align:center;\">1574</th>\n",
       "      <td align=\"center\"><img src=\"/nethome/vprabhu9/code/LANCE/release/outputs/HardImageNet/volleyball/ILSVRC2012_val_00039112/img.jpeg\" width=\"512\" ></td>\n",
       "      <td align=\"center\">volleyball</td>\n",
       "      <td align=\"center\"><style='text-align:center;'><font color='green'>volleyball</font> (74.68%)<br/>basketball (24.78%)<br/>rugby ball (0.24%)<br/>soccer ball (0.16%)<br/>knee pad (0.14%)<br/></style></td>\n",
       "      <td align=\"center\">a photo of a female volleyball player in a blue and yellow uniform crouching down to hit the ball</td>\n",
       "      <td align=\"center\">a photo of a female volleyball player in a blue and yellow uniform crouching down to hit the ball <mark>behind a waterfall in a national park</mark></td>\n",
       "      <td align=\"center\">background</td>\n",
       "      <td align=\"center\"><img src=\"/nethome/vprabhu9/code/LANCE/release/outputs/HardImageNet/volleyball/ILSVRC2012_val_00039112/behind_a_waterfall_in_a_national_park.jpeg\" width=\"512\" ></td>\n",
       "      <td align=\"center\"><style='text-align:center;'>rugby ball (78.63%)<br/>basketball (10.98%)<br/>soccer ball (5.06%)<br/><font color='green'>volleyball</font> (1.40%)<br/>paddle (0.70%)<br/></style></td>\n",
       "      <td align=\"center\">73.27</td>\n",
       "    </tr>\n",
       "    <tr>\n",
       "      <th style=\"text-align:center;\">1595</th>\n",
       "      <td align=\"center\"><img src=\"/nethome/vprabhu9/code/LANCE/release/outputs/HardImageNet/volleyball/ILSVRC2012_val_00026777/img.jpeg\" width=\"512\" ></td>\n",
       "      <td align=\"center\">volleyball</td>\n",
       "      <td align=\"center\"><style='text-align:center;'><font color='green'>volleyball</font> (87.91%)<br/>racket (3.36%)<br/>gymnastic horizontal bar (3.34%)<br/>ping-pong ball (2.84%)<br/>basketball (1.77%)<br/></style></td>\n",
       "      <td align=\"center\">a photo of a group of people playing a game of volleyball on a court with a net</td>\n",
       "      <td align=\"center\">a photo of a group of people playing a game of volleyball on a court with a net <mark>behind them with a bright sunset in the background</mark></td>\n",
       "      <td align=\"center\">background</td>\n",
       "      <td align=\"center\"><img src=\"/nethome/vprabhu9/code/LANCE/release/outputs/HardImageNet/volleyball/ILSVRC2012_val_00026777/behind_them_with_a_bright_sunset_in_the_background.jpeg\" width=\"512\" ></td>\n",
       "      <td align=\"center\"><style='text-align:center;'><font color='green'>volleyball</font> (90.51%)<br/>racket (7.62%)<br/>tennis ball (1.04%)<br/>gymnastic horizontal bar (0.39%)<br/>ping-pong ball (0.22%)<br/></style></td>\n",
       "      <td align=\"center\">2.60</td>\n",
       "    </tr>\n",
       "    <tr>\n",
       "      <th style=\"text-align:center;\">1596</th>\n",
       "      <td align=\"center\"><img src=\"/nethome/vprabhu9/code/LANCE/release/outputs/HardImageNet/volleyball/ILSVRC2012_val_00026777/img.jpeg\" width=\"512\" ></td>\n",
       "      <td align=\"center\">volleyball</td>\n",
       "      <td align=\"center\"><style='text-align:center;'><font color='green'>volleyball</font> (87.91%)<br/>racket (3.36%)<br/>gymnastic horizontal bar (3.34%)<br/>ping-pong ball (2.84%)<br/>basketball (1.77%)<br/></style></td>\n",
       "      <td align=\"center\">a photo of a group of people playing a game of volleyball on a court with a net</td>\n",
       "      <td align=\"center\">a photo of a group of people playing a game of volleyball on a court with a net <mark>behind them with a lush forest in the background</mark></td>\n",
       "      <td align=\"center\">background</td>\n",
       "      <td align=\"center\"><img src=\"/nethome/vprabhu9/code/LANCE/release/outputs/HardImageNet/volleyball/ILSVRC2012_val_00026777/behind_them_with_a_lush_forest_in_the_background.jpeg\" width=\"512\" ></td>\n",
       "      <td align=\"center\"><style='text-align:center;'>racket (61.99%)<br/><font color='green'>volleyball</font> (31.88%)<br/>tennis ball (5.17%)<br/>ping-pong ball (0.91%)<br/>basketball (0.03%)<br/></style></td>\n",
       "      <td align=\"center\">56.03</td>\n",
       "    </tr>\n",
       "    <tr>\n",
       "      <th style=\"text-align:center;\">1535</th>\n",
       "      <td align=\"center\"><img src=\"/nethome/vprabhu9/code/LANCE/release/outputs/HardImageNet/volleyball/ILSVRC2012_val_00025715/img.jpeg\" width=\"512\" ></td>\n",
       "      <td align=\"center\">volleyball</td>\n",
       "      <td align=\"center\"><style='text-align:center;'>tennis ball (94.37%)<br/>racket (4.32%)<br/><font color='green'>volleyball</font> (1.21%)<br/>ping-pong ball (0.05%)<br/>tights (0.01%)<br/></style></td>\n",
       "      <td align=\"center\">a photo of a group of young women standing next to each other holding yellow volleyballs</td>\n",
       "      <td align=\"center\">a photo of a group of young women standing next to each other holding yellow volleyballs <mark>in a forest</mark></td>\n",
       "      <td align=\"center\">background</td>\n",
       "      <td align=\"center\"><img src=\"/nethome/vprabhu9/code/LANCE/release/outputs/HardImageNet/volleyball/ILSVRC2012_val_00025715/in_a_forest.jpeg\" width=\"512\" ></td>\n",
       "      <td align=\"center\"><style='text-align:center;'>tennis ball (51.79%)<br/><font color='green'>volleyball</font> (41.95%)<br/>racket (5.86%)<br/>rugby ball (0.12%)<br/>ping-pong ball (0.10%)<br/></style></td>\n",
       "      <td align=\"center\">40.74</td>\n",
       "    </tr>\n",
       "  </tbody>\n",
       "</table>"
      ],
      "text/plain": [
       "<IPython.core.display.HTML object>"
      ]
     },
     "metadata": {},
     "output_type": "display_data"
    },
    {
     "data": {
      "text/markdown": [
       "## Cluster 9: Sensitivity=25.33%"
      ],
      "text/plain": [
       "<IPython.core.display.Markdown object>"
      ]
     },
     "metadata": {},
     "output_type": "display_data"
    },
    {
     "data": {
      "text/html": [
       "<table border=\"1\" class=\"dataframe\">\n",
       "  <thead>\n",
       "    <tr style=\"text-align: center;\">\n",
       "      <th style=\"text-align:center;\"></th>\n",
       "      <th style=\"text-align:center;\">Image</th>\n",
       "      <th style=\"text-align:center;\">Label</th>\n",
       "      <th style=\"text-align:center;\">Prediction</th>\n",
       "      <th style=\"text-align:center;\">Caption</th>\n",
       "      <th style=\"text-align:center;\">Edited Caption</th>\n",
       "      <th style=\"text-align:center;\">Edit Type</th>\n",
       "      <th style=\"text-align:center;\">LANCE</th>\n",
       "      <th style=\"text-align:center;\">LANCE prediction</th>\n",
       "      <th style=\"text-align:center;\">Sensitivity</th>\n",
       "    </tr>\n",
       "  </thead>\n",
       "  <tbody>\n",
       "    <tr>\n",
       "      <th style=\"text-align:center;\">1588</th>\n",
       "      <td align=\"center\"><img src=\"/nethome/vprabhu9/code/LANCE/release/outputs/HardImageNet/volleyball/ILSVRC2012_val_00042726/img.jpeg\" width=\"512\" ></td>\n",
       "      <td align=\"center\">volleyball</td>\n",
       "      <td align=\"center\"><style='text-align:center;'><font color='green'>volleyball</font> (99.76%)<br/>bikini (0.15%)<br/>tights (0.03%)<br/>swimming cap (0.02%)<br/>racket (0.01%)<br/></style></td>\n",
       "      <td align=\"center\">a photo of two women in bikinis are playing volleyball on the beach in front of a crowd</td>\n",
       "      <td align=\"center\">a photo of two women in bikinis are playing volleyball on the beach in front of a crowd <mark>on a foggy morning</mark></td>\n",
       "      <td align=\"center\">weather</td>\n",
       "      <td align=\"center\"><img src=\"/nethome/vprabhu9/code/LANCE/release/outputs/HardImageNet/volleyball/ILSVRC2012_val_00042726/on_a_foggy_morning.jpeg\" width=\"512\" ></td>\n",
       "      <td align=\"center\"><style='text-align:center;'><font color='green'>volleyball</font> (61.49%)<br/>swimming cap (24.57%)<br/>bikini (8.95%)<br/>tights (1.59%)<br/>swim trunks / shorts (1.28%)<br/></style></td>\n",
       "      <td align=\"center\">38.27</td>\n",
       "    </tr>\n",
       "    <tr>\n",
       "      <th style=\"text-align:center;\">1591</th>\n",
       "      <td align=\"center\"><img src=\"/nethome/vprabhu9/code/LANCE/release/outputs/HardImageNet/volleyball/ILSVRC2012_val_00042050/img.jpeg\" width=\"512\" ></td>\n",
       "      <td align=\"center\">volleyball</td>\n",
       "      <td align=\"center\"><style='text-align:center;'><font color='green'>volleyball</font> (100.00%)<br/>bikini (0.00%)<br/>swim trunks / shorts (0.00%)<br/>gymnastic horizontal bar (0.00%)<br/>tights (0.00%)<br/></style></td>\n",
       "      <td align=\"center\">a photo of two women playing volleyball on a beach with a crowd of people watching from the sand</td>\n",
       "      <td align=\"center\">a photo of two women playing volleyball on a beach with a crowd of people watching from the sand <mark>on a foggy day</mark></td>\n",
       "      <td align=\"center\">weather</td>\n",
       "      <td align=\"center\"><img src=\"/nethome/vprabhu9/code/LANCE/release/outputs/HardImageNet/volleyball/ILSVRC2012_val_00042050/on_a_foggy_day.jpeg\" width=\"512\" ></td>\n",
       "      <td align=\"center\"><style='text-align:center;'><font color='green'>volleyball</font> (99.99%)<br/>balance beam (0.00%)<br/>parallel bars (0.00%)<br/>gymnastic horizontal bar (0.00%)<br/>pole (0.00%)<br/></style></td>\n",
       "      <td align=\"center\">0.01</td>\n",
       "    </tr>\n",
       "    <tr>\n",
       "      <th style=\"text-align:center;\">1577</th>\n",
       "      <td align=\"center\"><img src=\"/nethome/vprabhu9/code/LANCE/release/outputs/HardImageNet/volleyball/ILSVRC2012_val_00033329/img.jpeg\" width=\"512\" ></td>\n",
       "      <td align=\"center\">volleyball</td>\n",
       "      <td align=\"center\"><style='text-align:center;'><font color='green'>volleyball</font> (95.00%)<br/>basketball (4.99%)<br/>racket (0.00%)<br/>ping-pong ball (0.00%)<br/>soccer ball (0.00%)<br/></style></td>\n",
       "      <td align=\"center\">a photo of a group of people playing a game of volleyball in a gym with people watching</td>\n",
       "      <td align=\"center\">a photo of a group of people playing a game of volleyball in a gym with people watching <mark>with a haze in the air</mark></td>\n",
       "      <td align=\"center\">weather</td>\n",
       "      <td align=\"center\"><img src=\"/nethome/vprabhu9/code/LANCE/release/outputs/HardImageNet/volleyball/ILSVRC2012_val_00033329/with_a_haze_in_the_air.jpeg\" width=\"512\" ></td>\n",
       "      <td align=\"center\"><style='text-align:center;'><font color='green'>volleyball</font> (93.92%)<br/>basketball (6.03%)<br/>soccer ball (0.01%)<br/>gymnastic horizontal bar (0.00%)<br/>rugby ball (0.00%)<br/></style></td>\n",
       "      <td align=\"center\">1.07</td>\n",
       "    </tr>\n",
       "    <tr>\n",
       "      <th style=\"text-align:center;\">1532</th>\n",
       "      <td align=\"center\"><img src=\"/nethome/vprabhu9/code/LANCE/release/outputs/HardImageNet/volleyball/ILSVRC2012_val_00025715/img.jpeg\" width=\"512\" ></td>\n",
       "      <td align=\"center\">volleyball</td>\n",
       "      <td align=\"center\"><style='text-align:center;'>tennis ball (94.37%)<br/>racket (4.32%)<br/><font color='green'>volleyball</font> (1.21%)<br/>ping-pong ball (0.05%)<br/>tights (0.01%)<br/></style></td>\n",
       "      <td align=\"center\">a photo of a group of young women standing next to each other holding yellow volleyballs</td>\n",
       "      <td align=\"center\">a photo of a group of young women standing next to each other holding yellow volleyballs <mark>on a foggy day</mark></td>\n",
       "      <td align=\"center\">weather</td>\n",
       "      <td align=\"center\"><img src=\"/nethome/vprabhu9/code/LANCE/release/outputs/HardImageNet/volleyball/ILSVRC2012_val_00025715/on_a_foggy_day.jpeg\" width=\"512\" ></td>\n",
       "      <td align=\"center\"><style='text-align:center;'>tennis ball (96.35%)<br/>racket (2.72%)<br/><font color='green'>volleyball</font> (0.89%)<br/>tights (0.01%)<br/>ping-pong ball (0.01%)<br/></style></td>\n",
       "      <td align=\"center\">0.31</td>\n",
       "    </tr>\n",
       "    <tr>\n",
       "      <th style=\"text-align:center;\">1550</th>\n",
       "      <td align=\"center\"><img src=\"/nethome/vprabhu9/code/LANCE/release/outputs/HardImageNet/volleyball/ILSVRC2012_val_00009527/img.jpeg\" width=\"512\" ></td>\n",
       "      <td align=\"center\">volleyball</td>\n",
       "      <td align=\"center\"><style='text-align:center;'><font color='green'>volleyball</font> (95.66%)<br/>racket (2.19%)<br/>tennis ball (0.82%)<br/>swimming cap (0.35%)<br/>hunting bow (0.23%)<br/></style></td>\n",
       "      <td align=\"center\">a photo of a couple of people playing a game of volleyball with horses in the background</td>\n",
       "      <td align=\"center\">a photo of a couple of people playing a game of volleyball <mark>on a foggy day</mark> with horses in the background</td>\n",
       "      <td align=\"center\">weather</td>\n",
       "      <td align=\"center\"><img src=\"/nethome/vprabhu9/code/LANCE/release/outputs/HardImageNet/volleyball/ILSVRC2012_val_00009527/on_a_foggy_day.jpeg\" width=\"512\" ></td>\n",
       "      <td align=\"center\"><style='text-align:center;'>tennis ball (75.20%)<br/><font color='green'>volleyball</font> (19.95%)<br/>racket (4.72%)<br/>ping-pong ball (0.05%)<br/>rugby ball (0.03%)<br/></style></td>\n",
       "      <td align=\"center\">75.71</td>\n",
       "    </tr>\n",
       "  </tbody>\n",
       "</table>"
      ],
      "text/plain": [
       "<IPython.core.display.HTML object>"
      ]
     },
     "metadata": {},
     "output_type": "display_data"
    },
    {
     "data": {
      "text/markdown": [
       "## Cluster 3: Sensitivity=25.14%"
      ],
      "text/plain": [
       "<IPython.core.display.Markdown object>"
      ]
     },
     "metadata": {},
     "output_type": "display_data"
    },
    {
     "data": {
      "text/html": [
       "<table border=\"1\" class=\"dataframe\">\n",
       "  <thead>\n",
       "    <tr style=\"text-align: center;\">\n",
       "      <th style=\"text-align:center;\"></th>\n",
       "      <th style=\"text-align:center;\">Image</th>\n",
       "      <th style=\"text-align:center;\">Label</th>\n",
       "      <th style=\"text-align:center;\">Prediction</th>\n",
       "      <th style=\"text-align:center;\">Caption</th>\n",
       "      <th style=\"text-align:center;\">Edited Caption</th>\n",
       "      <th style=\"text-align:center;\">Edit Type</th>\n",
       "      <th style=\"text-align:center;\">LANCE</th>\n",
       "      <th style=\"text-align:center;\">LANCE prediction</th>\n",
       "      <th style=\"text-align:center;\">Sensitivity</th>\n",
       "    </tr>\n",
       "  </thead>\n",
       "  <tbody>\n",
       "    <tr>\n",
       "      <th style=\"text-align:center;\">1531</th>\n",
       "      <td align=\"center\"><img src=\"/nethome/vprabhu9/code/LANCE/release/outputs/HardImageNet/volleyball/ILSVRC2012_val_00025715/img.jpeg\" width=\"512\" ></td>\n",
       "      <td align=\"center\">volleyball</td>\n",
       "      <td align=\"center\"><style='text-align:center;'>tennis ball (94.37%)<br/>racket (4.32%)<br/><font color='green'>volleyball</font> (1.21%)<br/>ping-pong ball (0.05%)<br/>tights (0.01%)<br/></style></td>\n",
       "      <td align=\"center\">a photo of a group of young women standing next to each other holding yellow volleyballs</td>\n",
       "      <td align=\"center\">a photo of a group of young women standing next to each other holding yellow volleyballs <mark>in the snow</mark></td>\n",
       "      <td align=\"center\">weather</td>\n",
       "      <td align=\"center\"><img src=\"/nethome/vprabhu9/code/LANCE/release/outputs/HardImageNet/volleyball/ILSVRC2012_val_00025715/in_the_snow.jpeg\" width=\"512\" ></td>\n",
       "      <td align=\"center\"><style='text-align:center;'>tennis ball (95.38%)<br/>racket (3.14%)<br/><font color='green'>volleyball</font> (1.45%)<br/>ping-pong ball (0.01%)<br/>soccer ball (0.01%)<br/></style></td>\n",
       "      <td align=\"center\">0.24</td>\n",
       "    </tr>\n",
       "    <tr>\n",
       "      <th style=\"text-align:center;\">1560</th>\n",
       "      <td align=\"center\"><img src=\"/nethome/vprabhu9/code/LANCE/release/outputs/HardImageNet/volleyball/ILSVRC2012_val_00012002/img.jpeg\" width=\"512\" ></td>\n",
       "      <td align=\"center\">volleyball</td>\n",
       "      <td align=\"center\"><style='text-align:center;'><font color='green'>volleyball</font> (96.48%)<br/>rugby ball (3.16%)<br/>soccer ball (0.25%)<br/>ping-pong ball (0.06%)<br/>basketball (0.03%)<br/></style></td>\n",
       "      <td align=\"center\">a photo of a woman holding a volleyball to her face</td>\n",
       "      <td align=\"center\">a photo of a woman holding a volleyball to her face <mark>on a snowy day</mark></td>\n",
       "      <td align=\"center\">weather</td>\n",
       "      <td align=\"center\"><img src=\"/nethome/vprabhu9/code/LANCE/release/outputs/HardImageNet/volleyball/ILSVRC2012_val_00012002/on_a_snowy_day.jpeg\" width=\"512\" ></td>\n",
       "      <td align=\"center\"><style='text-align:center;'>mask (16.38%)<br/>balaclava ski mask (16.24%)<br/><font color='green'>volleyball</font> (10.32%)<br/>football helmet (9.77%)<br/>soccer ball (8.51%)<br/></style></td>\n",
       "      <td align=\"center\">86.16</td>\n",
       "    </tr>\n",
       "    <tr>\n",
       "      <th style=\"text-align:center;\">1548</th>\n",
       "      <td align=\"center\"><img src=\"/nethome/vprabhu9/code/LANCE/release/outputs/HardImageNet/volleyball/ILSVRC2012_val_00009527/img.jpeg\" width=\"512\" ></td>\n",
       "      <td align=\"center\">volleyball</td>\n",
       "      <td align=\"center\"><style='text-align:center;'><font color='green'>volleyball</font> (95.66%)<br/>racket (2.19%)<br/>tennis ball (0.82%)<br/>swimming cap (0.35%)<br/>hunting bow (0.23%)<br/></style></td>\n",
       "      <td align=\"center\">a photo of a couple of people playing a game of volleyball with horses in the background</td>\n",
       "      <td align=\"center\">a photo of a couple of people playing a game of volleyball <mark>on a snowy day</mark> with horses in the background</td>\n",
       "      <td align=\"center\">weather</td>\n",
       "      <td align=\"center\"><img src=\"/nethome/vprabhu9/code/LANCE/release/outputs/HardImageNet/volleyball/ILSVRC2012_val_00009527/on_a_snowy_day.jpeg\" width=\"512\" ></td>\n",
       "      <td align=\"center\"><style='text-align:center;'><font color='green'>volleyball</font> (58.76%)<br/>pole (6.10%)<br/>racket (5.48%)<br/>tennis ball (4.43%)<br/>bubble (3.96%)<br/></style></td>\n",
       "      <td align=\"center\">36.90</td>\n",
       "    </tr>\n",
       "    <tr>\n",
       "      <th style=\"text-align:center;\">1549</th>\n",
       "      <td align=\"center\"><img src=\"/nethome/vprabhu9/code/LANCE/release/outputs/HardImageNet/volleyball/ILSVRC2012_val_00009527/img.jpeg\" width=\"512\" ></td>\n",
       "      <td align=\"center\">volleyball</td>\n",
       "      <td align=\"center\"><style='text-align:center;'><font color='green'>volleyball</font> (95.66%)<br/>racket (2.19%)<br/>tennis ball (0.82%)<br/>swimming cap (0.35%)<br/>hunting bow (0.23%)<br/></style></td>\n",
       "      <td align=\"center\">a photo of a couple of people playing a game of volleyball with horses in the background</td>\n",
       "      <td align=\"center\">a photo of a couple of people playing a game of volleyball <mark>on a cold day</mark> with horses in the background</td>\n",
       "      <td align=\"center\">weather</td>\n",
       "      <td align=\"center\"><img src=\"/nethome/vprabhu9/code/LANCE/release/outputs/HardImageNet/volleyball/ILSVRC2012_val_00009527/on_a_cold_day.jpeg\" width=\"512\" ></td>\n",
       "      <td align=\"center\"><style='text-align:center;'><font color='green'>volleyball</font> (82.09%)<br/>tennis ball (16.80%)<br/>racket (1.01%)<br/>rugby ball (0.02%)<br/>soccer ball (0.01%)<br/></style></td>\n",
       "      <td align=\"center\">13.57</td>\n",
       "    </tr>\n",
       "    <tr>\n",
       "      <th style=\"text-align:center;\">1557</th>\n",
       "      <td align=\"center\"><img src=\"/nethome/vprabhu9/code/LANCE/release/outputs/HardImageNet/volleyball/ILSVRC2012_val_00003076/img.jpeg\" width=\"512\" ></td>\n",
       "      <td align=\"center\">volleyball</td>\n",
       "      <td align=\"center\"><style='text-align:center;'><font color='green'>volleyball</font> (98.27%)<br/>rugby ball (0.96%)<br/>swimming cap (0.39%)<br/>soccer ball (0.15%)<br/>tights (0.05%)<br/></style></td>\n",
       "      <td align=\"center\">a photo of a woman in a bikini playing volleyball on a beach with a crowd of people in the background</td>\n",
       "      <td align=\"center\">a photo of a woman in a bikini playing volleyball on a beach with a crowd of people in the background <mark>on a snowy day</mark></td>\n",
       "      <td align=\"center\">weather</td>\n",
       "      <td align=\"center\"><img src=\"/nethome/vprabhu9/code/LANCE/release/outputs/HardImageNet/volleyball/ILSVRC2012_val_00003076/on_a_snowy_day.jpeg\" width=\"512\" ></td>\n",
       "      <td align=\"center\"><style='text-align:center;'><font color='green'>volleyball</font> (80.48%)<br/>swimming cap (9.93%)<br/>rugby ball (3.27%)<br/>tights (1.94%)<br/>bikini (1.10%)<br/></style></td>\n",
       "      <td align=\"center\">17.79</td>\n",
       "    </tr>\n",
       "  </tbody>\n",
       "</table>"
      ],
      "text/plain": [
       "<IPython.core.display.HTML object>"
      ]
     },
     "metadata": {},
     "output_type": "display_data"
    },
    {
     "name": "stdout",
     "output_type": "stream",
     "text": [
      "\n",
      "\n",
      "\n",
      "\n"
     ]
    }
   ],
   "source": [
    "%autoreload 2\n",
    "from collections import defaultdict\n",
    "valid_clusters = defaultdict(list)\n",
    "classes = df_cluster['Label'].unique()\n",
    "for cls in classes:\n",
    "    header = \"# Class: {}\".format(cls)\n",
    "    display(print_header(header))\n",
    "    df_class = df_cluster[df_cluster['Label']==cls]\n",
    "    # Sort clusters by mean sensitivity\n",
    "    unique_clusters = df_class['Cluster'].unique()\n",
    "    unique_clusters = sorted(unique_clusters, key=lambda x: df_class[df_class['Cluster']==x]['Sensitivity'].mean(), reverse=True)\n",
    "    for ix in unique_clusters:\n",
    "        df_class_cluster = df_class[df_class['Cluster']==ix]\n",
    "        if len(df_class_cluster.index)>1:\n",
    "            header = \"## Cluster {}: Sensitivity={:.2f}%\".format(ix, df_class_cluster['Sensitivity'].mean())\n",
    "            display(print_header(header))\n",
    "            html = render_as_html(df_class_cluster.head(n=5), sort_by=[\"Image\"])\n",
    "            display(HTML(html))\n",
    "            # write html to file\n",
    "            with open(\"outputs/HardImageNet/{}_cl{}_{:.2f}.html\".format(cls, ix, df_class_cluster['Sensitivity'].mean()), 'w') as f:\n",
    "                f.write(html)\n",
    "            valid_clusters[cls].append(ix)\n",
    "            if len(valid_clusters[cls])>=3: break\n",
    "    print(\"\\n\\n\\n\")"
   ]
  },
  {
   "cell_type": "markdown",
   "metadata": {},
   "source": [
    "### Measure sensitivity and plot!"
   ]
  },
  {
   "cell_type": "markdown",
   "metadata": {},
   "source": [
    "#### Sensitivity by perturbation type"
   ]
  },
  {
   "cell_type": "code",
   "execution_count": 196,
   "metadata": {},
   "outputs": [
    {
     "data": {
      "image/png": "[encoded data removed]",
      "text/plain": [
       "<Figure size 600x400 with 1 Axes>"
      ]
     },
     "metadata": {},
     "output_type": "display_data"
    }
   ],
   "source": [
    "df_class = df_cluster[df_cluster['Label']=='howler monkey']\n",
    "plot_sensitivity(df_class, 'ResNet-50', 'Howler Monkey', x=\"Edit Type\", y=\"Sensitivity\", sort_by=[])"
   ]
  },
  {
   "cell_type": "markdown",
   "metadata": {},
   "source": [
    "#### Sensitivity by edit cluster"
   ]
  },
  {
   "cell_type": "code",
   "execution_count": 197,
   "metadata": {},
   "outputs": [
    {
     "data": {
      "image/png": "[encoded data removed]",
      "text/plain": [
       "<Figure size 600x400 with 1 Axes>"
      ]
     },
     "metadata": {},
     "output_type": "display_data"
    }
   ],
   "source": [
    "df_class_valid = df_class[df_class['Cluster'].isin(valid_clusters['howler monkey'])]\n",
    "plot_sensitivity(df_class_valid, 'ResNet-50', 'Howler Monkey', x=\"Cluster Name\", y=\"Sensitivity\", sort_by=['Avg. sensitivity'])"
   ]
  },
  {
   "cell_type": "code",
   "execution_count": null,
   "metadata": {},
   "outputs": [],
   "source": []
  }
 ],
 "metadata": {
  "kernelspec": {
   "display_name": "lance_dev",
   "language": "python",
   "name": "lance_dev"
  },
  "language_info": {
   "codemirror_mode": {
    "name": "ipython",
    "version": 3
   },
   "file_extension": ".py",
   "mimetype": "text/x-python",
   "name": "python",
   "nbconvert_exporter": "python",
   "pygments_lexer": "ipython3",
   "version": "3.8.5"
  },
  "orig_nbformat": 4
 },
 "nbformat": 4,
 "nbformat_minor": 2
}
